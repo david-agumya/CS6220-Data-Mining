{
 "cells": [
  {
   "cell_type": "markdown",
   "metadata": {},
   "source": [
    "# Binary outcome Classification Model of H1-B Visa Petition Data 2011 -2016 \n",
    "___\n",
    "+ GOAL : TO PREDICT THE OUTCOME OF AN EMPLOYER VISA PETITION APPLICATION BASED ON FEATURES     \n",
    "1) EMPLOYER_NAME < _Decision Tree Classifier ignores this features, Highly branching_ >  \n",
    "2) JOB-TITLE   \n",
    "3) FULL_TIME_POSITION  \n",
    "4) PREVAILING_WAGE  \n",
    "5) YEAR  \n",
    "6) WORKSITE  \n",
    "___\n",
    "** I realised that the goal of this model is to predict the outcome of the petition process. The outcomes we were looking at previously were POSITIVE -> [CERTIFIED], NEGATIVE -> [CERTIFIED WITHDRAWN, DENIED, WITHDRAWN]. However i realised that the actual problem can be solved by focusing on ___TWO OUTCOMES : CERTIFIED and DENIED___ where CERTFIED-WITHDRAWN is considered as CERTIFIED because that petition was approved and later withdrawn. The actual outcome of the petition process was CERTIFIED, it just changed later so we will reflect this. ** \n",
    "___\n",
    "**Secondly we will remove the instances where the outcome is withdrawn because these petitions did not go through the whole process to an outcome of CERTIFIED and denied. **\n",
    "___\n",
    "**This will leave us with a Binary outcome of CERTIFIED or DENIED**"
   ]
  },
  {
   "cell_type": "code",
   "execution_count": 1,
   "metadata": {},
   "outputs": [
    {
     "name": "stdout",
     "output_type": "stream",
     "text": [
      "Populating the interactive namespace from numpy and matplotlib\n"
     ]
    }
   ],
   "source": [
    "%pylab inline\n",
    "import pandas as pd\n",
    "import numpy as np\n",
    "import csv\n",
    "import matplotlib.pyplot as plt\n",
    "matplotlib.style.use('ggplot')\n",
    "import matplotlib.ticker as mtick\n",
    "from scipy import stats\n",
    "from sklearn.model_selection import StratifiedShuffleSplit\n",
    "from sklearn.neighbors import KNeighborsClassifier\n",
    "from sklearn.preprocessing import LabelEncoder\n",
    "\n",
    "warnings.filterwarnings('ignore')"
   ]
  },
  {
   "cell_type": "markdown",
   "metadata": {},
   "source": [
    "## Read In Data"
   ]
  },
  {
   "cell_type": "code",
   "execution_count": 2,
   "metadata": {
    "collapsed": true
   },
   "outputs": [],
   "source": [
    "filePath = \"./Data/h1b_kaggle.csv\"\n",
    "df = pd.read_csv(filePath, header=0)"
   ]
  },
  {
   "cell_type": "markdown",
   "metadata": {},
   "source": [
    "## Data Cleaning and Preprocessing\n",
    "___\n",
    "\n",
    "** Tasks ** \n",
    "___\n",
    "1) Remove features we do not need  \n",
    "2) Remove instances with missing feature values  \n",
    "3) Remove instances where the outcome is \" WITHDRAWN \"  \n",
    "4) Change the outcome \"CERTIFIED-WITHDRAWN\" to \" CERTIFIED \"  \n",
    "5) Remove outliers  \n",
    "6) Change PREVAILING WAGE and YEAR values to int  \n",
    "7) Need to select 20,000 instances to sample  \n",
    "8) Encode categorical features  \n",
    "    a) EMPLOYER_NAME  \n",
    "    b) JOB_TITLE  \n",
    "    c) FULL_TIME_POSITION  \n",
    "    d) WORKSITE  \n",
    "    ___Note : Year and Prevailing wage are int64 data type___  "
   ]
  },
  {
   "cell_type": "code",
   "execution_count": 3,
   "metadata": {
    "collapsed": true
   },
   "outputs": [],
   "source": [
    "# 1) Remove features we do not need \n",
    "# Drop unnecessary features\n",
    "try:\n",
    "    df.drop(['Unnamed: 0', 'lon', 'lat', 'SOC_NAME'], axis=1, inplace=True)\n",
    "except ValueError:\n",
    "    print(\"Already deleted unnecessary features\")\n",
    "original_number_of_instances = len(df)"
   ]
  },
  {
   "cell_type": "code",
   "execution_count": 4,
   "metadata": {
    "collapsed": true
   },
   "outputs": [],
   "source": [
    "# 2) Remove instances with missing feature values\n",
    "df.dropna(inplace=True)"
   ]
  },
  {
   "cell_type": "code",
   "execution_count": 5,
   "metadata": {
    "collapsed": true
   },
   "outputs": [],
   "source": [
    "# 3) Remove instances where outcome is not CERTIFIED | CERTIFIED-WITHDRAWN | DENIED\n",
    "certified = df[\"CASE_STATUS\"] == \"CERTIFIED\"\n",
    "certified_withdrawn = df[\"CASE_STATUS\"] == \"CERTIFIED-WITHDRAWN\"\n",
    "denied = df[\"CASE_STATUS\"] == \"DENIED\"\n",
    "\n",
    "df = df[certified | certified_withdrawn | denied ]"
   ]
  },
  {
   "cell_type": "code",
   "execution_count": 6,
   "metadata": {
    "collapsed": true
   },
   "outputs": [],
   "source": [
    "# 4) Change the outcome \"CERTIFIED-WITHDRAWN\" to \" CERTIFIED \"\n",
    "\n",
    "def convert_certified_withdrawn(x):\n",
    "    ''' Convert outcome CASE_STATUS to CERTIFED where it is CERTIFIED_WITHDRAWN'''\n",
    "    if x == 'CERTIFIED-WITHDRAWN':\n",
    "        x = 'CERTIFIED'\n",
    "    return x\n",
    "\n",
    "df[\"CASE_STATUS\"] = df[\"CASE_STATUS\"].apply(convert_certified_withdrawn)"
   ]
  },
  {
   "cell_type": "code",
   "execution_count": 7,
   "metadata": {
    "collapsed": true
   },
   "outputs": [],
   "source": [
    "# 5) Remove outliers\n",
    "df = df[~(np.abs(df[\"PREVAILING_WAGE\"] - df[\"PREVAILING_WAGE\"].mean()) > (2 * df[\"PREVAILING_WAGE\"].std()))]"
   ]
  },
  {
   "cell_type": "code",
   "execution_count": 8,
   "metadata": {
    "collapsed": true
   },
   "outputs": [],
   "source": [
    "# 6) Change PREVAILING_WAGE and YEAR values to ints\n",
    "def transform_to_int(x):\n",
    "    return int(x)\n",
    "\n",
    "df['PREVAILING_WAGE'] = df[\"PREVAILING_WAGE\"].apply(transform_to_int)\n",
    "df['YEAR'] = df[\"YEAR\"].apply(transform_to_int)"
   ]
  },
  {
   "cell_type": "markdown",
   "metadata": {},
   "source": [
    "# Data Preprocessing"
   ]
  },
  {
   "cell_type": "code",
   "execution_count": 9,
   "metadata": {
    "collapsed": true
   },
   "outputs": [],
   "source": [
    "# 7) Select 20, 000 instances with replacement\n",
    "# df.take() uses positions to select instances\n",
    "df2 = df.take(np.random.permutation(len(df)))[:20000]"
   ]
  },
  {
   "cell_type": "code",
   "execution_count": 10,
   "metadata": {},
   "outputs": [
    {
     "data": {
      "text/plain": [
       "20000"
      ]
     },
     "execution_count": 10,
     "metadata": {},
     "output_type": "execute_result"
    }
   ],
   "source": [
    "len(df2)"
   ]
  },
  {
   "cell_type": "code",
   "execution_count": 11,
   "metadata": {},
   "outputs": [
    {
     "name": "stdout",
     "output_type": "stream",
     "text": [
      "EMPLOYER_NAME + JOB_TITLE + FULL_TIME_POSITION + WORKSITE\n"
     ]
    }
   ],
   "source": [
    "#8) Encode categorical features\n",
    "cols_list = list(df2.columns)\n",
    "s = \" + \".join([item for item in cols_list if (item != \"CASE_STATUS\" and item != \"PREVAILING_WAGE\" and item != \"YEAR\")])\n",
    "print(s)"
   ]
  },
  {
   "cell_type": "code",
   "execution_count": 12,
   "metadata": {
    "collapsed": true
   },
   "outputs": [],
   "source": [
    "X_cat = df2[[\"EMPLOYER_NAME\", \"JOB_TITLE\", \"FULL_TIME_POSITION\", \"WORKSITE\"]]\n",
    "X_num = df2[[\"PREVAILING_WAGE\", \"YEAR\"]]\n",
    "y = df2[\"CASE_STATUS\"]"
   ]
  },
  {
   "cell_type": "code",
   "execution_count": 13,
   "metadata": {},
   "outputs": [
    {
     "data": {
      "text/html": [
       "<div>\n",
       "<style>\n",
       "    .dataframe thead tr:only-child th {\n",
       "        text-align: right;\n",
       "    }\n",
       "\n",
       "    .dataframe thead th {\n",
       "        text-align: left;\n",
       "    }\n",
       "\n",
       "    .dataframe tbody tr th {\n",
       "        vertical-align: top;\n",
       "    }\n",
       "</style>\n",
       "<table border=\"1\" class=\"dataframe\">\n",
       "  <thead>\n",
       "    <tr style=\"text-align: right;\">\n",
       "      <th></th>\n",
       "      <th>EMPLOYER_NAME</th>\n",
       "      <th>JOB_TITLE</th>\n",
       "      <th>FULL_TIME_POSITION</th>\n",
       "      <th>WORKSITE</th>\n",
       "    </tr>\n",
       "  </thead>\n",
       "  <tbody>\n",
       "    <tr>\n",
       "      <th>239216</th>\n",
       "      <td>FOCUZ MINDZ, INC.</td>\n",
       "      <td>COMPUTER PROGRAMMER</td>\n",
       "      <td>N</td>\n",
       "      <td>SUGAR LAND, TEXAS</td>\n",
       "    </tr>\n",
       "    <tr>\n",
       "      <th>1691827</th>\n",
       "      <td>MINDTREE LIMITED</td>\n",
       "      <td>TEST SPECIALIST</td>\n",
       "      <td>Y</td>\n",
       "      <td>SANTA CLARA, CALIFORNIA</td>\n",
       "    </tr>\n",
       "  </tbody>\n",
       "</table>\n",
       "</div>"
      ],
      "text/plain": [
       "             EMPLOYER_NAME            JOB_TITLE FULL_TIME_POSITION  \\\n",
       "239216   FOCUZ MINDZ, INC.  COMPUTER PROGRAMMER                  N   \n",
       "1691827   MINDTREE LIMITED      TEST SPECIALIST                  Y   \n",
       "\n",
       "                        WORKSITE  \n",
       "239216         SUGAR LAND, TEXAS  \n",
       "1691827  SANTA CLARA, CALIFORNIA  "
      ]
     },
     "execution_count": 13,
     "metadata": {},
     "output_type": "execute_result"
    }
   ],
   "source": [
    "X_cat[:2]"
   ]
  },
  {
   "cell_type": "code",
   "execution_count": 14,
   "metadata": {},
   "outputs": [
    {
     "data": {
      "text/html": [
       "<div>\n",
       "<style>\n",
       "    .dataframe thead tr:only-child th {\n",
       "        text-align: right;\n",
       "    }\n",
       "\n",
       "    .dataframe thead th {\n",
       "        text-align: left;\n",
       "    }\n",
       "\n",
       "    .dataframe tbody tr th {\n",
       "        vertical-align: top;\n",
       "    }\n",
       "</style>\n",
       "<table border=\"1\" class=\"dataframe\">\n",
       "  <thead>\n",
       "    <tr style=\"text-align: right;\">\n",
       "      <th></th>\n",
       "      <th>PREVAILING_WAGE</th>\n",
       "      <th>YEAR</th>\n",
       "    </tr>\n",
       "  </thead>\n",
       "  <tbody>\n",
       "    <tr>\n",
       "      <th>239216</th>\n",
       "      <td>48422</td>\n",
       "      <td>2016</td>\n",
       "    </tr>\n",
       "    <tr>\n",
       "      <th>1691827</th>\n",
       "      <td>60528</td>\n",
       "      <td>2014</td>\n",
       "    </tr>\n",
       "  </tbody>\n",
       "</table>\n",
       "</div>"
      ],
      "text/plain": [
       "         PREVAILING_WAGE  YEAR\n",
       "239216             48422  2016\n",
       "1691827            60528  2014"
      ]
     },
     "execution_count": 14,
     "metadata": {},
     "output_type": "execute_result"
    }
   ],
   "source": [
    "X_num[:2]"
   ]
  },
  {
   "cell_type": "code",
   "execution_count": 15,
   "metadata": {},
   "outputs": [
    {
     "data": {
      "text/plain": [
       "239216     CERTIFIED\n",
       "1691827    CERTIFIED\n",
       "Name: CASE_STATUS, dtype: object"
      ]
     },
     "execution_count": 15,
     "metadata": {},
     "output_type": "execute_result"
    }
   ],
   "source": [
    "y[:2]"
   ]
  },
  {
   "cell_type": "code",
   "execution_count": 16,
   "metadata": {},
   "outputs": [
    {
     "data": {
      "text/plain": [
       "EMPLOYER_NAME         object\n",
       "JOB_TITLE             object\n",
       "FULL_TIME_POSITION    object\n",
       "WORKSITE              object\n",
       "dtype: object"
      ]
     },
     "execution_count": 16,
     "metadata": {},
     "output_type": "execute_result"
    }
   ],
   "source": [
    "X_cat.dtypes"
   ]
  },
  {
   "cell_type": "code",
   "execution_count": 17,
   "metadata": {
    "collapsed": true
   },
   "outputs": [],
   "source": [
    "# Encode the categorical features\n",
    "import patsy"
   ]
  },
  {
   "cell_type": "code",
   "execution_count": 18,
   "metadata": {
    "collapsed": true
   },
   "outputs": [],
   "source": [
    "X_cat_encoded = patsy.dmatrix(s, X_cat, return_type='dataframe')"
   ]
  },
  {
   "cell_type": "code",
   "execution_count": 19,
   "metadata": {},
   "outputs": [
    {
     "data": {
      "text/html": [
       "<div>\n",
       "<style>\n",
       "    .dataframe thead tr:only-child th {\n",
       "        text-align: right;\n",
       "    }\n",
       "\n",
       "    .dataframe thead th {\n",
       "        text-align: left;\n",
       "    }\n",
       "\n",
       "    .dataframe tbody tr th {\n",
       "        vertical-align: top;\n",
       "    }\n",
       "</style>\n",
       "<table border=\"1\" class=\"dataframe\">\n",
       "  <thead>\n",
       "    <tr style=\"text-align: right;\">\n",
       "      <th></th>\n",
       "      <th>Intercept</th>\n",
       "      <th>EMPLOYER_NAME[T.1 GIANT MIND INC.]</th>\n",
       "      <th>EMPLOYER_NAME[T.1 TO 1 MARKETING LLC]</th>\n",
       "      <th>EMPLOYER_NAME[T.1 WAY SOLUTIONS, INC.]</th>\n",
       "      <th>EMPLOYER_NAME[T.10 BARREL BREWING, LLC]</th>\n",
       "      <th>EMPLOYER_NAME[T.101224 ENTERPRISES, INC]</th>\n",
       "      <th>EMPLOYER_NAME[T.1199 SEIU BENEFIT AND PENSION FUNDS]</th>\n",
       "      <th>EMPLOYER_NAME[T.13TH STREET ENTERTAINMENT, LLC]</th>\n",
       "      <th>EMPLOYER_NAME[T.1A AUTO, INC.]</th>\n",
       "      <th>EMPLOYER_NAME[T.1FOR.ONE CORPORATION]</th>\n",
       "      <th>...</th>\n",
       "      <th>WORKSITE[T.YORKTOWN HEIGHTS, NEW YORK]</th>\n",
       "      <th>WORKSITE[T.YORKTOWN HEIGHTS, NORTH CAROLINA]</th>\n",
       "      <th>WORKSITE[T.YORKTOWN, VIRGINIA]</th>\n",
       "      <th>WORKSITE[T.YOUNGSTOWN, OHIO]</th>\n",
       "      <th>WORKSITE[T.YPSILANTI, MICHIGAN]</th>\n",
       "      <th>WORKSITE[T.YULEE, FLORIDA]</th>\n",
       "      <th>WORKSITE[T.YUMA, ARIZONA]</th>\n",
       "      <th>WORKSITE[T.ZANESVILLE, OHIO]</th>\n",
       "      <th>WORKSITE[T.ZEBULON, NORTH CAROLINA]</th>\n",
       "      <th>WORKSITE[T.ZIONSVILLE, INDIANA]</th>\n",
       "    </tr>\n",
       "  </thead>\n",
       "  <tbody>\n",
       "    <tr>\n",
       "      <th>239216</th>\n",
       "      <td>1.0</td>\n",
       "      <td>0.0</td>\n",
       "      <td>0.0</td>\n",
       "      <td>0.0</td>\n",
       "      <td>0.0</td>\n",
       "      <td>0.0</td>\n",
       "      <td>0.0</td>\n",
       "      <td>0.0</td>\n",
       "      <td>0.0</td>\n",
       "      <td>0.0</td>\n",
       "      <td>...</td>\n",
       "      <td>0.0</td>\n",
       "      <td>0.0</td>\n",
       "      <td>0.0</td>\n",
       "      <td>0.0</td>\n",
       "      <td>0.0</td>\n",
       "      <td>0.0</td>\n",
       "      <td>0.0</td>\n",
       "      <td>0.0</td>\n",
       "      <td>0.0</td>\n",
       "      <td>0.0</td>\n",
       "    </tr>\n",
       "    <tr>\n",
       "      <th>1691827</th>\n",
       "      <td>1.0</td>\n",
       "      <td>0.0</td>\n",
       "      <td>0.0</td>\n",
       "      <td>0.0</td>\n",
       "      <td>0.0</td>\n",
       "      <td>0.0</td>\n",
       "      <td>0.0</td>\n",
       "      <td>0.0</td>\n",
       "      <td>0.0</td>\n",
       "      <td>0.0</td>\n",
       "      <td>...</td>\n",
       "      <td>0.0</td>\n",
       "      <td>0.0</td>\n",
       "      <td>0.0</td>\n",
       "      <td>0.0</td>\n",
       "      <td>0.0</td>\n",
       "      <td>0.0</td>\n",
       "      <td>0.0</td>\n",
       "      <td>0.0</td>\n",
       "      <td>0.0</td>\n",
       "      <td>0.0</td>\n",
       "    </tr>\n",
       "  </tbody>\n",
       "</table>\n",
       "<p>2 rows × 18426 columns</p>\n",
       "</div>"
      ],
      "text/plain": [
       "         Intercept  EMPLOYER_NAME[T.1 GIANT MIND INC.]  \\\n",
       "239216         1.0                                 0.0   \n",
       "1691827        1.0                                 0.0   \n",
       "\n",
       "         EMPLOYER_NAME[T.1 TO 1 MARKETING LLC]  \\\n",
       "239216                                     0.0   \n",
       "1691827                                    0.0   \n",
       "\n",
       "         EMPLOYER_NAME[T.1 WAY SOLUTIONS, INC.]  \\\n",
       "239216                                      0.0   \n",
       "1691827                                     0.0   \n",
       "\n",
       "         EMPLOYER_NAME[T.10 BARREL BREWING, LLC]  \\\n",
       "239216                                       0.0   \n",
       "1691827                                      0.0   \n",
       "\n",
       "         EMPLOYER_NAME[T.101224 ENTERPRISES, INC]  \\\n",
       "239216                                        0.0   \n",
       "1691827                                       0.0   \n",
       "\n",
       "         EMPLOYER_NAME[T.1199 SEIU BENEFIT AND PENSION FUNDS]  \\\n",
       "239216                                                 0.0      \n",
       "1691827                                                0.0      \n",
       "\n",
       "         EMPLOYER_NAME[T.13TH STREET ENTERTAINMENT, LLC]  \\\n",
       "239216                                               0.0   \n",
       "1691827                                              0.0   \n",
       "\n",
       "         EMPLOYER_NAME[T.1A AUTO, INC.]  \\\n",
       "239216                              0.0   \n",
       "1691827                             0.0   \n",
       "\n",
       "         EMPLOYER_NAME[T.1FOR.ONE CORPORATION]  \\\n",
       "239216                                     0.0   \n",
       "1691827                                    0.0   \n",
       "\n",
       "                      ...                 \\\n",
       "239216                ...                  \n",
       "1691827               ...                  \n",
       "\n",
       "         WORKSITE[T.YORKTOWN HEIGHTS, NEW YORK]  \\\n",
       "239216                                      0.0   \n",
       "1691827                                     0.0   \n",
       "\n",
       "         WORKSITE[T.YORKTOWN HEIGHTS, NORTH CAROLINA]  \\\n",
       "239216                                            0.0   \n",
       "1691827                                           0.0   \n",
       "\n",
       "         WORKSITE[T.YORKTOWN, VIRGINIA]  WORKSITE[T.YOUNGSTOWN, OHIO]  \\\n",
       "239216                              0.0                           0.0   \n",
       "1691827                             0.0                           0.0   \n",
       "\n",
       "         WORKSITE[T.YPSILANTI, MICHIGAN]  WORKSITE[T.YULEE, FLORIDA]  \\\n",
       "239216                               0.0                         0.0   \n",
       "1691827                              0.0                         0.0   \n",
       "\n",
       "         WORKSITE[T.YUMA, ARIZONA]  WORKSITE[T.ZANESVILLE, OHIO]  \\\n",
       "239216                         0.0                           0.0   \n",
       "1691827                        0.0                           0.0   \n",
       "\n",
       "         WORKSITE[T.ZEBULON, NORTH CAROLINA]  WORKSITE[T.ZIONSVILLE, INDIANA]  \n",
       "239216                                   0.0                              0.0  \n",
       "1691827                                  0.0                              0.0  \n",
       "\n",
       "[2 rows x 18426 columns]"
      ]
     },
     "execution_count": 19,
     "metadata": {},
     "output_type": "execute_result"
    }
   ],
   "source": [
    "X_cat_encoded[:2]"
   ]
  },
  {
   "cell_type": "code",
   "execution_count": 20,
   "metadata": {
    "collapsed": true
   },
   "outputs": [],
   "source": [
    "X = X_cat_encoded[:]\n",
    "X[[\"PREVAILING_WAGE\", \"YEAR\"]] = X_num"
   ]
  },
  {
   "cell_type": "code",
   "execution_count": 21,
   "metadata": {},
   "outputs": [
    {
     "data": {
      "text/html": [
       "<div>\n",
       "<style>\n",
       "    .dataframe thead tr:only-child th {\n",
       "        text-align: right;\n",
       "    }\n",
       "\n",
       "    .dataframe thead th {\n",
       "        text-align: left;\n",
       "    }\n",
       "\n",
       "    .dataframe tbody tr th {\n",
       "        vertical-align: top;\n",
       "    }\n",
       "</style>\n",
       "<table border=\"1\" class=\"dataframe\">\n",
       "  <thead>\n",
       "    <tr style=\"text-align: right;\">\n",
       "      <th></th>\n",
       "      <th>Intercept</th>\n",
       "      <th>EMPLOYER_NAME[T.1 GIANT MIND INC.]</th>\n",
       "      <th>EMPLOYER_NAME[T.1 TO 1 MARKETING LLC]</th>\n",
       "      <th>EMPLOYER_NAME[T.1 WAY SOLUTIONS, INC.]</th>\n",
       "      <th>EMPLOYER_NAME[T.10 BARREL BREWING, LLC]</th>\n",
       "      <th>EMPLOYER_NAME[T.101224 ENTERPRISES, INC]</th>\n",
       "      <th>EMPLOYER_NAME[T.1199 SEIU BENEFIT AND PENSION FUNDS]</th>\n",
       "      <th>EMPLOYER_NAME[T.13TH STREET ENTERTAINMENT, LLC]</th>\n",
       "      <th>EMPLOYER_NAME[T.1A AUTO, INC.]</th>\n",
       "      <th>EMPLOYER_NAME[T.1FOR.ONE CORPORATION]</th>\n",
       "      <th>...</th>\n",
       "      <th>WORKSITE[T.YORKTOWN, VIRGINIA]</th>\n",
       "      <th>WORKSITE[T.YOUNGSTOWN, OHIO]</th>\n",
       "      <th>WORKSITE[T.YPSILANTI, MICHIGAN]</th>\n",
       "      <th>WORKSITE[T.YULEE, FLORIDA]</th>\n",
       "      <th>WORKSITE[T.YUMA, ARIZONA]</th>\n",
       "      <th>WORKSITE[T.ZANESVILLE, OHIO]</th>\n",
       "      <th>WORKSITE[T.ZEBULON, NORTH CAROLINA]</th>\n",
       "      <th>WORKSITE[T.ZIONSVILLE, INDIANA]</th>\n",
       "      <th>PREVAILING_WAGE</th>\n",
       "      <th>YEAR</th>\n",
       "    </tr>\n",
       "  </thead>\n",
       "  <tbody>\n",
       "    <tr>\n",
       "      <th>239216</th>\n",
       "      <td>1.0</td>\n",
       "      <td>0.0</td>\n",
       "      <td>0.0</td>\n",
       "      <td>0.0</td>\n",
       "      <td>0.0</td>\n",
       "      <td>0.0</td>\n",
       "      <td>0.0</td>\n",
       "      <td>0.0</td>\n",
       "      <td>0.0</td>\n",
       "      <td>0.0</td>\n",
       "      <td>...</td>\n",
       "      <td>0.0</td>\n",
       "      <td>0.0</td>\n",
       "      <td>0.0</td>\n",
       "      <td>0.0</td>\n",
       "      <td>0.0</td>\n",
       "      <td>0.0</td>\n",
       "      <td>0.0</td>\n",
       "      <td>0.0</td>\n",
       "      <td>48422</td>\n",
       "      <td>2016</td>\n",
       "    </tr>\n",
       "    <tr>\n",
       "      <th>1691827</th>\n",
       "      <td>1.0</td>\n",
       "      <td>0.0</td>\n",
       "      <td>0.0</td>\n",
       "      <td>0.0</td>\n",
       "      <td>0.0</td>\n",
       "      <td>0.0</td>\n",
       "      <td>0.0</td>\n",
       "      <td>0.0</td>\n",
       "      <td>0.0</td>\n",
       "      <td>0.0</td>\n",
       "      <td>...</td>\n",
       "      <td>0.0</td>\n",
       "      <td>0.0</td>\n",
       "      <td>0.0</td>\n",
       "      <td>0.0</td>\n",
       "      <td>0.0</td>\n",
       "      <td>0.0</td>\n",
       "      <td>0.0</td>\n",
       "      <td>0.0</td>\n",
       "      <td>60528</td>\n",
       "      <td>2014</td>\n",
       "    </tr>\n",
       "  </tbody>\n",
       "</table>\n",
       "<p>2 rows × 18428 columns</p>\n",
       "</div>"
      ],
      "text/plain": [
       "         Intercept  EMPLOYER_NAME[T.1 GIANT MIND INC.]  \\\n",
       "239216         1.0                                 0.0   \n",
       "1691827        1.0                                 0.0   \n",
       "\n",
       "         EMPLOYER_NAME[T.1 TO 1 MARKETING LLC]  \\\n",
       "239216                                     0.0   \n",
       "1691827                                    0.0   \n",
       "\n",
       "         EMPLOYER_NAME[T.1 WAY SOLUTIONS, INC.]  \\\n",
       "239216                                      0.0   \n",
       "1691827                                     0.0   \n",
       "\n",
       "         EMPLOYER_NAME[T.10 BARREL BREWING, LLC]  \\\n",
       "239216                                       0.0   \n",
       "1691827                                      0.0   \n",
       "\n",
       "         EMPLOYER_NAME[T.101224 ENTERPRISES, INC]  \\\n",
       "239216                                        0.0   \n",
       "1691827                                       0.0   \n",
       "\n",
       "         EMPLOYER_NAME[T.1199 SEIU BENEFIT AND PENSION FUNDS]  \\\n",
       "239216                                                 0.0      \n",
       "1691827                                                0.0      \n",
       "\n",
       "         EMPLOYER_NAME[T.13TH STREET ENTERTAINMENT, LLC]  \\\n",
       "239216                                               0.0   \n",
       "1691827                                              0.0   \n",
       "\n",
       "         EMPLOYER_NAME[T.1A AUTO, INC.]  \\\n",
       "239216                              0.0   \n",
       "1691827                             0.0   \n",
       "\n",
       "         EMPLOYER_NAME[T.1FOR.ONE CORPORATION]  ...   \\\n",
       "239216                                     0.0  ...    \n",
       "1691827                                    0.0  ...    \n",
       "\n",
       "         WORKSITE[T.YORKTOWN, VIRGINIA]  WORKSITE[T.YOUNGSTOWN, OHIO]  \\\n",
       "239216                              0.0                           0.0   \n",
       "1691827                             0.0                           0.0   \n",
       "\n",
       "         WORKSITE[T.YPSILANTI, MICHIGAN]  WORKSITE[T.YULEE, FLORIDA]  \\\n",
       "239216                               0.0                         0.0   \n",
       "1691827                              0.0                         0.0   \n",
       "\n",
       "         WORKSITE[T.YUMA, ARIZONA]  WORKSITE[T.ZANESVILLE, OHIO]  \\\n",
       "239216                         0.0                           0.0   \n",
       "1691827                        0.0                           0.0   \n",
       "\n",
       "         WORKSITE[T.ZEBULON, NORTH CAROLINA]  WORKSITE[T.ZIONSVILLE, INDIANA]  \\\n",
       "239216                                   0.0                              0.0   \n",
       "1691827                                  0.0                              0.0   \n",
       "\n",
       "         PREVAILING_WAGE  YEAR  \n",
       "239216             48422  2016  \n",
       "1691827            60528  2014  \n",
       "\n",
       "[2 rows x 18428 columns]"
      ]
     },
     "execution_count": 21,
     "metadata": {},
     "output_type": "execute_result"
    }
   ],
   "source": [
    "X[:2]"
   ]
  },
  {
   "cell_type": "code",
   "execution_count": 22,
   "metadata": {},
   "outputs": [
    {
     "data": {
      "text/plain": [
       "StratifiedShuffleSplit(n_splits=10, random_state=0, test_size=0.2,\n",
       "            train_size=None)"
      ]
     },
     "execution_count": 22,
     "metadata": {},
     "output_type": "execute_result"
    }
   ],
   "source": [
    "# 8 ) Split the Data\n",
    "# Train - 80 percent \n",
    "# Test - 20 percent \n",
    "sss = StratifiedShuffleSplit(n_splits=10, test_size=0.2, random_state=0)\n",
    "sss"
   ]
  },
  {
   "cell_type": "code",
   "execution_count": 23,
   "metadata": {
    "collapsed": true
   },
   "outputs": [],
   "source": [
    "X_vals = X.values\n",
    "y_vals = y.values"
   ]
  },
  {
   "cell_type": "code",
   "execution_count": 24,
   "metadata": {
    "collapsed": true
   },
   "outputs": [],
   "source": [
    "for train_index, test_index in sss.split(X_vals, y_vals):\n",
    "    X_train, X_test = X_vals[train_index], X_vals[test_index]\n",
    "    y_train, y_test = y_vals[train_index], y_vals[test_index]"
   ]
  },
  {
   "cell_type": "code",
   "execution_count": 25,
   "metadata": {},
   "outputs": [
    {
     "name": "stdout",
     "output_type": "stream",
     "text": [
      "X_train number of instance : 16000\n",
      "X_test number of instance : 4000\n",
      "y_train number of instance : 16000\n",
      "y_test number of instance : 4000\n"
     ]
    }
   ],
   "source": [
    "X_train_len  = len(X_train)\n",
    "X_test_len  = len(X_test)\n",
    "y_train_len  = len(y_train)\n",
    "y_test_len  = len(y_test)\n",
    "\n",
    "print(\"X_train number of instance : {}\".format(X_train_len))\n",
    "print(\"X_test number of instance : {}\".format(X_test_len))\n",
    "print(\"y_train number of instance : {}\".format(y_train_len))\n",
    "print(\"y_test number of instance : {}\".format(y_test_len))"
   ]
  },
  {
   "cell_type": "code",
   "execution_count": 26,
   "metadata": {},
   "outputs": [
    {
     "data": {
      "text/plain": [
       "CERTIFIED    19384\n",
       "DENIED         616\n",
       "Name: CASE_STATUS, dtype: int64"
      ]
     },
     "execution_count": 26,
     "metadata": {},
     "output_type": "execute_result"
    }
   ],
   "source": [
    "y.value_counts()"
   ]
  },
  {
   "cell_type": "code",
   "execution_count": 27,
   "metadata": {
    "collapsed": true
   },
   "outputs": [],
   "source": [
    "# y = y.apply(convert_certified_withdrawn)\n",
    "# y.value_counts()"
   ]
  },
  {
   "cell_type": "markdown",
   "metadata": {},
   "source": [
    "# Modeling"
   ]
  },
  {
   "cell_type": "markdown",
   "metadata": {},
   "source": [
    "## K-Nearest Neighbours Classifier"
   ]
  },
  {
   "cell_type": "code",
   "execution_count": 28,
   "metadata": {
    "collapsed": true
   },
   "outputs": [],
   "source": [
    "neigh = KNeighborsClassifier(n_neighbors=3)\n",
    "k_nearest_cls = neigh.fit(X_train, y_train)"
   ]
  },
  {
   "cell_type": "code",
   "execution_count": 29,
   "metadata": {
    "collapsed": true
   },
   "outputs": [],
   "source": [
    "predicted = neigh.predict(X_test)"
   ]
  },
  {
   "cell_type": "markdown",
   "metadata": {},
   "source": [
    "## Evaluation of classifier"
   ]
  },
  {
   "cell_type": "code",
   "execution_count": 30,
   "metadata": {
    "collapsed": true
   },
   "outputs": [],
   "source": [
    "from sklearn.metrics import classification_report, accuracy_score, precision_score, recall_score\n",
    "from sklearn.metrics import f1_score, confusion_matrix, precision_recall_curve, roc_curve\n",
    "from sklearn.metrics import roc_auc_score"
   ]
  },
  {
   "cell_type": "markdown",
   "metadata": {},
   "source": [
    "### Classification Report\n",
    "---"
   ]
  },
  {
   "cell_type": "code",
   "execution_count": 31,
   "metadata": {},
   "outputs": [
    {
     "name": "stdout",
     "output_type": "stream",
     "text": [
      "             precision    recall  f1-score   support\n",
      "\n",
      "  CERTIFIED       0.97      1.00      0.98      3877\n",
      "     DENIED       0.21      0.04      0.07       123\n",
      "\n",
      "avg / total       0.95      0.97      0.95      4000\n",
      "\n"
     ]
    }
   ],
   "source": [
    "y_true = y_test[:]\n",
    "y_pred = predicted[:]\n",
    "print(classification_report(y_true, y_pred))"
   ]
  },
  {
   "cell_type": "markdown",
   "metadata": {},
   "source": [
    "### Accuracy Score"
   ]
  },
  {
   "cell_type": "code",
   "execution_count": 32,
   "metadata": {},
   "outputs": [
    {
     "name": "stdout",
     "output_type": "stream",
     "text": [
      "Normalized Accuracy Score : 0.966 \n",
      "Correctly Classified 3863 out of 4000 instance\n"
     ]
    }
   ],
   "source": [
    "print(\"Normalized Accuracy Score : {:.3f} \".format(accuracy_score(y_true, y_pred)))\n",
    "print(\"Correctly Classified {:d} out of {} instance\".format(accuracy_score(y_true, \n",
    "                                                                           y_pred, \n",
    "                                                                           normalize=False), \n",
    "                                                                           len(y_test)))"
   ]
  },
  {
   "cell_type": "markdown",
   "metadata": {},
   "source": [
    "+ This is actually misleading. The number of TP is high but the number of TN are not high. "
   ]
  },
  {
   "cell_type": "markdown",
   "metadata": {},
   "source": [
    "#### Precision Score\n",
    "___\n",
    "The precision is the ratio tp / (tp + fp) where tp is the number of true positives and fp the number of false positives. The precision is intuitively the ability of the classifier not to label as positive a sample that is negative.\n",
    "The best value is 1 and the worst value is 0."
   ]
  },
  {
   "cell_type": "code",
   "execution_count": 33,
   "metadata": {},
   "outputs": [
    {
     "name": "stdout",
     "output_type": "stream",
     "text": [
      "Precision score is 0.97\n"
     ]
    }
   ],
   "source": [
    "classifier_p_score = precision_score(y_true, y_pred, pos_label=\"CERTIFIED\")\n",
    "print(\"Precision score is {:.2f}\".format(classifier_p_score))"
   ]
  },
  {
   "cell_type": "markdown",
   "metadata": {},
   "source": [
    "#### Recall Score\n",
    "___\n",
    "The recall is the ratio tp / (tp + fn) where tp is the number of true positives and fn the number of false negatives. The recall is intuitively the ability of the classifier to find all the positive samples. The best value is 1 and the worst value is 0."
   ]
  },
  {
   "cell_type": "code",
   "execution_count": 34,
   "metadata": {},
   "outputs": [
    {
     "name": "stdout",
     "output_type": "stream",
     "text": [
      "Recall Score is 0.97\n"
     ]
    }
   ],
   "source": [
    "classifier_r_score_w = recall_score(y_true, y_pred, average='weighted')\n",
    "print(\"Recall Score is {:.2f}\".format(classifier_r_score_w))"
   ]
  },
  {
   "cell_type": "markdown",
   "metadata": {},
   "source": [
    "#### Confusion Matrix\n",
    "___"
   ]
  },
  {
   "cell_type": "code",
   "execution_count": 35,
   "metadata": {
    "collapsed": true
   },
   "outputs": [],
   "source": [
    "import itertools\n",
    "def plot_confusion_matrix(cm, classes,\n",
    "                          normalize=False,\n",
    "                          title='Confusion matrix',\n",
    "                          cmap=plt.cm.Blues):\n",
    "    \"\"\"\n",
    "    This function prints and plots the confusion matrix.\n",
    "    Normalization can be applied by setting `normalize=True`.\n",
    "    \"\"\"\n",
    "    if normalize:\n",
    "        cm = cm.astype('float') / cm.sum(axis=1)[:, np.newaxis]\n",
    "        print(\"Normalized confusion matrix\")\n",
    "    else:\n",
    "        print('Confusion matrix, without normalization')\n",
    "\n",
    "    print(cm)\n",
    "\n",
    "    plt.imshow(cm, interpolation='nearest', cmap=cmap)\n",
    "    plt.title(title)\n",
    "    plt.colorbar()\n",
    "    tick_marks = np.arange(len(classes))\n",
    "    plt.xticks(tick_marks, classes, rotation=45)\n",
    "    plt.yticks(tick_marks, classes)\n",
    "\n",
    "    fmt = '.2f' if normalize else 'd'\n",
    "    thresh = cm.max() / 2.\n",
    "    for i, j in itertools.product(range(cm.shape[0]), range(cm.shape[1])):\n",
    "        plt.text(j, i, format(cm[i, j], fmt),\n",
    "                 horizontalalignment=\"center\",\n",
    "                 color=\"white\" if cm[i, j] > thresh else \"black\")\n",
    "\n",
    "    plt.tight_layout()\n",
    "    plt.ylabel('True label')\n",
    "    plt.xlabel('Predicted label')"
   ]
  },
  {
   "cell_type": "code",
   "execution_count": 36,
   "metadata": {},
   "outputs": [
    {
     "data": {
      "text/plain": [
       "array([[3858,   19],\n",
       "       [ 118,    5]])"
      ]
     },
     "execution_count": 36,
     "metadata": {},
     "output_type": "execute_result"
    }
   ],
   "source": [
    "confusion_matrix(y_true, y_pred)"
   ]
  },
  {
   "cell_type": "code",
   "execution_count": 37,
   "metadata": {
    "collapsed": true
   },
   "outputs": [],
   "source": [
    "# Compute confusion matrix\n",
    "cnf_matrix = confusion_matrix(y_test, y_pred)\n",
    "np.set_printoptions(precision=2)\n",
    "class_names = ['CERTIFIED','DENIED']"
   ]
  },
  {
   "cell_type": "code",
   "execution_count": 38,
   "metadata": {},
   "outputs": [
    {
     "name": "stdout",
     "output_type": "stream",
     "text": [
      "Confusion matrix, without normalization\n",
      "[[3858   19]\n",
      " [ 118    5]]\n"
     ]
    },
    {
     "data": {
      "image/png": "[encoded data removed]",
      "text/plain": [
       "<matplotlib.figure.Figure at 0x114745978>"
      ]
     },
     "metadata": {},
     "output_type": "display_data"
    }
   ],
   "source": [
    "# Plot non-normalized confusion matrix\n",
    "plt.figure()\n",
    "plot_confusion_matrix(cnf_matrix, classes=class_names,\n",
    "                      title='Confusion matrix, without normalization')\n"
   ]
  },
  {
   "cell_type": "code",
   "execution_count": 39,
   "metadata": {},
   "outputs": [
    {
     "name": "stdout",
     "output_type": "stream",
     "text": [
      "Normalized confusion matrix\n",
      "[[ 1.    0.  ]\n",
      " [ 0.96  0.04]]\n"
     ]
    },
    {
     "data": {
      "image/png": "[encoded data removed]",
      "text/plain": [
       "<matplotlib.figure.Figure at 0x11552ac18>"
      ]
     },
     "metadata": {},
     "output_type": "display_data"
    }
   ],
   "source": [
    "# Plot normalized confusion matrix\n",
    "plt.figure()\n",
    "plot_confusion_matrix(cnf_matrix, classes=class_names, normalize=True,\n",
    "                      title='Normalized confusion matrix')\n",
    "\n",
    "plt.show()"
   ]
  },
  {
   "cell_type": "markdown",
   "metadata": {},
   "source": [
    "The diagonal elements represent the number of points for which the predicted label is equal to the true label, while off-diagonal elements are those that are mislabeled by the classifier. The higher the diagonal values of the confusion matrix the better, indicating many correct predictions\n",
    "\n",
    "From this confusion matrix we can see that, the instances that are actually denied are predicted as certified. This is a high number of false positives\n",
    "___\n",
    "This means this model is good at predicting TP outcomes. In other words good at predicting outcomes where the  petion application is certified. But it is not good at predicting outcome is negative. This is reflected in the high number of [FP] "
   ]
  },
  {
   "cell_type": "markdown",
   "metadata": {},
   "source": [
    "#### ROC Curve\n",
    "___\n"
   ]
  },
  {
   "cell_type": "code",
   "execution_count": 40,
   "metadata": {
    "collapsed": true
   },
   "outputs": [],
   "source": [
    "y_score = k_nearest_cls.predict_proba(X_test)"
   ]
  },
  {
   "cell_type": "code",
   "execution_count": 41,
   "metadata": {
    "collapsed": true
   },
   "outputs": [],
   "source": [
    "fpr, tpr, thresholds = roc_curve(y_true, y_score[:,1], pos_label='CERTIFIED')"
   ]
  },
  {
   "cell_type": "code",
   "execution_count": 42,
   "metadata": {},
   "outputs": [
    {
     "data": {
      "image/png": "[encoded data removed]",
      "text/plain": [
       "<matplotlib.figure.Figure at 0x115845828>"
      ]
     },
     "metadata": {},
     "output_type": "display_data"
    }
   ],
   "source": [
    "plt.plot(fpr, tpr, 'b-')\n",
    "plt.plot([0, 1], [0, 1], 'r--')\n",
    "plt.title(\"ROC Curve for K Nearest Neighbours Classifier\")\n",
    "plt.ylabel(\"True Positive Rate\")\n",
    "plt.xlabel(\"False Positive Rate\")\n",
    "plt.legend(loc=\"lower right\")\n",
    "plt.show()"
   ]
  },
  {
   "cell_type": "markdown",
   "metadata": {},
   "source": [
    "+ The red line reflects the perfomance of a random classifier, this shows that that this model's performance is poor such that it is even a random classifier would have a slightly better performance"
   ]
  },
  {
   "cell_type": "markdown",
   "metadata": {},
   "source": [
    "#### Precision Recall Curve\n",
    "___"
   ]
  },
  {
   "cell_type": "code",
   "execution_count": 43,
   "metadata": {
    "collapsed": true
   },
   "outputs": [],
   "source": [
    "precision, recall, threshold = precision_recall_curve(y_true, y_score[:,1], pos_label='CERTIFIED')\n",
    "precision2, recall2, threshold2 = precision_recall_curve(y_true, y_score[:,0], pos_label='CERTIFIED')"
   ]
  },
  {
   "cell_type": "code",
   "execution_count": 44,
   "metadata": {},
   "outputs": [
    {
     "data": {
      "image/png": "[encoded data removed]",
      "text/plain": [
       "<matplotlib.figure.Figure at 0x1158fdeb8>"
      ]
     },
     "metadata": {},
     "output_type": "display_data"
    }
   ],
   "source": [
    "plt.figure()\n",
    "plt.plot(recall, precision, 'r-')\n",
    "plt.plot(recall2, precision2, 'b--')\n",
    "plt.title(\"Precision Recall Curve For K-Nearest Neighbors\")\n",
    "plt.ylabel(\"Precision\")\n",
    "plt.xlabel(\"Recall\")\n",
    "plt.show()"
   ]
  },
  {
   "cell_type": "markdown",
   "metadata": {},
   "source": [
    "+ This curve is wierd. Something might be off "
   ]
  },
  {
   "cell_type": "markdown",
   "metadata": {},
   "source": [
    "# Gaussian Naive Bayes classifier"
   ]
  },
  {
   "cell_type": "code",
   "execution_count": 45,
   "metadata": {
    "collapsed": true
   },
   "outputs": [],
   "source": [
    "from sklearn.naive_bayes import GaussianNB"
   ]
  },
  {
   "cell_type": "code",
   "execution_count": 46,
   "metadata": {
    "collapsed": true
   },
   "outputs": [],
   "source": [
    "gnb = GaussianNB()"
   ]
  },
  {
   "cell_type": "code",
   "execution_count": 47,
   "metadata": {
    "collapsed": true
   },
   "outputs": [],
   "source": [
    "gnb_cls = gnb.fit(X_train, y_train)\n",
    "y_pred_bayes = gnb_cls.predict(X_test)"
   ]
  },
  {
   "cell_type": "markdown",
   "metadata": {},
   "source": [
    "## Evaluation of Gaussian Naive Bayes Classifier"
   ]
  },
  {
   "cell_type": "markdown",
   "metadata": {},
   "source": [
    "#### Classification Report"
   ]
  },
  {
   "cell_type": "code",
   "execution_count": 48,
   "metadata": {},
   "outputs": [
    {
     "name": "stdout",
     "output_type": "stream",
     "text": [
      "             precision    recall  f1-score   support\n",
      "\n",
      "  CERTIFIED       0.97      0.99      0.98      3877\n",
      "     DENIED       0.07      0.02      0.04       123\n",
      "\n",
      "avg / total       0.94      0.96      0.95      4000\n",
      "\n"
     ]
    }
   ],
   "source": [
    "print(classification_report(y_test, y_pred_bayes))"
   ]
  },
  {
   "cell_type": "markdown",
   "metadata": {},
   "source": [
    "#### Confusion Matrix"
   ]
  },
  {
   "cell_type": "code",
   "execution_count": 49,
   "metadata": {},
   "outputs": [
    {
     "data": {
      "text/plain": [
       "array([[3835,   42],\n",
       "       [ 120,    3]])"
      ]
     },
     "execution_count": 49,
     "metadata": {},
     "output_type": "execute_result"
    }
   ],
   "source": [
    "confusion_matrix(y_test, y_pred_bayes)"
   ]
  },
  {
   "cell_type": "code",
   "execution_count": 50,
   "metadata": {
    "collapsed": true
   },
   "outputs": [],
   "source": [
    "# Compute confusion matrix\n",
    "cnf_matrix_bayes = confusion_matrix(y_test, y_pred_bayes)\n",
    "np.set_printoptions(precision=2)\n",
    "class_names = ['CERTIFIED','DENIED']"
   ]
  },
  {
   "cell_type": "code",
   "execution_count": 51,
   "metadata": {},
   "outputs": [
    {
     "name": "stdout",
     "output_type": "stream",
     "text": [
      "Confusion matrix, without normalization\n",
      "[[3835   42]\n",
      " [ 120    3]]\n"
     ]
    },
    {
     "data": {
      "image/png": "[encoded data removed]",
      "text/plain": [
       "<matplotlib.figure.Figure at 0x115a73400>"
      ]
     },
     "metadata": {},
     "output_type": "display_data"
    }
   ],
   "source": [
    "# Plot non-normalized confusion matrix\n",
    "plt.figure()\n",
    "plot_confusion_matrix(cnf_matrix_bayes, classes=class_names,\n",
    "                      title='Bayes Classifier Confusion matrix, without normalization')"
   ]
  },
  {
   "cell_type": "code",
   "execution_count": 52,
   "metadata": {},
   "outputs": [
    {
     "name": "stdout",
     "output_type": "stream",
     "text": [
      "Normalized confusion matrix\n",
      "[[ 0.99  0.01]\n",
      " [ 0.98  0.02]]\n"
     ]
    },
    {
     "data": {
      "image/png": "[encoded data removed]",
      "text/plain": [
       "<matplotlib.figure.Figure at 0x115cac128>"
      ]
     },
     "metadata": {},
     "output_type": "display_data"
    }
   ],
   "source": [
    "# Plot normalized confusion matrix\n",
    "plt.figure()\n",
    "plot_confusion_matrix(cnf_matrix_bayes, classes=class_names,\n",
    "                      title='Bayes Classifier Confusion matrix, without normalization', normalize=True)"
   ]
  },
  {
   "cell_type": "markdown",
   "metadata": {},
   "source": [
    "#### Accuracy Report\n",
    "___"
   ]
  },
  {
   "cell_type": "code",
   "execution_count": 53,
   "metadata": {},
   "outputs": [
    {
     "name": "stdout",
     "output_type": "stream",
     "text": [
      "Normalized Accuracy Score : 0.960 \n",
      "Correctly Classified 3863 out of 4000 instance\n"
     ]
    }
   ],
   "source": [
    "print(\"Normalized Accuracy Score : {:.3f} \".format(accuracy_score(y_true, y_pred_bayes)))\n",
    "print(\"Correctly Classified {:d} out of {} instance\".format(accuracy_score(y_true, \n",
    "                                                                           y_pred, \n",
    "                                                                           normalize=False), \n",
    "                                                                           len(y_test)))"
   ]
  },
  {
   "cell_type": "markdown",
   "metadata": {},
   "source": [
    "#### Pecision Score"
   ]
  },
  {
   "cell_type": "code",
   "execution_count": null,
   "metadata": {
    "collapsed": true
   },
   "outputs": [],
   "source": []
  },
  {
   "cell_type": "markdown",
   "metadata": {},
   "source": [
    "#### Recall Score"
   ]
  },
  {
   "cell_type": "code",
   "execution_count": null,
   "metadata": {
    "collapsed": true
   },
   "outputs": [],
   "source": []
  },
  {
   "cell_type": "code",
   "execution_count": 54,
   "metadata": {
    "collapsed": true
   },
   "outputs": [],
   "source": [
    "y_score_bayes = gnb_cls.predict_proba(X_test)"
   ]
  },
  {
   "cell_type": "markdown",
   "metadata": {},
   "source": [
    "#### ROC Curve"
   ]
  },
  {
   "cell_type": "code",
   "execution_count": 55,
   "metadata": {
    "collapsed": true
   },
   "outputs": [],
   "source": [
    "fpr_bayes, tpr_bayes, thresholds_roc_baye = roc_curve(y_true, y_score_bayes[:,1], pos_label='CERTIFIED')"
   ]
  },
  {
   "cell_type": "code",
   "execution_count": 56,
   "metadata": {},
   "outputs": [
    {
     "data": {
      "image/png": "[encoded data removed]",
      "text/plain": [
       "<matplotlib.figure.Figure at 0x115cc8b38>"
      ]
     },
     "metadata": {},
     "output_type": "display_data"
    }
   ],
   "source": [
    "plt.plot(fpr_bayes, tpr_bayes, 'b-')\n",
    "plt.plot([0, 1], [0, 1], 'r--')\n",
    "plt.title(\"ROC Curve for K Nearest Neighbours Classifier\")\n",
    "plt.ylabel(\"True Positive\")\n",
    "plt.xlabel(\"False Positive\")\n",
    "plt.show()"
   ]
  },
  {
   "cell_type": "markdown",
   "metadata": {},
   "source": [
    "This classifier performs even worse than K nearest neighbours, This is primarily because it tends to generate more [FN] than K-nearest neighbours. Once again i think this is because in training CERTIFIED outcomes are over sampled"
   ]
  },
  {
   "cell_type": "markdown",
   "metadata": {},
   "source": [
    "#### Precision - Recall Curve"
   ]
  },
  {
   "cell_type": "code",
   "execution_count": 57,
   "metadata": {
    "collapsed": true
   },
   "outputs": [],
   "source": [
    "precision_bayes, recall_bayes, threshold_pr_bayes = precision_recall_curve(y_true, y_score_bayes[:,1], pos_label='CERTIFIED')"
   ]
  },
  {
   "cell_type": "code",
   "execution_count": 58,
   "metadata": {},
   "outputs": [
    {
     "data": {
      "image/png": "[encoded data removed]",
      "text/plain": [
       "<matplotlib.figure.Figure at 0x115cc8ba8>"
      ]
     },
     "metadata": {},
     "output_type": "display_data"
    }
   ],
   "source": [
    "plt.plot(recall_bayes, precision_bayes, 'b-')\n",
    "plt.title(\"Precision Recall Curve For K-Nearest Neighbors\")\n",
    "plt.ylabel(\"Precision\")\n",
    "plt.xlabel(\"Recall\")\n",
    "plt.show()"
   ]
  },
  {
   "cell_type": "code",
   "execution_count": 59,
   "metadata": {},
   "outputs": [
    {
     "data": {
      "text/plain": [
       "0.0308125"
      ]
     },
     "execution_count": 59,
     "metadata": {},
     "output_type": "execute_result"
    }
   ],
   "source": [
    "# Probability of \"DENIED\" class \n",
    "gnb_cls.class_prior_[1]"
   ]
  },
  {
   "cell_type": "code",
   "execution_count": 60,
   "metadata": {
    "scrolled": true
   },
   "outputs": [
    {
     "data": {
      "text/plain": [
       "0.96918749999999998"
      ]
     },
     "execution_count": 60,
     "metadata": {},
     "output_type": "execute_result"
    }
   ],
   "source": [
    "# Probability of \"CERTIFIED\" class \n",
    "gnb_cls.class_prior_[0]"
   ]
  },
  {
   "cell_type": "markdown",
   "metadata": {},
   "source": [
    "- This is why we have such a high number of FP and a low number of TN ... the probability of getting a positive outcome is so high compared to the probability of getting a negative outcome"
   ]
  },
  {
   "cell_type": "markdown",
   "metadata": {},
   "source": [
    "## Clearly we have a problem of representation in the training set. Consider measures to address imbalance data\n",
    "___\n",
    "We can use smote to over sample the minority class so that we have 50 percent probability for a new instance being predicted CERTIFIED or DENIED "
   ]
  },
  {
   "cell_type": "code",
   "execution_count": 61,
   "metadata": {
    "collapsed": true
   },
   "outputs": [],
   "source": [
    "from imblearn.over_sampling import SMOTE"
   ]
  },
  {
   "cell_type": "markdown",
   "metadata": {},
   "source": [
    "#### Resample using SMOTE to compersate for under sampling of DENIED outcome instances\n",
    "___"
   ]
  },
  {
   "cell_type": "code",
   "execution_count": 64,
   "metadata": {
    "collapsed": true
   },
   "outputs": [],
   "source": [
    "X_train_resampled, y_train_resampled = SMOTE(kind='borderline1').fit_sample(X_train, y_train)"
   ]
  },
  {
   "cell_type": "markdown",
   "metadata": {},
   "source": [
    "#### Run bayes classifier again\n",
    "___"
   ]
  },
  {
   "cell_type": "code",
   "execution_count": 92,
   "metadata": {},
   "outputs": [
    {
     "data": {
      "text/plain": [
       "0.5"
      ]
     },
     "execution_count": 92,
     "metadata": {},
     "output_type": "execute_result"
    }
   ],
   "source": [
    "# X_train_resampled, y_train_resampled = SMOTE(kind='svm').fit_sample(X_train, y_train)\n",
    "# Re train gaussian classifier\n",
    "gnb_smote_cls = gnb.fit(X_train_resampled, y_train_resampled)\n",
    "y_pred_bayes_smote = gnb_smote_cls.predict(X_test)\n",
    "\n",
    "# Probability of \"CERTIFIED\" class \n",
    "gnb_smote_cls.class_prior_[0]"
   ]
  },
  {
   "cell_type": "code",
   "execution_count": 93,
   "metadata": {},
   "outputs": [
    {
     "data": {
      "text/plain": [
       "0.5"
      ]
     },
     "execution_count": 93,
     "metadata": {},
     "output_type": "execute_result"
    }
   ],
   "source": [
    "# Probability of \"DENIED\" class \n",
    "gnb_smote_cls.class_prior_[1]"
   ]
  },
  {
   "cell_type": "markdown",
   "metadata": {},
   "source": [
    "#### Evaluation of bayes classifier with SMOTE\n",
    "___"
   ]
  },
  {
   "cell_type": "markdown",
   "metadata": {},
   "source": [
    "#### Classification Report\n",
    "___"
   ]
  },
  {
   "cell_type": "code",
   "execution_count": 94,
   "metadata": {},
   "outputs": [
    {
     "name": "stdout",
     "output_type": "stream",
     "text": [
      "             precision    recall  f1-score   support\n",
      "\n",
      "  CERTIFIED       0.97      0.90      0.93      3877\n",
      "     DENIED       0.06      0.20      0.09       123\n",
      "\n",
      "avg / total       0.94      0.88      0.91      4000\n",
      "\n"
     ]
    }
   ],
   "source": [
    "print(classification_report(y_test, y_pred_bayes_smote))"
   ]
  },
  {
   "cell_type": "markdown",
   "metadata": {},
   "source": [
    "#### Accuracy Report\n",
    "___"
   ]
  },
  {
   "cell_type": "code",
   "execution_count": 95,
   "metadata": {},
   "outputs": [
    {
     "name": "stdout",
     "output_type": "stream",
     "text": [
      "Normalized Accuracy Score : 0.876 \n",
      "Correctly Classified 3506 out of 4000 instance\n"
     ]
    }
   ],
   "source": [
    "print(\"Normalized Accuracy Score : {:.3f} \".format(accuracy_score(y_true, y_pred_bayes_smote)))\n",
    "print(\"Correctly Classified {:d} out of {} instance\".format(accuracy_score(y_true, \n",
    "                                                                           y_pred_bayes_smote, \n",
    "                                                                           normalize=False), \n",
    "                                                                           len(y_test)))"
   ]
  },
  {
   "cell_type": "markdown",
   "metadata": {},
   "source": [
    "#### Recall Score \n",
    "___"
   ]
  },
  {
   "cell_type": "code",
   "execution_count": 96,
   "metadata": {},
   "outputs": [
    {
     "name": "stdout",
     "output_type": "stream",
     "text": [
      "Recall Score is 0.90\n"
     ]
    }
   ],
   "source": [
    "bayes_cls_r_score_smote = recall_score(y_true, y_pred_bayes_smote, pos_label=\"CERTIFIED\")\n",
    "print(\"Recall Score is {:.2f}\".format(bayes_cls_r_score_smote ))"
   ]
  },
  {
   "cell_type": "markdown",
   "metadata": {},
   "source": [
    "#### Precision Score\n",
    "___"
   ]
  },
  {
   "cell_type": "code",
   "execution_count": 97,
   "metadata": {},
   "outputs": [
    {
     "name": "stdout",
     "output_type": "stream",
     "text": [
      "Precision score is 0.97\n"
     ]
    }
   ],
   "source": [
    "cls_p_score_bayes_smote = precision_score(y_true, y_pred_bayes_smote, pos_label=\"CERTIFIED\")\n",
    "print(\"Precision score is {:.2f}\".format(cls_p_score_bayes_smote))"
   ]
  },
  {
   "cell_type": "markdown",
   "metadata": {},
   "source": [
    "#### ROC Curve\n",
    "___"
   ]
  },
  {
   "cell_type": "code",
   "execution_count": 98,
   "metadata": {
    "collapsed": true
   },
   "outputs": [],
   "source": [
    "y_score_bayes_smote = gnb_smote_cls.predict_proba(X_test)"
   ]
  },
  {
   "cell_type": "code",
   "execution_count": 99,
   "metadata": {
    "collapsed": true
   },
   "outputs": [],
   "source": [
    "fpr_bayes_smote, tpr_bayes_smote, thresholds_roc_bayes_smote = roc_curve(y_true, \n",
    "                                                                         y_score_bayes_smote[:,1], \n",
    "                                                                         pos_label='CERTIFIED')"
   ]
  },
  {
   "cell_type": "code",
   "execution_count": 118,
   "metadata": {},
   "outputs": [
    {
     "data": {
      "image/png": "[encoded data removed]",
      "text/plain": [
       "<matplotlib.figure.Figure at 0x11747fef0>"
      ]
     },
     "metadata": {},
     "output_type": "display_data"
    }
   ],
   "source": [
    "plt.plot(fpr_bayes_smote, tpr_bayes_smote, 'b-')\n",
    "plt.plot([0, 1], [0, 1], 'r--')\n",
    "plt.title(\"ROC Curve for Naive Bayes Classifier with SMOTE Sampling\")\n",
    "plt.ylabel(\"True Positive\")\n",
    "plt.xlabel(\"False Positive\")\n",
    "plt.show()"
   ]
  },
  {
   "cell_type": "markdown",
   "metadata": {},
   "source": [
    "#### Precision Recall Curve\n",
    "___"
   ]
  },
  {
   "cell_type": "code",
   "execution_count": 101,
   "metadata": {
    "collapsed": true
   },
   "outputs": [],
   "source": [
    "precision_bayes_smote, recall_bayes_smote, threshold_pr_bayes = precision_recall_curve(y_true, \n",
    "                                                                                       y_score_bayes_smote[:,1], \n",
    "                                                                                       pos_label='CERTIFIED')"
   ]
  },
  {
   "cell_type": "code",
   "execution_count": 119,
   "metadata": {},
   "outputs": [
    {
     "data": {
      "image/png": "[encoded data removed]",
      "text/plain": [
       "<matplotlib.figure.Figure at 0x115872978>"
      ]
     },
     "metadata": {},
     "output_type": "display_data"
    }
   ],
   "source": [
    "plt.plot(recall_bayes, precision_bayes, 'k--')\n",
    "plt.title(\"Precision Recall Curve For Naive Bayes Classifier with SMOTE Sampling\")\n",
    "plt.ylabel(\"Precision\")\n",
    "plt.xlabel(\"Recall\")\n",
    "plt.show()"
   ]
  },
  {
   "cell_type": "markdown",
   "metadata": {},
   "source": [
    "** When we use SMOTE to handle imbalanced data. The performance of classification does not improve significantly. Maybe we need to perform dimension reduction. Or increase the amount of training data used**"
   ]
  },
  {
   "cell_type": "markdown",
   "metadata": {},
   "source": [
    "#### Apply dimension reduction to improve performance of models\n",
    "___"
   ]
  },
  {
   "cell_type": "code",
   "execution_count": 82,
   "metadata": {},
   "outputs": [],
   "source": [
    "from sklearn.decomposition import PCA"
   ]
  },
  {
   "cell_type": "code",
   "execution_count": 128,
   "metadata": {
    "collapsed": true
   },
   "outputs": [],
   "source": [
    "# global centering \n",
    "X_centered = X - X.mean()\n",
    "\n",
    "# decomposition\n",
    "pca = PCA(n_components=20)\n",
    "X_pca = pca.fit_transform(X_centered)"
   ]
  },
  {
   "cell_type": "code",
   "execution_count": 129,
   "metadata": {},
   "outputs": [
    {
     "data": {
      "text/plain": [
       "StratifiedShuffleSplit(n_splits=15, random_state=0, test_size=0.1,\n",
       "            train_size=None)"
      ]
     },
     "execution_count": 129,
     "metadata": {},
     "output_type": "execute_result"
    }
   ],
   "source": [
    "sss = StratifiedShuffleSplit(n_splits=15, test_size=0.1, random_state=0)\n",
    "sss"
   ]
  },
  {
   "cell_type": "code",
   "execution_count": 136,
   "metadata": {},
   "outputs": [
    {
     "data": {
      "text/plain": [
       "(20000, 20)"
      ]
     },
     "execution_count": 136,
     "metadata": {},
     "output_type": "execute_result"
    }
   ],
   "source": [
    "X_pca.shape"
   ]
  },
  {
   "cell_type": "code",
   "execution_count": 137,
   "metadata": {
    "collapsed": true
   },
   "outputs": [],
   "source": [
    "for train_index, test_index in sss.split(X_pca, y_vals):\n",
    "    X_pca_train, X__pca_test = X_pca[train_index], X_pca[test_index]\n",
    "    y_pca_train, y_pca_test = y_vals[train_index], y_vals[test_index]"
   ]
  },
  {
   "cell_type": "code",
   "execution_count": 139,
   "metadata": {},
   "outputs": [
    {
     "data": {
      "text/plain": [
       "(18000,)"
      ]
     },
     "execution_count": 139,
     "metadata": {},
     "output_type": "execute_result"
    }
   ],
   "source": [
    "y_pca_train.shape"
   ]
  },
  {
   "cell_type": "code",
   "execution_count": 132,
   "metadata": {},
   "outputs": [],
   "source": [
    "# Use smort to make sure we sample unbalance data in outcomes\n",
    "X_train_resampled_pca, y_train_resampled_pca = SMOTE(kind='borderline1').fit_sample(X_pca_train, y_pca_train)"
   ]
  },
  {
   "cell_type": "code",
   "execution_count": 133,
   "metadata": {
    "collapsed": true
   },
   "outputs": [],
   "source": [
    "# Train Bayes classifier again\n",
    "gnb_smote_cls_pca = gnb.fit(X_train_resampled_pca, y_train_resampled_pca)"
   ]
  },
  {
   "cell_type": "code",
   "execution_count": 134,
   "metadata": {},
   "outputs": [],
   "source": [
    "# Get predicted results for X_test_pca so we can evaluate them\n",
    "y_pred_bayes_smote_pca = gnb_smote_cls_pca.predict(X__pca_test)"
   ]
  },
  {
   "cell_type": "code",
   "execution_count": 140,
   "metadata": {},
   "outputs": [
    {
     "name": "stdout",
     "output_type": "stream",
     "text": [
      "             precision    recall  f1-score   support\n",
      "\n",
      "  CERTIFIED       0.97      0.92      0.95      1938\n",
      "     DENIED       0.05      0.13      0.07        62\n",
      "\n",
      "avg / total       0.94      0.90      0.92      2000\n",
      "\n"
     ]
    }
   ],
   "source": [
    "# Evaluate classifier with classification report\n",
    "print(classification_report(y_pca_test, y_pred_bayes_smote_pca))"
   ]
  },
  {
   "cell_type": "code",
   "execution_count": 142,
   "metadata": {},
   "outputs": [
    {
     "name": "stdout",
     "output_type": "stream",
     "text": [
      "Normalized Accuracy Score : 0.898 \n",
      "Correctly Classified 1797 out of 4000 instance\n"
     ]
    }
   ],
   "source": [
    "# Evaluate classifier with accuracy score \n",
    "print(\"Normalized Accuracy Score : {:.3f} \".format(accuracy_score(y_pca_test, y_pred_bayes_smote_pca)))\n",
    "print(\"Correctly Classified {:d} out of {} instance\".format(accuracy_score(y_pca_test, \n",
    "                                                                           y_pred_bayes_smote_pca, \n",
    "                                                                           normalize=False), \n",
    "                                                                           len(y_test)))"
   ]
  },
  {
   "cell_type": "code",
   "execution_count": 143,
   "metadata": {},
   "outputs": [
    {
     "name": "stdout",
     "output_type": "stream",
     "text": [
      "Recall Score is 0.92\n"
     ]
    }
   ],
   "source": [
    "# Evaluate classifier with recal score \n",
    "bayes_cls_r_score_smote_pca = recall_score(y_pca_test, y_pred_bayes_smote_pca, pos_label=\"CERTIFIED\")\n",
    "print(\"Recall Score is {:.2f}\".format(bayes_cls_r_score_smote_pca ))"
   ]
  },
  {
   "cell_type": "code",
   "execution_count": 144,
   "metadata": {},
   "outputs": [
    {
     "name": "stdout",
     "output_type": "stream",
     "text": [
      "Precision score is 0.97\n"
     ]
    }
   ],
   "source": [
    "cls_p_score_bayes_smote_pca = precision_score(y_pca_test, y_pred_bayes_smote_pca, pos_label=\"CERTIFIED\")\n",
    "print(\"Precision score is {:.2f}\".format(cls_p_score_bayes_smote))"
   ]
  },
  {
   "cell_type": "code",
   "execution_count": 145,
   "metadata": {},
   "outputs": [],
   "source": [
    "y_score_bayes_smote_pca = gnb_smote_cls_pca.predict_proba(X__pca_test)"
   ]
  },
  {
   "cell_type": "code",
   "execution_count": 146,
   "metadata": {},
   "outputs": [
    {
     "data": {
      "image/png": "[encoded data removed]",
      "text/plain": [
       "<matplotlib.figure.Figure at 0x117e8ee10>"
      ]
     },
     "metadata": {},
     "output_type": "display_data"
    }
   ],
   "source": [
    "# Evaluate classifier using and ROC Curve\n",
    "fpr_bayes_smote_pca, tpr_bayes_smote_pca, thresholds_roc_bayes_smote_pca = roc_curve(y_pca_test, \n",
    "                                                                         y_score_bayes_smote_pca[:,1], \n",
    "                                                                         pos_label='CERTIFIED')\n",
    "plt.plot(fpr_bayes_smote_pca, tpr_bayes_smote_pca, 'b-')\n",
    "plt.plot([0, 1], [0, 1], 'r--')\n",
    "plt.title(\"ROC Curve for Naive Bayes Classifier with SMOTE Sampling and PCA\")\n",
    "plt.ylabel(\"True Positive\")\n",
    "plt.xlabel(\"False Positive\")\n",
    "plt.show()"
   ]
  },
  {
   "cell_type": "code",
   "execution_count": 148,
   "metadata": {},
   "outputs": [],
   "source": [
    "# Evaluate classifier using Precision - Recall Curve \n",
    "precision_bayes_smote_pca, recall_bayes_smote_pca, threshold_pr_bayes_pca = precision_recall_curve(y_pca_test, \n",
    "                                                                                       y_score_bayes_smote_pca[:,1], \n",
    "                                                                                       pos_label='CERTIFIED')"
   ]
  },
  {
   "cell_type": "code",
   "execution_count": 149,
   "metadata": {},
   "outputs": [
    {
     "data": {
      "image/png": "[encoded data removed]",
      "text/plain": [
       "<matplotlib.figure.Figure at 0x1182418d0>"
      ]
     },
     "metadata": {},
     "output_type": "display_data"
    }
   ],
   "source": [
    "plt.plot(recall_bayes_smote_pca, precision_bayes_smote_pca, 'k--')\n",
    "plt.title(\"Precision Recall Curve For Naive Bayes Classifier with SMOTE Sampling and PCA\")\n",
    "plt.ylabel(\"Precision\")\n",
    "plt.xlabel(\"Recall\")\n",
    "plt.show()"
   ]
  },
  {
   "cell_type": "code",
   "execution_count": 150,
   "metadata": {},
   "outputs": [
    {
     "data": {
      "text/plain": [
       "array([[1789,  149],\n",
       "       [  54,    8]])"
      ]
     },
     "execution_count": 150,
     "metadata": {},
     "output_type": "execute_result"
    }
   ],
   "source": [
    "# Evaluate classifier with Confusion Matrix\n",
    "confusion_matrix(y_pca_test, y_pred_bayes_smote_pca)"
   ]
  },
  {
   "cell_type": "code",
   "execution_count": 151,
   "metadata": {
    "collapsed": true
   },
   "outputs": [],
   "source": [
    "# Compute confusion matrix\n",
    "cnf_matrix_bayes_smort_pca = confusion_matrix(y_pca_test, y_pred_bayes_smote_pca)\n",
    "np.set_printoptions(precision=2)\n",
    "class_names = ['CERTIFIED','DENIED']"
   ]
  },
  {
   "cell_type": "code",
   "execution_count": 152,
   "metadata": {},
   "outputs": [
    {
     "name": "stdout",
     "output_type": "stream",
     "text": [
      "Confusion matrix, without normalization\n",
      "[[1789  149]\n",
      " [  54    8]]\n"
     ]
    },
    {
     "data": {
      "image/png": "[encoded data removed]",
      "text/plain": [
       "<matplotlib.figure.Figure at 0x117febba8>"
      ]
     },
     "metadata": {},
     "output_type": "display_data"
    }
   ],
   "source": [
    "# Plot non-normalized confusion matrix\n",
    "plt.figure()\n",
    "plot_confusion_matrix(cnf_matrix_bayes_smort_pca, classes=class_names,\n",
    "                      title='Bayes Classifier Confusion matrix, without normalization')"
   ]
  },
  {
   "cell_type": "code",
   "execution_count": 155,
   "metadata": {},
   "outputs": [
    {
     "name": "stdout",
     "output_type": "stream",
     "text": [
      "Normalized confusion matrix\n",
      "[[ 0.92  0.08]\n",
      " [ 0.87  0.13]]\n"
     ]
    },
    {
     "data": {
      "image/png": "[encoded data removed]",
      "text/plain": [
       "<matplotlib.figure.Figure at 0x117fe13c8>"
      ]
     },
     "metadata": {},
     "output_type": "display_data"
    }
   ],
   "source": [
    "# Plot non-normalized confusion matrix\n",
    "plt.figure()\n",
    "plot_confusion_matrix(cnf_matrix_bayes_smort_pca, classes=class_names,\n",
    "                      title='Bayes Classifier Confusion matrix, without normalization',\n",
    "                      normalize=True)"
   ]
  },
  {
   "cell_type": "markdown",
   "metadata": {},
   "source": [
    "    At first i ran this pca with 10 components and the performance only inmproved slightly with the model increasing the number of TN observed but this also brought about an increase in FN, i suspect that SMOTE was able to increase the probability of an instance being classified as DENIED. \n",
    "    By increasing the training data size and increasing the number of components retained to 20. Also increasing the number of splits of the stratified shuffle we notice an better performance at observing TN's "
   ]
  },
  {
   "cell_type": "markdown",
   "metadata": {},
   "source": [
    "# Decision Tree Classifier\n",
    "___"
   ]
  },
  {
   "cell_type": "code",
   "execution_count": null,
   "metadata": {
    "collapsed": true
   },
   "outputs": [],
   "source": []
  }
 ],
 "metadata": {
  "kernelspec": {
   "display_name": "Python 3",
   "language": "python",
   "name": "python3"
  },
  "language_info": {
   "codemirror_mode": {
    "name": "ipython",
    "version": 3
   },
   "file_extension": ".py",
   "mimetype": "text/x-python",
   "name": "python",
   "nbconvert_exporter": "python",
   "pygments_lexer": "ipython3",
   "version": "3.6.1"
  }
 },
 "nbformat": 4,
 "nbformat_minor": 2
}
