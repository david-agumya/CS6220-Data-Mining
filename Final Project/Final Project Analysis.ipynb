{
 "cells": [
  {
   "cell_type": "code",
   "execution_count": 1,
   "metadata": {},
   "outputs": [
    {
     "name": "stdout",
     "output_type": "stream",
     "text": [
      "Populating the interactive namespace from numpy and matplotlib\n"
     ]
    }
   ],
   "source": [
    "# Dependencies\n",
    "%pylab inline\n",
    "import pandas as pd\n",
    "import numpy as np\n",
    "import csv\n",
    "import matplotlib.pyplot as plt\n",
    "\n",
    "warnings.filterwarnings('ignore')"
   ]
  },
  {
   "cell_type": "markdown",
   "metadata": {},
   "source": [
    "## Data Description\n",
    "+ H-1B Visa Petitions for 2011 - 2016\n",
    "\n",
    "+ Source [Kaggle H-1B Visa Petitions 2011-2016](https://www.kaggle.com/nsharan/h-1b-visa)\n",
    "\n",
    "### Context \n",
    "---\n",
    "The H-1B is an employment-based, non-immigrant visa category for temporary foreign workers in the United States. For a foreign national to apply for H1-B visa, an US employer must offer a job and petition for H-1B visa with the US immigration department. This is the most common visa status applied for and held by international students once they complete college/ higher education (Masters, PhD) and work in a full-time position.\n",
    "\n",
    "The Office of Foreign Labor Certification (OFLC) generates program data that is useful information about the immigration programs including the H1-B visa.\n",
    "\n",
    "### Content\n",
    "#### Number of Instances : \n",
    "#### Features:\n",
    "1. CASE_STATUS: Status associated with the last significant event or decision. Valid values include “Certified,” “Certified-Withdrawn,” Denied,” and “Withdrawn”.  \n",
    "** NOTE: Certified does not mean the employee was granted an H-1B Visa rather. Certified is a status that allows the application to apply for an H-1B Visa **\n",
    "2. EMPLOYER_NAME: Name of employer submitting labor condition application\n",
    "3. SOC_NAME: Standard Occupation Code according to SOC Classification system. \n",
    "4. JOB TITLE: Title of the employee position\n",
    "5. FULL_TIME_POSITION: Y = Full Time Position, N = Part Time Position\n",
    "6. PREVAILING_WAGE: Prevailing Wage for the job being requested for temporary labor condition. The wage is listed at annual scale in USD. The prevailing wage for a job position is defined as the average wage paid to similarly employed workers in the requested occupation in the area of intended employment. The prevailing wage is based on the employer’s minimum requirements for the position. \n",
    "7. YEAR: Year in which the H-1B visa petition was filed\n",
    "8. WORKSITE: City and State Information of the foreign worker's intended area of employment\n",
    "9. Lon : Longitude of worksite\n",
    "10. Lon : latitude of worksite"
   ]
  },
  {
   "cell_type": "markdown",
   "metadata": {},
   "source": [
    "# Read Data\n",
    "___"
   ]
  },
  {
   "cell_type": "code",
   "execution_count": 2,
   "metadata": {
    "collapsed": true
   },
   "outputs": [],
   "source": [
    "filePath = \"./Data/h1b_kaggle.csv\"\n",
    "df = pd.read_csv(filePath, header=0)"
   ]
  },
  {
   "cell_type": "markdown",
   "metadata": {},
   "source": [
    "### General Data Cleaning\n",
    "___"
   ]
  },
  {
   "cell_type": "code",
   "execution_count": 3,
   "metadata": {},
   "outputs": [
    {
     "data": {
      "text/html": [
       "<div>\n",
       "<style>\n",
       "    .dataframe thead tr:only-child th {\n",
       "        text-align: right;\n",
       "    }\n",
       "\n",
       "    .dataframe thead th {\n",
       "        text-align: left;\n",
       "    }\n",
       "\n",
       "    .dataframe tbody tr th {\n",
       "        vertical-align: top;\n",
       "    }\n",
       "</style>\n",
       "<table border=\"1\" class=\"dataframe\">\n",
       "  <thead>\n",
       "    <tr style=\"text-align: right;\">\n",
       "      <th></th>\n",
       "      <th>Unnamed: 0</th>\n",
       "      <th>CASE_STATUS</th>\n",
       "      <th>EMPLOYER_NAME</th>\n",
       "      <th>SOC_NAME</th>\n",
       "      <th>JOB_TITLE</th>\n",
       "      <th>FULL_TIME_POSITION</th>\n",
       "      <th>PREVAILING_WAGE</th>\n",
       "      <th>YEAR</th>\n",
       "      <th>WORKSITE</th>\n",
       "      <th>lon</th>\n",
       "      <th>lat</th>\n",
       "    </tr>\n",
       "  </thead>\n",
       "  <tbody>\n",
       "    <tr>\n",
       "      <th>0</th>\n",
       "      <td>1</td>\n",
       "      <td>CERTIFIED-WITHDRAWN</td>\n",
       "      <td>UNIVERSITY OF MICHIGAN</td>\n",
       "      <td>BIOCHEMISTS AND BIOPHYSICISTS</td>\n",
       "      <td>POSTDOCTORAL RESEARCH FELLOW</td>\n",
       "      <td>N</td>\n",
       "      <td>36067.0</td>\n",
       "      <td>2016.0</td>\n",
       "      <td>ANN ARBOR, MICHIGAN</td>\n",
       "      <td>-83.743038</td>\n",
       "      <td>42.280826</td>\n",
       "    </tr>\n",
       "    <tr>\n",
       "      <th>1</th>\n",
       "      <td>2</td>\n",
       "      <td>CERTIFIED-WITHDRAWN</td>\n",
       "      <td>GOODMAN NETWORKS, INC.</td>\n",
       "      <td>CHIEF EXECUTIVES</td>\n",
       "      <td>CHIEF OPERATING OFFICER</td>\n",
       "      <td>Y</td>\n",
       "      <td>242674.0</td>\n",
       "      <td>2016.0</td>\n",
       "      <td>PLANO, TEXAS</td>\n",
       "      <td>-96.698886</td>\n",
       "      <td>33.019843</td>\n",
       "    </tr>\n",
       "    <tr>\n",
       "      <th>2</th>\n",
       "      <td>3</td>\n",
       "      <td>CERTIFIED-WITHDRAWN</td>\n",
       "      <td>PORTS AMERICA GROUP, INC.</td>\n",
       "      <td>CHIEF EXECUTIVES</td>\n",
       "      <td>CHIEF PROCESS OFFICER</td>\n",
       "      <td>Y</td>\n",
       "      <td>193066.0</td>\n",
       "      <td>2016.0</td>\n",
       "      <td>JERSEY CITY, NEW JERSEY</td>\n",
       "      <td>-74.077642</td>\n",
       "      <td>40.728158</td>\n",
       "    </tr>\n",
       "  </tbody>\n",
       "</table>\n",
       "</div>"
      ],
      "text/plain": [
       "   Unnamed: 0          CASE_STATUS              EMPLOYER_NAME  \\\n",
       "0           1  CERTIFIED-WITHDRAWN     UNIVERSITY OF MICHIGAN   \n",
       "1           2  CERTIFIED-WITHDRAWN     GOODMAN NETWORKS, INC.   \n",
       "2           3  CERTIFIED-WITHDRAWN  PORTS AMERICA GROUP, INC.   \n",
       "\n",
       "                        SOC_NAME                     JOB_TITLE  \\\n",
       "0  BIOCHEMISTS AND BIOPHYSICISTS  POSTDOCTORAL RESEARCH FELLOW   \n",
       "1               CHIEF EXECUTIVES       CHIEF OPERATING OFFICER   \n",
       "2               CHIEF EXECUTIVES         CHIEF PROCESS OFFICER   \n",
       "\n",
       "  FULL_TIME_POSITION  PREVAILING_WAGE    YEAR                 WORKSITE  \\\n",
       "0                  N          36067.0  2016.0      ANN ARBOR, MICHIGAN   \n",
       "1                  Y         242674.0  2016.0             PLANO, TEXAS   \n",
       "2                  Y         193066.0  2016.0  JERSEY CITY, NEW JERSEY   \n",
       "\n",
       "         lon        lat  \n",
       "0 -83.743038  42.280826  \n",
       "1 -96.698886  33.019843  \n",
       "2 -74.077642  40.728158  "
      ]
     },
     "execution_count": 3,
     "metadata": {},
     "output_type": "execute_result"
    }
   ],
   "source": [
    "df[:3]"
   ]
  },
  {
   "cell_type": "markdown",
   "metadata": {},
   "source": [
    "+ ** Remove the features that we do not need for any analysis we intend to perform **"
   ]
  },
  {
   "cell_type": "code",
   "execution_count": 4,
   "metadata": {
    "collapsed": true
   },
   "outputs": [],
   "source": [
    "# remove the first index column\n",
    "del df[\"Unnamed: 0\"]"
   ]
  },
  {
   "cell_type": "code",
   "execution_count": 5,
   "metadata": {},
   "outputs": [
    {
     "data": {
      "text/html": [
       "<div>\n",
       "<style>\n",
       "    .dataframe thead tr:only-child th {\n",
       "        text-align: right;\n",
       "    }\n",
       "\n",
       "    .dataframe thead th {\n",
       "        text-align: left;\n",
       "    }\n",
       "\n",
       "    .dataframe tbody tr th {\n",
       "        vertical-align: top;\n",
       "    }\n",
       "</style>\n",
       "<table border=\"1\" class=\"dataframe\">\n",
       "  <thead>\n",
       "    <tr style=\"text-align: right;\">\n",
       "      <th></th>\n",
       "      <th>CASE_STATUS</th>\n",
       "      <th>EMPLOYER_NAME</th>\n",
       "      <th>SOC_NAME</th>\n",
       "      <th>JOB_TITLE</th>\n",
       "      <th>FULL_TIME_POSITION</th>\n",
       "      <th>PREVAILING_WAGE</th>\n",
       "      <th>YEAR</th>\n",
       "      <th>WORKSITE</th>\n",
       "      <th>lon</th>\n",
       "      <th>lat</th>\n",
       "    </tr>\n",
       "  </thead>\n",
       "  <tbody>\n",
       "    <tr>\n",
       "      <th>0</th>\n",
       "      <td>CERTIFIED-WITHDRAWN</td>\n",
       "      <td>UNIVERSITY OF MICHIGAN</td>\n",
       "      <td>BIOCHEMISTS AND BIOPHYSICISTS</td>\n",
       "      <td>POSTDOCTORAL RESEARCH FELLOW</td>\n",
       "      <td>N</td>\n",
       "      <td>36067.0</td>\n",
       "      <td>2016.0</td>\n",
       "      <td>ANN ARBOR, MICHIGAN</td>\n",
       "      <td>-83.743038</td>\n",
       "      <td>42.280826</td>\n",
       "    </tr>\n",
       "    <tr>\n",
       "      <th>1</th>\n",
       "      <td>CERTIFIED-WITHDRAWN</td>\n",
       "      <td>GOODMAN NETWORKS, INC.</td>\n",
       "      <td>CHIEF EXECUTIVES</td>\n",
       "      <td>CHIEF OPERATING OFFICER</td>\n",
       "      <td>Y</td>\n",
       "      <td>242674.0</td>\n",
       "      <td>2016.0</td>\n",
       "      <td>PLANO, TEXAS</td>\n",
       "      <td>-96.698886</td>\n",
       "      <td>33.019843</td>\n",
       "    </tr>\n",
       "    <tr>\n",
       "      <th>2</th>\n",
       "      <td>CERTIFIED-WITHDRAWN</td>\n",
       "      <td>PORTS AMERICA GROUP, INC.</td>\n",
       "      <td>CHIEF EXECUTIVES</td>\n",
       "      <td>CHIEF PROCESS OFFICER</td>\n",
       "      <td>Y</td>\n",
       "      <td>193066.0</td>\n",
       "      <td>2016.0</td>\n",
       "      <td>JERSEY CITY, NEW JERSEY</td>\n",
       "      <td>-74.077642</td>\n",
       "      <td>40.728158</td>\n",
       "    </tr>\n",
       "  </tbody>\n",
       "</table>\n",
       "</div>"
      ],
      "text/plain": [
       "           CASE_STATUS              EMPLOYER_NAME  \\\n",
       "0  CERTIFIED-WITHDRAWN     UNIVERSITY OF MICHIGAN   \n",
       "1  CERTIFIED-WITHDRAWN     GOODMAN NETWORKS, INC.   \n",
       "2  CERTIFIED-WITHDRAWN  PORTS AMERICA GROUP, INC.   \n",
       "\n",
       "                        SOC_NAME                     JOB_TITLE  \\\n",
       "0  BIOCHEMISTS AND BIOPHYSICISTS  POSTDOCTORAL RESEARCH FELLOW   \n",
       "1               CHIEF EXECUTIVES       CHIEF OPERATING OFFICER   \n",
       "2               CHIEF EXECUTIVES         CHIEF PROCESS OFFICER   \n",
       "\n",
       "  FULL_TIME_POSITION  PREVAILING_WAGE    YEAR                 WORKSITE  \\\n",
       "0                  N          36067.0  2016.0      ANN ARBOR, MICHIGAN   \n",
       "1                  Y         242674.0  2016.0             PLANO, TEXAS   \n",
       "2                  Y         193066.0  2016.0  JERSEY CITY, NEW JERSEY   \n",
       "\n",
       "         lon        lat  \n",
       "0 -83.743038  42.280826  \n",
       "1 -96.698886  33.019843  \n",
       "2 -74.077642  40.728158  "
      ]
     },
     "execution_count": 5,
     "metadata": {},
     "output_type": "execute_result"
    }
   ],
   "source": [
    "df[:3]"
   ]
  },
  {
   "cell_type": "code",
   "execution_count": 6,
   "metadata": {
    "collapsed": true
   },
   "outputs": [],
   "source": [
    "# Remove \"Lon\" and \"Lat\"\n",
    "del df[\"lon\"]\n",
    "del df[\"lat\"]"
   ]
  },
  {
   "cell_type": "code",
   "execution_count": 7,
   "metadata": {},
   "outputs": [
    {
     "data": {
      "text/html": [
       "<div>\n",
       "<style>\n",
       "    .dataframe thead tr:only-child th {\n",
       "        text-align: right;\n",
       "    }\n",
       "\n",
       "    .dataframe thead th {\n",
       "        text-align: left;\n",
       "    }\n",
       "\n",
       "    .dataframe tbody tr th {\n",
       "        vertical-align: top;\n",
       "    }\n",
       "</style>\n",
       "<table border=\"1\" class=\"dataframe\">\n",
       "  <thead>\n",
       "    <tr style=\"text-align: right;\">\n",
       "      <th></th>\n",
       "      <th>CASE_STATUS</th>\n",
       "      <th>EMPLOYER_NAME</th>\n",
       "      <th>SOC_NAME</th>\n",
       "      <th>JOB_TITLE</th>\n",
       "      <th>FULL_TIME_POSITION</th>\n",
       "      <th>PREVAILING_WAGE</th>\n",
       "      <th>YEAR</th>\n",
       "      <th>WORKSITE</th>\n",
       "    </tr>\n",
       "  </thead>\n",
       "  <tbody>\n",
       "    <tr>\n",
       "      <th>0</th>\n",
       "      <td>CERTIFIED-WITHDRAWN</td>\n",
       "      <td>UNIVERSITY OF MICHIGAN</td>\n",
       "      <td>BIOCHEMISTS AND BIOPHYSICISTS</td>\n",
       "      <td>POSTDOCTORAL RESEARCH FELLOW</td>\n",
       "      <td>N</td>\n",
       "      <td>36067.0</td>\n",
       "      <td>2016.0</td>\n",
       "      <td>ANN ARBOR, MICHIGAN</td>\n",
       "    </tr>\n",
       "    <tr>\n",
       "      <th>1</th>\n",
       "      <td>CERTIFIED-WITHDRAWN</td>\n",
       "      <td>GOODMAN NETWORKS, INC.</td>\n",
       "      <td>CHIEF EXECUTIVES</td>\n",
       "      <td>CHIEF OPERATING OFFICER</td>\n",
       "      <td>Y</td>\n",
       "      <td>242674.0</td>\n",
       "      <td>2016.0</td>\n",
       "      <td>PLANO, TEXAS</td>\n",
       "    </tr>\n",
       "    <tr>\n",
       "      <th>2</th>\n",
       "      <td>CERTIFIED-WITHDRAWN</td>\n",
       "      <td>PORTS AMERICA GROUP, INC.</td>\n",
       "      <td>CHIEF EXECUTIVES</td>\n",
       "      <td>CHIEF PROCESS OFFICER</td>\n",
       "      <td>Y</td>\n",
       "      <td>193066.0</td>\n",
       "      <td>2016.0</td>\n",
       "      <td>JERSEY CITY, NEW JERSEY</td>\n",
       "    </tr>\n",
       "  </tbody>\n",
       "</table>\n",
       "</div>"
      ],
      "text/plain": [
       "           CASE_STATUS              EMPLOYER_NAME  \\\n",
       "0  CERTIFIED-WITHDRAWN     UNIVERSITY OF MICHIGAN   \n",
       "1  CERTIFIED-WITHDRAWN     GOODMAN NETWORKS, INC.   \n",
       "2  CERTIFIED-WITHDRAWN  PORTS AMERICA GROUP, INC.   \n",
       "\n",
       "                        SOC_NAME                     JOB_TITLE  \\\n",
       "0  BIOCHEMISTS AND BIOPHYSICISTS  POSTDOCTORAL RESEARCH FELLOW   \n",
       "1               CHIEF EXECUTIVES       CHIEF OPERATING OFFICER   \n",
       "2               CHIEF EXECUTIVES         CHIEF PROCESS OFFICER   \n",
       "\n",
       "  FULL_TIME_POSITION  PREVAILING_WAGE    YEAR                 WORKSITE  \n",
       "0                  N          36067.0  2016.0      ANN ARBOR, MICHIGAN  \n",
       "1                  Y         242674.0  2016.0             PLANO, TEXAS  \n",
       "2                  Y         193066.0  2016.0  JERSEY CITY, NEW JERSEY  "
      ]
     },
     "execution_count": 7,
     "metadata": {},
     "output_type": "execute_result"
    }
   ],
   "source": [
    "df[:3]"
   ]
  },
  {
   "cell_type": "code",
   "execution_count": 8,
   "metadata": {},
   "outputs": [
    {
     "data": {
      "text/plain": [
       "0        ANN ARBOR, MICHIGAN\n",
       "1               PLANO, TEXAS\n",
       "2    JERSEY CITY, NEW JERSEY\n",
       "Name: WORKSITE, dtype: object"
      ]
     },
     "execution_count": 8,
     "metadata": {},
     "output_type": "execute_result"
    }
   ],
   "source": [
    "worksite = df[\"WORKSITE\"]\n",
    "worksite[:3]"
   ]
  },
  {
   "cell_type": "code",
   "execution_count": 9,
   "metadata": {},
   "outputs": [
    {
     "data": {
      "text/html": [
       "<div>\n",
       "<style>\n",
       "    .dataframe thead tr:only-child th {\n",
       "        text-align: right;\n",
       "    }\n",
       "\n",
       "    .dataframe thead th {\n",
       "        text-align: left;\n",
       "    }\n",
       "\n",
       "    .dataframe tbody tr th {\n",
       "        vertical-align: top;\n",
       "    }\n",
       "</style>\n",
       "<table border=\"1\" class=\"dataframe\">\n",
       "  <thead>\n",
       "    <tr style=\"text-align: right;\">\n",
       "      <th></th>\n",
       "      <th>CASE_STATUS</th>\n",
       "      <th>EMPLOYER_NAME</th>\n",
       "      <th>SOC_NAME</th>\n",
       "      <th>JOB_TITLE</th>\n",
       "      <th>FULL_TIME_POSITION</th>\n",
       "      <th>PREVAILING_WAGE</th>\n",
       "      <th>YEAR</th>\n",
       "      <th>WORKSITE</th>\n",
       "      <th>CITY</th>\n",
       "      <th>STATE</th>\n",
       "    </tr>\n",
       "  </thead>\n",
       "  <tbody>\n",
       "    <tr>\n",
       "      <th>0</th>\n",
       "      <td>CERTIFIED-WITHDRAWN</td>\n",
       "      <td>UNIVERSITY OF MICHIGAN</td>\n",
       "      <td>BIOCHEMISTS AND BIOPHYSICISTS</td>\n",
       "      <td>POSTDOCTORAL RESEARCH FELLOW</td>\n",
       "      <td>N</td>\n",
       "      <td>36067.0</td>\n",
       "      <td>2016.0</td>\n",
       "      <td>ANN ARBOR, MICHIGAN</td>\n",
       "      <td>ANN ARBOR</td>\n",
       "      <td>MICHIGAN</td>\n",
       "    </tr>\n",
       "    <tr>\n",
       "      <th>1</th>\n",
       "      <td>CERTIFIED-WITHDRAWN</td>\n",
       "      <td>GOODMAN NETWORKS, INC.</td>\n",
       "      <td>CHIEF EXECUTIVES</td>\n",
       "      <td>CHIEF OPERATING OFFICER</td>\n",
       "      <td>Y</td>\n",
       "      <td>242674.0</td>\n",
       "      <td>2016.0</td>\n",
       "      <td>PLANO, TEXAS</td>\n",
       "      <td>PLANO</td>\n",
       "      <td>TEXAS</td>\n",
       "    </tr>\n",
       "    <tr>\n",
       "      <th>2</th>\n",
       "      <td>CERTIFIED-WITHDRAWN</td>\n",
       "      <td>PORTS AMERICA GROUP, INC.</td>\n",
       "      <td>CHIEF EXECUTIVES</td>\n",
       "      <td>CHIEF PROCESS OFFICER</td>\n",
       "      <td>Y</td>\n",
       "      <td>193066.0</td>\n",
       "      <td>2016.0</td>\n",
       "      <td>JERSEY CITY, NEW JERSEY</td>\n",
       "      <td>JERSEY CITY</td>\n",
       "      <td>NEW JERSEY</td>\n",
       "    </tr>\n",
       "  </tbody>\n",
       "</table>\n",
       "</div>"
      ],
      "text/plain": [
       "           CASE_STATUS              EMPLOYER_NAME  \\\n",
       "0  CERTIFIED-WITHDRAWN     UNIVERSITY OF MICHIGAN   \n",
       "1  CERTIFIED-WITHDRAWN     GOODMAN NETWORKS, INC.   \n",
       "2  CERTIFIED-WITHDRAWN  PORTS AMERICA GROUP, INC.   \n",
       "\n",
       "                        SOC_NAME                     JOB_TITLE  \\\n",
       "0  BIOCHEMISTS AND BIOPHYSICISTS  POSTDOCTORAL RESEARCH FELLOW   \n",
       "1               CHIEF EXECUTIVES       CHIEF OPERATING OFFICER   \n",
       "2               CHIEF EXECUTIVES         CHIEF PROCESS OFFICER   \n",
       "\n",
       "  FULL_TIME_POSITION  PREVAILING_WAGE    YEAR                 WORKSITE  \\\n",
       "0                  N          36067.0  2016.0      ANN ARBOR, MICHIGAN   \n",
       "1                  Y         242674.0  2016.0             PLANO, TEXAS   \n",
       "2                  Y         193066.0  2016.0  JERSEY CITY, NEW JERSEY   \n",
       "\n",
       "          CITY       STATE  \n",
       "0    ANN ARBOR    MICHIGAN  \n",
       "1        PLANO       TEXAS  \n",
       "2  JERSEY CITY  NEW JERSEY  "
      ]
     },
     "execution_count": 9,
     "metadata": {},
     "output_type": "execute_result"
    }
   ],
   "source": [
    "df[[\"CITY\", \"STATE\"]] = df[\"WORKSITE\"].str.split(', ', expand=True)\n",
    "df[:3]"
   ]
  },
  {
   "cell_type": "code",
   "execution_count": 10,
   "metadata": {
    "collapsed": true
   },
   "outputs": [],
   "source": [
    "## Now delete the worksite feature\n",
    "del df[\"WORKSITE\"]"
   ]
  },
  {
   "cell_type": "code",
   "execution_count": 11,
   "metadata": {},
   "outputs": [
    {
     "data": {
      "text/html": [
       "<div>\n",
       "<style>\n",
       "    .dataframe thead tr:only-child th {\n",
       "        text-align: right;\n",
       "    }\n",
       "\n",
       "    .dataframe thead th {\n",
       "        text-align: left;\n",
       "    }\n",
       "\n",
       "    .dataframe tbody tr th {\n",
       "        vertical-align: top;\n",
       "    }\n",
       "</style>\n",
       "<table border=\"1\" class=\"dataframe\">\n",
       "  <thead>\n",
       "    <tr style=\"text-align: right;\">\n",
       "      <th></th>\n",
       "      <th>CASE_STATUS</th>\n",
       "      <th>EMPLOYER_NAME</th>\n",
       "      <th>SOC_NAME</th>\n",
       "      <th>JOB_TITLE</th>\n",
       "      <th>FULL_TIME_POSITION</th>\n",
       "      <th>PREVAILING_WAGE</th>\n",
       "      <th>YEAR</th>\n",
       "      <th>CITY</th>\n",
       "      <th>STATE</th>\n",
       "    </tr>\n",
       "  </thead>\n",
       "  <tbody>\n",
       "    <tr>\n",
       "      <th>0</th>\n",
       "      <td>CERTIFIED-WITHDRAWN</td>\n",
       "      <td>UNIVERSITY OF MICHIGAN</td>\n",
       "      <td>BIOCHEMISTS AND BIOPHYSICISTS</td>\n",
       "      <td>POSTDOCTORAL RESEARCH FELLOW</td>\n",
       "      <td>N</td>\n",
       "      <td>36067.0</td>\n",
       "      <td>2016.0</td>\n",
       "      <td>ANN ARBOR</td>\n",
       "      <td>MICHIGAN</td>\n",
       "    </tr>\n",
       "    <tr>\n",
       "      <th>1</th>\n",
       "      <td>CERTIFIED-WITHDRAWN</td>\n",
       "      <td>GOODMAN NETWORKS, INC.</td>\n",
       "      <td>CHIEF EXECUTIVES</td>\n",
       "      <td>CHIEF OPERATING OFFICER</td>\n",
       "      <td>Y</td>\n",
       "      <td>242674.0</td>\n",
       "      <td>2016.0</td>\n",
       "      <td>PLANO</td>\n",
       "      <td>TEXAS</td>\n",
       "    </tr>\n",
       "    <tr>\n",
       "      <th>2</th>\n",
       "      <td>CERTIFIED-WITHDRAWN</td>\n",
       "      <td>PORTS AMERICA GROUP, INC.</td>\n",
       "      <td>CHIEF EXECUTIVES</td>\n",
       "      <td>CHIEF PROCESS OFFICER</td>\n",
       "      <td>Y</td>\n",
       "      <td>193066.0</td>\n",
       "      <td>2016.0</td>\n",
       "      <td>JERSEY CITY</td>\n",
       "      <td>NEW JERSEY</td>\n",
       "    </tr>\n",
       "  </tbody>\n",
       "</table>\n",
       "</div>"
      ],
      "text/plain": [
       "           CASE_STATUS              EMPLOYER_NAME  \\\n",
       "0  CERTIFIED-WITHDRAWN     UNIVERSITY OF MICHIGAN   \n",
       "1  CERTIFIED-WITHDRAWN     GOODMAN NETWORKS, INC.   \n",
       "2  CERTIFIED-WITHDRAWN  PORTS AMERICA GROUP, INC.   \n",
       "\n",
       "                        SOC_NAME                     JOB_TITLE  \\\n",
       "0  BIOCHEMISTS AND BIOPHYSICISTS  POSTDOCTORAL RESEARCH FELLOW   \n",
       "1               CHIEF EXECUTIVES       CHIEF OPERATING OFFICER   \n",
       "2               CHIEF EXECUTIVES         CHIEF PROCESS OFFICER   \n",
       "\n",
       "  FULL_TIME_POSITION  PREVAILING_WAGE    YEAR         CITY       STATE  \n",
       "0                  N          36067.0  2016.0    ANN ARBOR    MICHIGAN  \n",
       "1                  Y         242674.0  2016.0        PLANO       TEXAS  \n",
       "2                  Y         193066.0  2016.0  JERSEY CITY  NEW JERSEY  "
      ]
     },
     "execution_count": 11,
     "metadata": {},
     "output_type": "execute_result"
    }
   ],
   "source": [
    "df[:3]"
   ]
  },
  {
   "cell_type": "markdown",
   "metadata": {},
   "source": [
    "## Feature-specific Data Cleaning"
   ]
  },
  {
   "cell_type": "markdown",
   "metadata": {},
   "source": [
    "#### CASE_STATUS\n",
    "___"
   ]
  },
  {
   "cell_type": "code",
   "execution_count": 12,
   "metadata": {
    "collapsed": true
   },
   "outputs": [],
   "source": [
    "case_status_series = df[\"CASE_STATUS\"]"
   ]
  },
  {
   "cell_type": "code",
   "execution_count": 13,
   "metadata": {},
   "outputs": [
    {
     "name": "stdout",
     "output_type": "stream",
     "text": [
      "CERTIFIED                                             2615623\n",
      "CERTIFIED-WITHDRAWN                                    202659\n",
      "DENIED                                                  94346\n",
      "WITHDRAWN                                               89799\n",
      "PENDING QUALITY AND COMPLIANCE REVIEW - UNASSIGNED         15\n",
      "REJECTED                                                    2\n",
      "INVALIDATED                                                 1\n",
      "Name: CASE_STATUS, dtype: int64\n"
     ]
    }
   ],
   "source": [
    "## Analyze the values in Case status\n",
    "print(case_status_series.value_counts())"
   ]
  },
  {
   "cell_type": "code",
   "execution_count": 14,
   "metadata": {
    "collapsed": true
   },
   "outputs": [],
   "source": [
    "## We are only intrested in these outcomes \n",
    "# certified | certified-withdraw | denied | Withdrawn \n",
    "# The others are outliers. Lets remove them \n",
    "df.drop(df[df.CASE_STATUS == \"REJECTED\"].index, axis=0, inplace=True)\n",
    "df.drop(df[df.CASE_STATUS == \"PENDING QUALITY AND COMPLIANCE REVIEW - UNASSIGNED\"].index, axis=0, inplace=True)\n",
    "df.drop(df[df.CASE_STATUS == \"INVALIDATED\"].index, axis=0, inplace=True)"
   ]
  },
  {
   "cell_type": "code",
   "execution_count": 15,
   "metadata": {},
   "outputs": [
    {
     "name": "stdout",
     "output_type": "stream",
     "text": [
      "CERTIFIED              2615623\n",
      "CERTIFIED-WITHDRAWN     202659\n",
      "DENIED                   94346\n",
      "WITHDRAWN                89799\n",
      "Name: CASE_STATUS, dtype: int64\n"
     ]
    }
   ],
   "source": [
    "## Analyze the values in Case status\n",
    "print(df[\"CASE_STATUS\"].value_counts())"
   ]
  },
  {
   "cell_type": "code",
   "execution_count": 16,
   "metadata": {},
   "outputs": [
    {
     "data": {
      "text/plain": [
       "<matplotlib.axes._subplots.AxesSubplot at 0x116ced7b8>"
      ]
     },
     "execution_count": 16,
     "metadata": {},
     "output_type": "execute_result"
    },
    {
     "data": {
      "image/png": "[encoded data removed]",
      "text/plain": [
       "<matplotlib.figure.Figure at 0x116cedb38>"
      ]
     },
     "metadata": {},
     "output_type": "display_data"
    }
   ],
   "source": [
    "# Check out the distribution of likely outcomes\n",
    "df[\"CASE_STATUS\"].value_counts().plot.bar()"
   ]
  },
  {
   "cell_type": "markdown",
   "metadata": {},
   "source": [
    "#### EMPLOYER_NAME\n",
    "___"
   ]
  },
  {
   "cell_type": "code",
   "execution_count": 17,
   "metadata": {},
   "outputs": [
    {
     "name": "stdout",
     "output_type": "stream",
     "text": [
      "There 59 instances missing employer names\n"
     ]
    }
   ],
   "source": [
    "# Are there any missing employer names \n",
    "print(\"There %d instances missing employer names\" % len(df[pd.isnull(df.EMPLOYER_NAME)]))"
   ]
  },
  {
   "cell_type": "markdown",
   "metadata": {},
   "source": [
    "+ Since these are not numerical data we cannot imput using a measure of central tendency\n",
    "+ Since the data seems to be missing completely at random, we should remove it. Cannot figure out what employer name should be from the available data"
   ]
  },
  {
   "cell_type": "code",
   "execution_count": 18,
   "metadata": {
    "collapsed": true
   },
   "outputs": [],
   "source": [
    "# Remove Instances without Employer name valued\n",
    "df = df[pd.notnull(df[\"EMPLOYER_NAME\"])]"
   ]
  },
  {
   "cell_type": "markdown",
   "metadata": {},
   "source": [
    "#### SOC_NAME\n",
    "___"
   ]
  },
  {
   "cell_type": "markdown",
   "metadata": {},
   "source": [
    "+ The SOC_NAME captures the same information as Job title. In the essence of dimension reduction and to only use features that are neccessary. i will remove this feature "
   ]
  },
  {
   "cell_type": "code",
   "execution_count": 19,
   "metadata": {
    "collapsed": true
   },
   "outputs": [],
   "source": [
    "del df[\"SOC_NAME\"]"
   ]
  },
  {
   "cell_type": "code",
   "execution_count": 20,
   "metadata": {},
   "outputs": [
    {
     "data": {
      "text/html": [
       "<div>\n",
       "<style>\n",
       "    .dataframe thead tr:only-child th {\n",
       "        text-align: right;\n",
       "    }\n",
       "\n",
       "    .dataframe thead th {\n",
       "        text-align: left;\n",
       "    }\n",
       "\n",
       "    .dataframe tbody tr th {\n",
       "        vertical-align: top;\n",
       "    }\n",
       "</style>\n",
       "<table border=\"1\" class=\"dataframe\">\n",
       "  <thead>\n",
       "    <tr style=\"text-align: right;\">\n",
       "      <th></th>\n",
       "      <th>CASE_STATUS</th>\n",
       "      <th>EMPLOYER_NAME</th>\n",
       "      <th>JOB_TITLE</th>\n",
       "      <th>FULL_TIME_POSITION</th>\n",
       "      <th>PREVAILING_WAGE</th>\n",
       "      <th>YEAR</th>\n",
       "      <th>CITY</th>\n",
       "      <th>STATE</th>\n",
       "    </tr>\n",
       "  </thead>\n",
       "  <tbody>\n",
       "    <tr>\n",
       "      <th>0</th>\n",
       "      <td>CERTIFIED-WITHDRAWN</td>\n",
       "      <td>UNIVERSITY OF MICHIGAN</td>\n",
       "      <td>POSTDOCTORAL RESEARCH FELLOW</td>\n",
       "      <td>N</td>\n",
       "      <td>36067.0</td>\n",
       "      <td>2016.0</td>\n",
       "      <td>ANN ARBOR</td>\n",
       "      <td>MICHIGAN</td>\n",
       "    </tr>\n",
       "    <tr>\n",
       "      <th>1</th>\n",
       "      <td>CERTIFIED-WITHDRAWN</td>\n",
       "      <td>GOODMAN NETWORKS, INC.</td>\n",
       "      <td>CHIEF OPERATING OFFICER</td>\n",
       "      <td>Y</td>\n",
       "      <td>242674.0</td>\n",
       "      <td>2016.0</td>\n",
       "      <td>PLANO</td>\n",
       "      <td>TEXAS</td>\n",
       "    </tr>\n",
       "    <tr>\n",
       "      <th>2</th>\n",
       "      <td>CERTIFIED-WITHDRAWN</td>\n",
       "      <td>PORTS AMERICA GROUP, INC.</td>\n",
       "      <td>CHIEF PROCESS OFFICER</td>\n",
       "      <td>Y</td>\n",
       "      <td>193066.0</td>\n",
       "      <td>2016.0</td>\n",
       "      <td>JERSEY CITY</td>\n",
       "      <td>NEW JERSEY</td>\n",
       "    </tr>\n",
       "  </tbody>\n",
       "</table>\n",
       "</div>"
      ],
      "text/plain": [
       "           CASE_STATUS              EMPLOYER_NAME  \\\n",
       "0  CERTIFIED-WITHDRAWN     UNIVERSITY OF MICHIGAN   \n",
       "1  CERTIFIED-WITHDRAWN     GOODMAN NETWORKS, INC.   \n",
       "2  CERTIFIED-WITHDRAWN  PORTS AMERICA GROUP, INC.   \n",
       "\n",
       "                      JOB_TITLE FULL_TIME_POSITION  PREVAILING_WAGE    YEAR  \\\n",
       "0  POSTDOCTORAL RESEARCH FELLOW                  N          36067.0  2016.0   \n",
       "1       CHIEF OPERATING OFFICER                  Y         242674.0  2016.0   \n",
       "2         CHIEF PROCESS OFFICER                  Y         193066.0  2016.0   \n",
       "\n",
       "          CITY       STATE  \n",
       "0    ANN ARBOR    MICHIGAN  \n",
       "1        PLANO       TEXAS  \n",
       "2  JERSEY CITY  NEW JERSEY  "
      ]
     },
     "execution_count": 20,
     "metadata": {},
     "output_type": "execute_result"
    }
   ],
   "source": [
    "df[:3]"
   ]
  },
  {
   "cell_type": "markdown",
   "metadata": {},
   "source": [
    "#### JOB TITLE\n",
    "___"
   ]
  },
  {
   "cell_type": "code",
   "execution_count": 21,
   "metadata": {},
   "outputs": [
    {
     "name": "stdout",
     "output_type": "stream",
     "text": [
      "There 21 missing instances of job title\n"
     ]
    }
   ],
   "source": [
    "# Do we have any missing values\n",
    "print(\"There %d missing instances of job title\" % len(df[pd.isnull(df[\"JOB_TITLE\"])]))"
   ]
  },
  {
   "cell_type": "code",
   "execution_count": 22,
   "metadata": {
    "collapsed": true
   },
   "outputs": [],
   "source": [
    "# Remove these missing instances\n",
    "df = df[pd.notnull(df[\"JOB_TITLE\"])]"
   ]
  },
  {
   "cell_type": "code",
   "execution_count": 23,
   "metadata": {},
   "outputs": [
    {
     "name": "stdout",
     "output_type": "stream",
     "text": [
      "There 249034 distinct jobs in the DataSet\n"
     ]
    }
   ],
   "source": [
    "# How many distinct Job titles are there \n",
    "job_stat = df[\"JOB_TITLE\"].value_counts()\n",
    "print(\"There %d distinct jobs in the DataSet\" %job_stat[0])"
   ]
  },
  {
   "cell_type": "markdown",
   "metadata": {},
   "source": [
    "#### FULL_TIME_POSITION\n",
    "___"
   ]
  },
  {
   "cell_type": "code",
   "execution_count": 24,
   "metadata": {},
   "outputs": [
    {
     "name": "stdout",
     "output_type": "stream",
     "text": [
      "There 1 missing instance of full time\n"
     ]
    }
   ],
   "source": [
    "# Do we have missing values\n",
    "print(\"There %d missing instance of full time\" % len(df[pd.isnull(df[\"FULL_TIME_POSITION\"])]))"
   ]
  },
  {
   "cell_type": "code",
   "execution_count": 25,
   "metadata": {},
   "outputs": [
    {
     "data": {
      "text/html": [
       "<div>\n",
       "<style>\n",
       "    .dataframe thead tr:only-child th {\n",
       "        text-align: right;\n",
       "    }\n",
       "\n",
       "    .dataframe thead th {\n",
       "        text-align: left;\n",
       "    }\n",
       "\n",
       "    .dataframe tbody tr th {\n",
       "        vertical-align: top;\n",
       "    }\n",
       "</style>\n",
       "<table border=\"1\" class=\"dataframe\">\n",
       "  <thead>\n",
       "    <tr style=\"text-align: right;\">\n",
       "      <th></th>\n",
       "      <th>CASE_STATUS</th>\n",
       "      <th>EMPLOYER_NAME</th>\n",
       "      <th>JOB_TITLE</th>\n",
       "      <th>FULL_TIME_POSITION</th>\n",
       "      <th>PREVAILING_WAGE</th>\n",
       "      <th>YEAR</th>\n",
       "      <th>CITY</th>\n",
       "      <th>STATE</th>\n",
       "    </tr>\n",
       "  </thead>\n",
       "  <tbody>\n",
       "    <tr>\n",
       "      <th>131977</th>\n",
       "      <td>DENIED</td>\n",
       "      <td>FOUR SEASONS HEATING AND AIR CONDITIONING</td>\n",
       "      <td>COMPUTER SYSTEMS ANALAYST</td>\n",
       "      <td>NaN</td>\n",
       "      <td>NaN</td>\n",
       "      <td>2016.0</td>\n",
       "      <td>CHICAGO</td>\n",
       "      <td>ILLINOIS</td>\n",
       "    </tr>\n",
       "  </tbody>\n",
       "</table>\n",
       "</div>"
      ],
      "text/plain": [
       "       CASE_STATUS                              EMPLOYER_NAME  \\\n",
       "131977      DENIED  FOUR SEASONS HEATING AND AIR CONDITIONING   \n",
       "\n",
       "                        JOB_TITLE FULL_TIME_POSITION  PREVAILING_WAGE    YEAR  \\\n",
       "131977  COMPUTER SYSTEMS ANALAYST                NaN              NaN  2016.0   \n",
       "\n",
       "           CITY     STATE  \n",
       "131977  CHICAGO  ILLINOIS  "
      ]
     },
     "execution_count": 25,
     "metadata": {},
     "output_type": "execute_result"
    }
   ],
   "source": [
    "df[pd.isnull(df[\"FULL_TIME_POSITION\"])]"
   ]
  },
  {
   "cell_type": "code",
   "execution_count": 26,
   "metadata": {
    "collapsed": true
   },
   "outputs": [],
   "source": [
    "# Remove this instance\n",
    "df = df[pd.notnull(df[\"FULL_TIME_POSITION\"])]"
   ]
  },
  {
   "cell_type": "markdown",
   "metadata": {},
   "source": [
    "#### PREVAILING WAGE\n",
    "___"
   ]
  },
  {
   "cell_type": "code",
   "execution_count": 27,
   "metadata": {},
   "outputs": [
    {
     "name": "stdout",
     "output_type": "stream",
     "text": [
      "There 66 instances missing prevailing values\n"
     ]
    }
   ],
   "source": [
    "# Do we have any missing values\n",
    "print(\"There %d instances missing prevailing values\" % len(df[pd.isnull(df[\"PREVAILING_WAGE\"])]))"
   ]
  },
  {
   "cell_type": "code",
   "execution_count": 28,
   "metadata": {},
   "outputs": [
    {
     "data": {
      "text/html": [
       "<div>\n",
       "<style>\n",
       "    .dataframe thead tr:only-child th {\n",
       "        text-align: right;\n",
       "    }\n",
       "\n",
       "    .dataframe thead th {\n",
       "        text-align: left;\n",
       "    }\n",
       "\n",
       "    .dataframe tbody tr th {\n",
       "        vertical-align: top;\n",
       "    }\n",
       "</style>\n",
       "<table border=\"1\" class=\"dataframe\">\n",
       "  <thead>\n",
       "    <tr style=\"text-align: right;\">\n",
       "      <th></th>\n",
       "      <th>CASE_STATUS</th>\n",
       "      <th>EMPLOYER_NAME</th>\n",
       "      <th>JOB_TITLE</th>\n",
       "      <th>FULL_TIME_POSITION</th>\n",
       "      <th>PREVAILING_WAGE</th>\n",
       "      <th>YEAR</th>\n",
       "      <th>CITY</th>\n",
       "      <th>STATE</th>\n",
       "    </tr>\n",
       "  </thead>\n",
       "  <tbody>\n",
       "    <tr>\n",
       "      <th>0</th>\n",
       "      <td>CERTIFIED-WITHDRAWN</td>\n",
       "      <td>UNIVERSITY OF MICHIGAN</td>\n",
       "      <td>POSTDOCTORAL RESEARCH FELLOW</td>\n",
       "      <td>N</td>\n",
       "      <td>36067.0</td>\n",
       "      <td>2016.0</td>\n",
       "      <td>ANN ARBOR</td>\n",
       "      <td>MICHIGAN</td>\n",
       "    </tr>\n",
       "    <tr>\n",
       "      <th>1</th>\n",
       "      <td>CERTIFIED-WITHDRAWN</td>\n",
       "      <td>GOODMAN NETWORKS, INC.</td>\n",
       "      <td>CHIEF OPERATING OFFICER</td>\n",
       "      <td>Y</td>\n",
       "      <td>242674.0</td>\n",
       "      <td>2016.0</td>\n",
       "      <td>PLANO</td>\n",
       "      <td>TEXAS</td>\n",
       "    </tr>\n",
       "  </tbody>\n",
       "</table>\n",
       "</div>"
      ],
      "text/plain": [
       "           CASE_STATUS           EMPLOYER_NAME                     JOB_TITLE  \\\n",
       "0  CERTIFIED-WITHDRAWN  UNIVERSITY OF MICHIGAN  POSTDOCTORAL RESEARCH FELLOW   \n",
       "1  CERTIFIED-WITHDRAWN  GOODMAN NETWORKS, INC.       CHIEF OPERATING OFFICER   \n",
       "\n",
       "  FULL_TIME_POSITION  PREVAILING_WAGE    YEAR       CITY     STATE  \n",
       "0                  N          36067.0  2016.0  ANN ARBOR  MICHIGAN  \n",
       "1                  Y         242674.0  2016.0      PLANO     TEXAS  "
      ]
     },
     "execution_count": 28,
     "metadata": {},
     "output_type": "execute_result"
    }
   ],
   "source": [
    "# Applications have to have a wage provided. \n",
    "# Remove instances with wages missing\n",
    "df = df[pd.notnull(df[\"PREVAILING_WAGE\"])]\n",
    "df[:2]"
   ]
  },
  {
   "cell_type": "code",
   "execution_count": 29,
   "metadata": {},
   "outputs": [
    {
     "data": {
      "text/html": [
       "<div>\n",
       "<style>\n",
       "    .dataframe thead tr:only-child th {\n",
       "        text-align: right;\n",
       "    }\n",
       "\n",
       "    .dataframe thead th {\n",
       "        text-align: left;\n",
       "    }\n",
       "\n",
       "    .dataframe tbody tr th {\n",
       "        vertical-align: top;\n",
       "    }\n",
       "</style>\n",
       "<table border=\"1\" class=\"dataframe\">\n",
       "  <thead>\n",
       "    <tr style=\"text-align: right;\">\n",
       "      <th></th>\n",
       "      <th>CASE_STATUS</th>\n",
       "      <th>EMPLOYER_NAME</th>\n",
       "      <th>JOB_TITLE</th>\n",
       "      <th>FULL_TIME_POSITION</th>\n",
       "      <th>PREVAILING_WAGE</th>\n",
       "      <th>YEAR</th>\n",
       "      <th>CITY</th>\n",
       "      <th>STATE</th>\n",
       "    </tr>\n",
       "  </thead>\n",
       "  <tbody>\n",
       "    <tr>\n",
       "      <th>0</th>\n",
       "      <td>CERTIFIED-WITHDRAWN</td>\n",
       "      <td>UNIVERSITY OF MICHIGAN</td>\n",
       "      <td>POSTDOCTORAL RESEARCH FELLOW</td>\n",
       "      <td>N</td>\n",
       "      <td>36067</td>\n",
       "      <td>2016.0</td>\n",
       "      <td>ANN ARBOR</td>\n",
       "      <td>MICHIGAN</td>\n",
       "    </tr>\n",
       "    <tr>\n",
       "      <th>1</th>\n",
       "      <td>CERTIFIED-WITHDRAWN</td>\n",
       "      <td>GOODMAN NETWORKS, INC.</td>\n",
       "      <td>CHIEF OPERATING OFFICER</td>\n",
       "      <td>Y</td>\n",
       "      <td>242674</td>\n",
       "      <td>2016.0</td>\n",
       "      <td>PLANO</td>\n",
       "      <td>TEXAS</td>\n",
       "    </tr>\n",
       "  </tbody>\n",
       "</table>\n",
       "</div>"
      ],
      "text/plain": [
       "           CASE_STATUS           EMPLOYER_NAME                     JOB_TITLE  \\\n",
       "0  CERTIFIED-WITHDRAWN  UNIVERSITY OF MICHIGAN  POSTDOCTORAL RESEARCH FELLOW   \n",
       "1  CERTIFIED-WITHDRAWN  GOODMAN NETWORKS, INC.       CHIEF OPERATING OFFICER   \n",
       "\n",
       "  FULL_TIME_POSITION  PREVAILING_WAGE    YEAR       CITY     STATE  \n",
       "0                  N            36067  2016.0  ANN ARBOR  MICHIGAN  \n",
       "1                  Y           242674  2016.0      PLANO     TEXAS  "
      ]
     },
     "execution_count": 29,
     "metadata": {},
     "output_type": "execute_result"
    }
   ],
   "source": [
    "# We can see that the wage values are in floats. For easier calculations convert these to ints \n",
    "df[\"PREVAILING_WAGE\"] = df[\"PREVAILING_WAGE\"].astype(int)\n",
    "df[:2]"
   ]
  },
  {
   "cell_type": "markdown",
   "metadata": {},
   "source": [
    "#### YEAR\n",
    "___"
   ]
  },
  {
   "cell_type": "code",
   "execution_count": 30,
   "metadata": {},
   "outputs": [
    {
     "name": "stdout",
     "output_type": "stream",
     "text": [
      "There 0 instances missing Year values\n"
     ]
    }
   ],
   "source": [
    "# Do we have any missing Data\n",
    "print(\"There %d instances missing Year values\" % len(df[pd.isnull(df[\"YEAR\"])]))"
   ]
  },
  {
   "cell_type": "code",
   "execution_count": 31,
   "metadata": {},
   "outputs": [
    {
     "data": {
      "text/html": [
       "<div>\n",
       "<style>\n",
       "    .dataframe thead tr:only-child th {\n",
       "        text-align: right;\n",
       "    }\n",
       "\n",
       "    .dataframe thead th {\n",
       "        text-align: left;\n",
       "    }\n",
       "\n",
       "    .dataframe tbody tr th {\n",
       "        vertical-align: top;\n",
       "    }\n",
       "</style>\n",
       "<table border=\"1\" class=\"dataframe\">\n",
       "  <thead>\n",
       "    <tr style=\"text-align: right;\">\n",
       "      <th></th>\n",
       "      <th>CASE_STATUS</th>\n",
       "      <th>EMPLOYER_NAME</th>\n",
       "      <th>JOB_TITLE</th>\n",
       "      <th>FULL_TIME_POSITION</th>\n",
       "      <th>PREVAILING_WAGE</th>\n",
       "      <th>YEAR</th>\n",
       "      <th>CITY</th>\n",
       "      <th>STATE</th>\n",
       "    </tr>\n",
       "  </thead>\n",
       "  <tbody>\n",
       "    <tr>\n",
       "      <th>0</th>\n",
       "      <td>CERTIFIED-WITHDRAWN</td>\n",
       "      <td>UNIVERSITY OF MICHIGAN</td>\n",
       "      <td>POSTDOCTORAL RESEARCH FELLOW</td>\n",
       "      <td>N</td>\n",
       "      <td>36067</td>\n",
       "      <td>2016</td>\n",
       "      <td>ANN ARBOR</td>\n",
       "      <td>MICHIGAN</td>\n",
       "    </tr>\n",
       "    <tr>\n",
       "      <th>1</th>\n",
       "      <td>CERTIFIED-WITHDRAWN</td>\n",
       "      <td>GOODMAN NETWORKS, INC.</td>\n",
       "      <td>CHIEF OPERATING OFFICER</td>\n",
       "      <td>Y</td>\n",
       "      <td>242674</td>\n",
       "      <td>2016</td>\n",
       "      <td>PLANO</td>\n",
       "      <td>TEXAS</td>\n",
       "    </tr>\n",
       "  </tbody>\n",
       "</table>\n",
       "</div>"
      ],
      "text/plain": [
       "           CASE_STATUS           EMPLOYER_NAME                     JOB_TITLE  \\\n",
       "0  CERTIFIED-WITHDRAWN  UNIVERSITY OF MICHIGAN  POSTDOCTORAL RESEARCH FELLOW   \n",
       "1  CERTIFIED-WITHDRAWN  GOODMAN NETWORKS, INC.       CHIEF OPERATING OFFICER   \n",
       "\n",
       "  FULL_TIME_POSITION  PREVAILING_WAGE  YEAR       CITY     STATE  \n",
       "0                  N            36067  2016  ANN ARBOR  MICHIGAN  \n",
       "1                  Y           242674  2016      PLANO     TEXAS  "
      ]
     },
     "execution_count": 31,
     "metadata": {},
     "output_type": "execute_result"
    }
   ],
   "source": [
    "## That is great, Now, need to convert the year as given to ints \n",
    "df[\"YEAR\"] = df[\"YEAR\"].astype(int)\n",
    "df[:2]"
   ]
  },
  {
   "cell_type": "markdown",
   "metadata": {},
   "source": [
    "# Data Exploration\n",
    "---"
   ]
  },
  {
   "cell_type": "markdown",
   "metadata": {},
   "source": [
    "#### CASE_STATUS\n",
    "___"
   ]
  },
  {
   "cell_type": "markdown",
   "metadata": {},
   "source": [
    "#### One average do most appplications get certified, denied or withdrawn ?"
   ]
  },
  {
   "cell_type": "code",
   "execution_count": 32,
   "metadata": {},
   "outputs": [
    {
     "name": "stdout",
     "output_type": "stream",
     "text": [
      "TOTAL Number of Instances : 3002293 \n",
      "CERTIFIED : 87.12 % \n",
      "CERTIFIED-WITHDRAWN: 6.75 % \n",
      "DENIED: 3.14 % \n",
      "WITHDRAWN: 2.99 % \n"
     ]
    }
   ],
   "source": [
    "df_group = df.groupby(\"CASE_STATUS\")\n",
    "total = len(df)\n",
    "print(\"TOTAL Number of Instances : %d \" %total)\n",
    "print(\"CERTIFIED : {:04.2f} % \".format(df_group.size()[0]* 100 / total))\n",
    "print(\"CERTIFIED-WITHDRAWN: {:04.2f} % \".format(df_group.size()[1]* 100/total))\n",
    "print(\"DENIED: {:04.2f} % \".format(df_group.size()[2]* 100/total))\n",
    "print(\"WITHDRAWN: {:04.2f} % \".format(df_group.size()[3]* 100/total))\n"
   ]
  },
  {
   "cell_type": "markdown",
   "metadata": {
    "collapsed": true
   },
   "source": [
    "**Observation**\n",
    "+ It seems that most application are accepted than denied or withdrawn"
   ]
  },
  {
   "cell_type": "markdown",
   "metadata": {},
   "source": [
    "### Of the application that were certified, Which cities had the highest amount of certified applications ?"
   ]
  },
  {
   "cell_type": "code",
   "execution_count": 70,
   "metadata": {},
   "outputs": [],
   "source": [
    "certified_applications = df[\"CASE_STATUS\"] == \"CERTIFIED\"\n",
    "certified_df = df[certified_applications]\n",
    "city_wages = certified_df.groupby(\"CITY\").agg({\"PREVAILING_WAGE\": [\"count\", \"mean\", \"min\", \"max\"]})"
   ]
  },
  {
   "cell_type": "code",
   "execution_count": 71,
   "metadata": {},
   "outputs": [
    {
     "data": {
      "text/html": [
       "<div>\n",
       "<style>\n",
       "    .dataframe thead tr:only-child th {\n",
       "        text-align: right;\n",
       "    }\n",
       "\n",
       "    .dataframe thead th {\n",
       "        text-align: left;\n",
       "    }\n",
       "\n",
       "    .dataframe tbody tr th {\n",
       "        vertical-align: top;\n",
       "    }\n",
       "</style>\n",
       "<table border=\"1\" class=\"dataframe\">\n",
       "  <thead>\n",
       "    <tr>\n",
       "      <th></th>\n",
       "      <th colspan=\"4\" halign=\"left\">PREVAILING_WAGE</th>\n",
       "    </tr>\n",
       "    <tr>\n",
       "      <th></th>\n",
       "      <th>count</th>\n",
       "      <th>mean</th>\n",
       "      <th>min</th>\n",
       "      <th>max</th>\n",
       "    </tr>\n",
       "    <tr>\n",
       "      <th>CITY</th>\n",
       "      <th></th>\n",
       "      <th></th>\n",
       "      <th></th>\n",
       "      <th></th>\n",
       "    </tr>\n",
       "  </thead>\n",
       "  <tbody>\n",
       "    <tr>\n",
       "      <th>NEW YORK</th>\n",
       "      <td>164157</td>\n",
       "      <td>79768.263297</td>\n",
       "      <td>15080</td>\n",
       "      <td>125594560</td>\n",
       "    </tr>\n",
       "    <tr>\n",
       "      <th>HOUSTON</th>\n",
       "      <td>71676</td>\n",
       "      <td>70623.581185</td>\n",
       "      <td>15288</td>\n",
       "      <td>665400</td>\n",
       "    </tr>\n",
       "    <tr>\n",
       "      <th>SAN FRANCISCO</th>\n",
       "      <td>54387</td>\n",
       "      <td>95169.368434</td>\n",
       "      <td>16640</td>\n",
       "      <td>159989440</td>\n",
       "    </tr>\n",
       "    <tr>\n",
       "      <th>ATLANTA</th>\n",
       "      <td>46954</td>\n",
       "      <td>69368.885782</td>\n",
       "      <td>15870</td>\n",
       "      <td>114345920</td>\n",
       "    </tr>\n",
       "    <tr>\n",
       "      <th>CHICAGO</th>\n",
       "      <td>45301</td>\n",
       "      <td>65393.806384</td>\n",
       "      <td>16536</td>\n",
       "      <td>910296</td>\n",
       "    </tr>\n",
       "    <tr>\n",
       "      <th>SAN JOSE</th>\n",
       "      <td>44349</td>\n",
       "      <td>91321.783625</td>\n",
       "      <td>21570</td>\n",
       "      <td>256219</td>\n",
       "    </tr>\n",
       "    <tr>\n",
       "      <th>SUNNYVALE</th>\n",
       "      <td>30346</td>\n",
       "      <td>89825.523100</td>\n",
       "      <td>17763</td>\n",
       "      <td>231709</td>\n",
       "    </tr>\n",
       "    <tr>\n",
       "      <th>CHARLOTTE</th>\n",
       "      <td>28056</td>\n",
       "      <td>69424.968242</td>\n",
       "      <td>16765</td>\n",
       "      <td>590913</td>\n",
       "    </tr>\n",
       "    <tr>\n",
       "      <th>DALLAS</th>\n",
       "      <td>27896</td>\n",
       "      <td>68163.396831</td>\n",
       "      <td>15520</td>\n",
       "      <td>92268800</td>\n",
       "    </tr>\n",
       "    <tr>\n",
       "      <th>REDMOND</th>\n",
       "      <td>27460</td>\n",
       "      <td>82485.560452</td>\n",
       "      <td>33010</td>\n",
       "      <td>197100</td>\n",
       "    </tr>\n",
       "    <tr>\n",
       "      <th>BOSTON</th>\n",
       "      <td>26899</td>\n",
       "      <td>72489.171122</td>\n",
       "      <td>21153</td>\n",
       "      <td>81596320</td>\n",
       "    </tr>\n",
       "    <tr>\n",
       "      <th>IRVING</th>\n",
       "      <td>25922</td>\n",
       "      <td>66348.849742</td>\n",
       "      <td>15787</td>\n",
       "      <td>249059</td>\n",
       "    </tr>\n",
       "    <tr>\n",
       "      <th>JERSEY CITY</th>\n",
       "      <td>24578</td>\n",
       "      <td>75581.731304</td>\n",
       "      <td>16952</td>\n",
       "      <td>237328</td>\n",
       "    </tr>\n",
       "    <tr>\n",
       "      <th>SANTA CLARA</th>\n",
       "      <td>24255</td>\n",
       "      <td>91636.525294</td>\n",
       "      <td>23004</td>\n",
       "      <td>256362</td>\n",
       "    </tr>\n",
       "    <tr>\n",
       "      <th>SAN DIEGO</th>\n",
       "      <td>24052</td>\n",
       "      <td>79885.933769</td>\n",
       "      <td>18540</td>\n",
       "      <td>246522</td>\n",
       "    </tr>\n",
       "    <tr>\n",
       "      <th>SEATTLE</th>\n",
       "      <td>23943</td>\n",
       "      <td>82074.050036</td>\n",
       "      <td>21720</td>\n",
       "      <td>249808</td>\n",
       "    </tr>\n",
       "    <tr>\n",
       "      <th>MOUNTAIN VIEW</th>\n",
       "      <td>23754</td>\n",
       "      <td>116140.056454</td>\n",
       "      <td>17763</td>\n",
       "      <td>207277824</td>\n",
       "    </tr>\n",
       "    <tr>\n",
       "      <th>AUSTIN</th>\n",
       "      <td>23370</td>\n",
       "      <td>70476.479932</td>\n",
       "      <td>16058</td>\n",
       "      <td>244421</td>\n",
       "    </tr>\n",
       "    <tr>\n",
       "      <th>LOS ANGELES</th>\n",
       "      <td>22747</td>\n",
       "      <td>64962.729239</td>\n",
       "      <td>18720</td>\n",
       "      <td>911040</td>\n",
       "    </tr>\n",
       "    <tr>\n",
       "      <th>PHILADELPHIA</th>\n",
       "      <td>21503</td>\n",
       "      <td>69616.442357</td>\n",
       "      <td>16770</td>\n",
       "      <td>77658880</td>\n",
       "    </tr>\n",
       "  </tbody>\n",
       "</table>\n",
       "</div>"
      ],
      "text/plain": [
       "              PREVAILING_WAGE                                 \n",
       "                        count           mean    min        max\n",
       "CITY                                                          \n",
       "NEW YORK               164157   79768.263297  15080  125594560\n",
       "HOUSTON                 71676   70623.581185  15288     665400\n",
       "SAN FRANCISCO           54387   95169.368434  16640  159989440\n",
       "ATLANTA                 46954   69368.885782  15870  114345920\n",
       "CHICAGO                 45301   65393.806384  16536     910296\n",
       "SAN JOSE                44349   91321.783625  21570     256219\n",
       "SUNNYVALE               30346   89825.523100  17763     231709\n",
       "CHARLOTTE               28056   69424.968242  16765     590913\n",
       "DALLAS                  27896   68163.396831  15520   92268800\n",
       "REDMOND                 27460   82485.560452  33010     197100\n",
       "BOSTON                  26899   72489.171122  21153   81596320\n",
       "IRVING                  25922   66348.849742  15787     249059\n",
       "JERSEY CITY             24578   75581.731304  16952     237328\n",
       "SANTA CLARA             24255   91636.525294  23004     256362\n",
       "SAN DIEGO               24052   79885.933769  18540     246522\n",
       "SEATTLE                 23943   82074.050036  21720     249808\n",
       "MOUNTAIN VIEW           23754  116140.056454  17763  207277824\n",
       "AUSTIN                  23370   70476.479932  16058     244421\n",
       "LOS ANGELES             22747   64962.729239  18720     911040\n",
       "PHILADELPHIA            21503   69616.442357  16770   77658880"
      ]
     },
     "execution_count": 71,
     "metadata": {},
     "output_type": "execute_result"
    }
   ],
   "source": [
    "city_wages.sort_values([(\"PREVAILING_WAGE\", \"count\")], ascending=False)[:20]"
   ]
  },
  {
   "cell_type": "markdown",
   "metadata": {},
   "source": [
    "+ **The top 20 cities with certified applications**"
   ]
  },
  {
   "cell_type": "markdown",
   "metadata": {},
   "source": [
    "#### PREVAILING_WAGE\n",
    "___"
   ]
  },
  {
   "cell_type": "markdown",
   "metadata": {},
   "source": [
    "#### From all the applicants, What are the top 20 highest paying jobs on average\n",
    "___"
   ]
  },
  {
   "cell_type": "code",
   "execution_count": 37,
   "metadata": {},
   "outputs": [],
   "source": [
    "f = {\"PREVAILING_WAGE\" : [\"count\", \"mean\"]}\n",
    "job_wages = df.groupby(\"JOB_TITLE\").agg(f)\n",
    "jobs_gt_than_thou = job_wages[(\"PREVAILING_WAGE\", \"count\")] > 1000"
   ]
  },
  {
   "cell_type": "markdown",
   "metadata": {},
   "source": [
    "+ **Selected the count of 1000 to be the threshold for the support of the mean derived from the wages**\n",
    "+ **When i assert that a certain profession has X salary on average. I have the support of atleast 1000 applicants for that job**"
   ]
  },
  {
   "cell_type": "code",
   "execution_count": 46,
   "metadata": {},
   "outputs": [
    {
     "data": {
      "text/html": [
       "<div>\n",
       "<style>\n",
       "    .dataframe thead tr:only-child th {\n",
       "        text-align: right;\n",
       "    }\n",
       "\n",
       "    .dataframe thead th {\n",
       "        text-align: left;\n",
       "    }\n",
       "\n",
       "    .dataframe tbody tr th {\n",
       "        vertical-align: top;\n",
       "    }\n",
       "</style>\n",
       "<table border=\"1\" class=\"dataframe\">\n",
       "  <thead>\n",
       "    <tr>\n",
       "      <th></th>\n",
       "      <th colspan=\"2\" halign=\"left\">PREVAILING_WAGE</th>\n",
       "    </tr>\n",
       "    <tr>\n",
       "      <th></th>\n",
       "      <th>count</th>\n",
       "      <th>mean</th>\n",
       "    </tr>\n",
       "    <tr>\n",
       "      <th>JOB_TITLE</th>\n",
       "      <th></th>\n",
       "      <th></th>\n",
       "    </tr>\n",
       "  </thead>\n",
       "  <tbody>\n",
       "    <tr>\n",
       "      <th>APPLICATIONS ENGINEER</th>\n",
       "      <td>1688</td>\n",
       "      <td>510673.236967</td>\n",
       "    </tr>\n",
       "    <tr>\n",
       "      <th>PEDIATRICIAN</th>\n",
       "      <td>1214</td>\n",
       "      <td>510068.861614</td>\n",
       "    </tr>\n",
       "    <tr>\n",
       "      <th>STAFF ENGINEER</th>\n",
       "      <td>1869</td>\n",
       "      <td>404921.482076</td>\n",
       "    </tr>\n",
       "    <tr>\n",
       "      <th>INDUSTRIAL ENGINEER</th>\n",
       "      <td>2093</td>\n",
       "      <td>399272.048256</td>\n",
       "    </tr>\n",
       "    <tr>\n",
       "      <th>ATTORNEY</th>\n",
       "      <td>1050</td>\n",
       "      <td>389475.963810</td>\n",
       "    </tr>\n",
       "    <tr>\n",
       "      <th>PHYSICIAN</th>\n",
       "      <td>4417</td>\n",
       "      <td>377776.786507</td>\n",
       "    </tr>\n",
       "    <tr>\n",
       "      <th>SOFTWARE ENGINEER II</th>\n",
       "      <td>2051</td>\n",
       "      <td>368403.138469</td>\n",
       "    </tr>\n",
       "    <tr>\n",
       "      <th>HOSPITALIST</th>\n",
       "      <td>4387</td>\n",
       "      <td>367513.839526</td>\n",
       "    </tr>\n",
       "    <tr>\n",
       "      <th>.NET DEVELOPER</th>\n",
       "      <td>2921</td>\n",
       "      <td>356799.702499</td>\n",
       "    </tr>\n",
       "    <tr>\n",
       "      <th>PSYCHIATRIST</th>\n",
       "      <td>1289</td>\n",
       "      <td>345067.469356</td>\n",
       "    </tr>\n",
       "    <tr>\n",
       "      <th>HOSPITALIST PHYSICIAN</th>\n",
       "      <td>4067</td>\n",
       "      <td>340461.639292</td>\n",
       "    </tr>\n",
       "    <tr>\n",
       "      <th>ASSOCIATE ATTORNEY</th>\n",
       "      <td>1533</td>\n",
       "      <td>320363.012394</td>\n",
       "    </tr>\n",
       "    <tr>\n",
       "      <th>DIRECTOR</th>\n",
       "      <td>1333</td>\n",
       "      <td>310480.234809</td>\n",
       "    </tr>\n",
       "    <tr>\n",
       "      <th>VICE PRESIDENT</th>\n",
       "      <td>3159</td>\n",
       "      <td>310470.872111</td>\n",
       "    </tr>\n",
       "    <tr>\n",
       "      <th>SENIOR ANALYST</th>\n",
       "      <td>1646</td>\n",
       "      <td>296685.069259</td>\n",
       "    </tr>\n",
       "    <tr>\n",
       "      <th>SYSTEMS ANALYSTS</th>\n",
       "      <td>1252</td>\n",
       "      <td>295917.972045</td>\n",
       "    </tr>\n",
       "    <tr>\n",
       "      <th>QUALITY ENGINEER</th>\n",
       "      <td>2381</td>\n",
       "      <td>294435.390592</td>\n",
       "    </tr>\n",
       "    <tr>\n",
       "      <th>COMPUTER SOFTWARE ENGINEER</th>\n",
       "      <td>2684</td>\n",
       "      <td>289235.106185</td>\n",
       "    </tr>\n",
       "    <tr>\n",
       "      <th>SOFTWARE DEVELOPMENT ENGINEER I</th>\n",
       "      <td>2128</td>\n",
       "      <td>285297.159774</td>\n",
       "    </tr>\n",
       "    <tr>\n",
       "      <th>SENIOR SYSTEMS ENGINEER</th>\n",
       "      <td>2030</td>\n",
       "      <td>279278.060591</td>\n",
       "    </tr>\n",
       "  </tbody>\n",
       "</table>\n",
       "</div>"
      ],
      "text/plain": [
       "                                PREVAILING_WAGE               \n",
       "                                          count           mean\n",
       "JOB_TITLE                                                     \n",
       "APPLICATIONS ENGINEER                      1688  510673.236967\n",
       "PEDIATRICIAN                               1214  510068.861614\n",
       "STAFF ENGINEER                             1869  404921.482076\n",
       "INDUSTRIAL ENGINEER                        2093  399272.048256\n",
       "ATTORNEY                                   1050  389475.963810\n",
       "PHYSICIAN                                  4417  377776.786507\n",
       "SOFTWARE ENGINEER II                       2051  368403.138469\n",
       "HOSPITALIST                                4387  367513.839526\n",
       ".NET DEVELOPER                             2921  356799.702499\n",
       "PSYCHIATRIST                               1289  345067.469356\n",
       "HOSPITALIST PHYSICIAN                      4067  340461.639292\n",
       "ASSOCIATE ATTORNEY                         1533  320363.012394\n",
       "DIRECTOR                                   1333  310480.234809\n",
       "VICE PRESIDENT                             3159  310470.872111\n",
       "SENIOR ANALYST                             1646  296685.069259\n",
       "SYSTEMS ANALYSTS                           1252  295917.972045\n",
       "QUALITY ENGINEER                           2381  294435.390592\n",
       "COMPUTER SOFTWARE ENGINEER                 2684  289235.106185\n",
       "SOFTWARE DEVELOPMENT ENGINEER I            2128  285297.159774\n",
       "SENIOR SYSTEMS ENGINEER                    2030  279278.060591"
      ]
     },
     "execution_count": 46,
     "metadata": {},
     "output_type": "execute_result"
    }
   ],
   "source": [
    "# Get all the jobs whose count > 1000 and look at the mean wages \n",
    "## Sort the wages to get the top 20 highest average wages by profession.\n",
    "job_wages[jobs_gt_than_thou].sort_values([(\"PREVAILING_WAGE\", \"mean\")], ascending=False)[:20]"
   ]
  },
  {
   "cell_type": "markdown",
   "metadata": {},
   "source": [
    "**Observations**\n",
    "+ We see that 11 out of the top 20 highest paying professions are technical or engineering based.\n",
    "+ Five out of the remaining 9 professions are in healthcare.\n",
    "+ The others are positions of higher management.\n",
    "+ **_Therefore, if you are an foreign employee working in the Tech, Healthcare, or upper management then chances are likely earning above 250, 000 dollars annually on average_**"
   ]
  },
  {
   "cell_type": "markdown",
   "metadata": {},
   "source": [
    "#### What job categories  have the most applications ?\n",
    "___"
   ]
  },
  {
   "cell_type": "code",
   "execution_count": 47,
   "metadata": {},
   "outputs": [
    {
     "data": {
      "text/html": [
       "<div>\n",
       "<style>\n",
       "    .dataframe thead tr:only-child th {\n",
       "        text-align: right;\n",
       "    }\n",
       "\n",
       "    .dataframe thead th {\n",
       "        text-align: left;\n",
       "    }\n",
       "\n",
       "    .dataframe tbody tr th {\n",
       "        vertical-align: top;\n",
       "    }\n",
       "</style>\n",
       "<table border=\"1\" class=\"dataframe\">\n",
       "  <thead>\n",
       "    <tr>\n",
       "      <th></th>\n",
       "      <th colspan=\"2\" halign=\"left\">PREVAILING_WAGE</th>\n",
       "    </tr>\n",
       "    <tr>\n",
       "      <th></th>\n",
       "      <th>count</th>\n",
       "      <th>mean</th>\n",
       "    </tr>\n",
       "    <tr>\n",
       "      <th>JOB_TITLE</th>\n",
       "      <th></th>\n",
       "      <th></th>\n",
       "    </tr>\n",
       "  </thead>\n",
       "  <tbody>\n",
       "    <tr>\n",
       "      <th>PROGRAMMER ANALYST</th>\n",
       "      <td>249032</td>\n",
       "      <td>146496.341434</td>\n",
       "    </tr>\n",
       "    <tr>\n",
       "      <th>SOFTWARE ENGINEER</th>\n",
       "      <td>121302</td>\n",
       "      <td>152096.379112</td>\n",
       "    </tr>\n",
       "    <tr>\n",
       "      <th>COMPUTER PROGRAMMER</th>\n",
       "      <td>70569</td>\n",
       "      <td>137711.973643</td>\n",
       "    </tr>\n",
       "    <tr>\n",
       "      <th>SYSTEMS ANALYST</th>\n",
       "      <td>61964</td>\n",
       "      <td>113919.493351</td>\n",
       "    </tr>\n",
       "    <tr>\n",
       "      <th>SOFTWARE DEVELOPER</th>\n",
       "      <td>42906</td>\n",
       "      <td>195561.868014</td>\n",
       "    </tr>\n",
       "    <tr>\n",
       "      <th>BUSINESS ANALYST</th>\n",
       "      <td>39680</td>\n",
       "      <td>178219.609778</td>\n",
       "    </tr>\n",
       "    <tr>\n",
       "      <th>COMPUTER SYSTEMS ANALYST</th>\n",
       "      <td>35083</td>\n",
       "      <td>143931.686173</td>\n",
       "    </tr>\n",
       "    <tr>\n",
       "      <th>TECHNOLOGY LEAD - US</th>\n",
       "      <td>28350</td>\n",
       "      <td>89446.534427</td>\n",
       "    </tr>\n",
       "    <tr>\n",
       "      <th>SENIOR SOFTWARE ENGINEER</th>\n",
       "      <td>27133</td>\n",
       "      <td>147439.103564</td>\n",
       "    </tr>\n",
       "    <tr>\n",
       "      <th>TECHNOLOGY ANALYST - US</th>\n",
       "      <td>26055</td>\n",
       "      <td>81342.643331</td>\n",
       "    </tr>\n",
       "    <tr>\n",
       "      <th>ASSISTANT PROFESSOR</th>\n",
       "      <td>25265</td>\n",
       "      <td>139881.981951</td>\n",
       "    </tr>\n",
       "    <tr>\n",
       "      <th>SENIOR CONSULTANT</th>\n",
       "      <td>24903</td>\n",
       "      <td>113219.071558</td>\n",
       "    </tr>\n",
       "    <tr>\n",
       "      <th>CONSULTANT</th>\n",
       "      <td>23080</td>\n",
       "      <td>99863.526776</td>\n",
       "    </tr>\n",
       "    <tr>\n",
       "      <th>PHYSICAL THERAPIST</th>\n",
       "      <td>20206</td>\n",
       "      <td>141002.584628</td>\n",
       "    </tr>\n",
       "    <tr>\n",
       "      <th>PROJECT MANAGER</th>\n",
       "      <td>20170</td>\n",
       "      <td>174171.505454</td>\n",
       "    </tr>\n",
       "    <tr>\n",
       "      <th>DATABASE ADMINISTRATOR</th>\n",
       "      <td>16665</td>\n",
       "      <td>108743.610981</td>\n",
       "    </tr>\n",
       "    <tr>\n",
       "      <th>ACCOUNTANT</th>\n",
       "      <td>14048</td>\n",
       "      <td>132308.961774</td>\n",
       "    </tr>\n",
       "    <tr>\n",
       "      <th>COMPUTER PROGRAMMER ANALYST</th>\n",
       "      <td>13633</td>\n",
       "      <td>123239.738209</td>\n",
       "    </tr>\n",
       "    <tr>\n",
       "      <th>RESEARCH ASSOCIATE</th>\n",
       "      <td>13623</td>\n",
       "      <td>166287.997651</td>\n",
       "    </tr>\n",
       "    <tr>\n",
       "      <th>DEVELOPER</th>\n",
       "      <td>12909</td>\n",
       "      <td>90157.486018</td>\n",
       "    </tr>\n",
       "  </tbody>\n",
       "</table>\n",
       "</div>"
      ],
      "text/plain": [
       "                            PREVAILING_WAGE               \n",
       "                                      count           mean\n",
       "JOB_TITLE                                                 \n",
       "PROGRAMMER ANALYST                   249032  146496.341434\n",
       "SOFTWARE ENGINEER                    121302  152096.379112\n",
       "COMPUTER PROGRAMMER                   70569  137711.973643\n",
       "SYSTEMS ANALYST                       61964  113919.493351\n",
       "SOFTWARE DEVELOPER                    42906  195561.868014\n",
       "BUSINESS ANALYST                      39680  178219.609778\n",
       "COMPUTER SYSTEMS ANALYST              35083  143931.686173\n",
       "TECHNOLOGY LEAD - US                  28350   89446.534427\n",
       "SENIOR SOFTWARE ENGINEER              27133  147439.103564\n",
       "TECHNOLOGY ANALYST - US               26055   81342.643331\n",
       "ASSISTANT PROFESSOR                   25265  139881.981951\n",
       "SENIOR CONSULTANT                     24903  113219.071558\n",
       "CONSULTANT                            23080   99863.526776\n",
       "PHYSICAL THERAPIST                    20206  141002.584628\n",
       "PROJECT MANAGER                       20170  174171.505454\n",
       "DATABASE ADMINISTRATOR                16665  108743.610981\n",
       "ACCOUNTANT                            14048  132308.961774\n",
       "COMPUTER PROGRAMMER ANALYST           13633  123239.738209\n",
       "RESEARCH ASSOCIATE                    13623  166287.997651\n",
       "DEVELOPER                             12909   90157.486018"
      ]
     },
     "execution_count": 47,
     "metadata": {},
     "output_type": "execute_result"
    }
   ],
   "source": [
    "job_wages[jobs_gt_than_thou].sort_values([(\"PREVAILING_WAGE\", \"count\")], ascending=False)[:20]"
   ]
  },
  {
   "cell_type": "markdown",
   "metadata": {},
   "source": [
    "**Observations**\n",
    "1. The top 10 positions are all technical roles. \n",
    "2. 12 / 20 of the most occuring jobs in the applications are technical\n",
    "3. Accountant, Phyiscal therapy and Consulant are the only Job titles in the top 20 that are not technical\n",
    "4. Programmer Analyst was the most common job among the applications\n"
   ]
  },
  {
   "cell_type": "markdown",
   "metadata": {},
   "source": [
    "#### EMPLOYER_NAME\n",
    "___"
   ]
  },
  {
   "cell_type": "markdown",
   "metadata": {},
   "source": [
    "#### Which employers have the most applications for sponsorship"
   ]
  },
  {
   "cell_type": "code",
   "execution_count": 116,
   "metadata": {},
   "outputs": [],
   "source": [
    "employer_group_df = df.groupby(\"EMPLOYER_NAME\").agg({\"PREVAILING_WAGE\": [\"count\"]}).sort_values([(\"PREVAILING_WAGE\", \"count\")], ascending=False)[:20]"
   ]
  },
  {
   "cell_type": "code",
   "execution_count": 118,
   "metadata": {},
   "outputs": [
    {
     "data": {
      "text/html": [
       "<div>\n",
       "<style>\n",
       "    .dataframe thead tr:only-child th {\n",
       "        text-align: right;\n",
       "    }\n",
       "\n",
       "    .dataframe thead th {\n",
       "        text-align: left;\n",
       "    }\n",
       "\n",
       "    .dataframe tbody tr th {\n",
       "        vertical-align: top;\n",
       "    }\n",
       "</style>\n",
       "<table border=\"1\" class=\"dataframe\">\n",
       "  <thead>\n",
       "    <tr>\n",
       "      <th></th>\n",
       "      <th>PREVAILING_WAGE</th>\n",
       "    </tr>\n",
       "    <tr>\n",
       "      <th></th>\n",
       "      <th>count</th>\n",
       "    </tr>\n",
       "    <tr>\n",
       "      <th>EMPLOYER_NAME</th>\n",
       "      <th></th>\n",
       "    </tr>\n",
       "  </thead>\n",
       "  <tbody>\n",
       "    <tr>\n",
       "      <th>INFOSYS LIMITED</th>\n",
       "      <td>130592</td>\n",
       "    </tr>\n",
       "    <tr>\n",
       "      <th>TATA CONSULTANCY SERVICES LIMITED</th>\n",
       "      <td>64726</td>\n",
       "    </tr>\n",
       "    <tr>\n",
       "      <th>WIPRO LIMITED</th>\n",
       "      <td>48117</td>\n",
       "    </tr>\n",
       "    <tr>\n",
       "      <th>DELOITTE CONSULTING LLP</th>\n",
       "      <td>36742</td>\n",
       "    </tr>\n",
       "    <tr>\n",
       "      <th>IBM INDIA PRIVATE LIMITED</th>\n",
       "      <td>34214</td>\n",
       "    </tr>\n",
       "    <tr>\n",
       "      <th>ACCENTURE LLP</th>\n",
       "      <td>33447</td>\n",
       "    </tr>\n",
       "    <tr>\n",
       "      <th>MICROSOFT CORPORATION</th>\n",
       "      <td>25576</td>\n",
       "    </tr>\n",
       "    <tr>\n",
       "      <th>HCL AMERICA, INC.</th>\n",
       "      <td>22678</td>\n",
       "    </tr>\n",
       "    <tr>\n",
       "      <th>ERNST &amp; YOUNG U.S. LLP</th>\n",
       "      <td>18232</td>\n",
       "    </tr>\n",
       "    <tr>\n",
       "      <th>COGNIZANT TECHNOLOGY SOLUTIONS U.S. CORPORATION</th>\n",
       "      <td>17528</td>\n",
       "    </tr>\n",
       "    <tr>\n",
       "      <th>LARSEN &amp; TOUBRO INFOTECH LIMITED</th>\n",
       "      <td>17456</td>\n",
       "    </tr>\n",
       "    <tr>\n",
       "      <th>CAPGEMINI AMERICA INC</th>\n",
       "      <td>16725</td>\n",
       "    </tr>\n",
       "    <tr>\n",
       "      <th>GOOGLE INC.</th>\n",
       "      <td>16473</td>\n",
       "    </tr>\n",
       "    <tr>\n",
       "      <th>IBM CORPORATION</th>\n",
       "      <td>13276</td>\n",
       "    </tr>\n",
       "    <tr>\n",
       "      <th>IGATE TECHNOLOGIES INC.</th>\n",
       "      <td>12564</td>\n",
       "    </tr>\n",
       "    <tr>\n",
       "      <th>INTEL CORPORATION</th>\n",
       "      <td>11415</td>\n",
       "    </tr>\n",
       "    <tr>\n",
       "      <th>TECH MAHINDRA (AMERICAS),INC.</th>\n",
       "      <td>10732</td>\n",
       "    </tr>\n",
       "    <tr>\n",
       "      <th>DELOITTE &amp; TOUCHE LLP</th>\n",
       "      <td>9642</td>\n",
       "    </tr>\n",
       "    <tr>\n",
       "      <th>AMAZON CORPORATE LLC</th>\n",
       "      <td>9026</td>\n",
       "    </tr>\n",
       "    <tr>\n",
       "      <th>ORACLE AMERICA, INC.</th>\n",
       "      <td>7684</td>\n",
       "    </tr>\n",
       "  </tbody>\n",
       "</table>\n",
       "</div>"
      ],
      "text/plain": [
       "                                                PREVAILING_WAGE\n",
       "                                                          count\n",
       "EMPLOYER_NAME                                                  \n",
       "INFOSYS LIMITED                                          130592\n",
       "TATA CONSULTANCY SERVICES LIMITED                         64726\n",
       "WIPRO LIMITED                                             48117\n",
       "DELOITTE CONSULTING LLP                                   36742\n",
       "IBM INDIA PRIVATE LIMITED                                 34214\n",
       "ACCENTURE LLP                                             33447\n",
       "MICROSOFT CORPORATION                                     25576\n",
       "HCL AMERICA, INC.                                         22678\n",
       "ERNST & YOUNG U.S. LLP                                    18232\n",
       "COGNIZANT TECHNOLOGY SOLUTIONS U.S. CORPORATION           17528\n",
       "LARSEN & TOUBRO INFOTECH LIMITED                          17456\n",
       "CAPGEMINI AMERICA INC                                     16725\n",
       "GOOGLE INC.                                               16473\n",
       "IBM CORPORATION                                           13276\n",
       "IGATE TECHNOLOGIES INC.                                   12564\n",
       "INTEL CORPORATION                                         11415\n",
       "TECH MAHINDRA (AMERICAS),INC.                             10732\n",
       "DELOITTE & TOUCHE LLP                                      9642\n",
       "AMAZON CORPORATE LLC                                       9026\n",
       "ORACLE AMERICA, INC.                                       7684"
      ]
     },
     "execution_count": 118,
     "metadata": {},
     "output_type": "execute_result"
    }
   ],
   "source": [
    "## top 20 employers by count of applications initiated for foreign employees\n",
    "employer_group_df"
   ]
  },
  {
   "cell_type": "markdown",
   "metadata": {},
   "source": [
    "+ The top recruiters of international employees are Indian tech companies. \n",
    "+ We also have alot of American Tech companies sponsoring international as well as Consulting and Accounting Firms"
   ]
  },
  {
   "cell_type": "markdown",
   "metadata": {},
   "source": [
    "#### FULL_TIME POSITIONS"
   ]
  },
  {
   "cell_type": "markdown",
   "metadata": {},
   "source": [
    "#### YEAR\n",
    "---\n",
    "#### What is the trend with applications per year"
   ]
  },
  {
   "cell_type": "code",
   "execution_count": 123,
   "metadata": {},
   "outputs": [
    {
     "data": {
      "text/plain": [
       "<matplotlib.axes._subplots.AxesSubplot at 0x16c124198>"
      ]
     },
     "execution_count": 123,
     "metadata": {},
     "output_type": "execute_result"
    },
    {
     "data": {
      "image/png": "[encoded data removed]",
      "text/plain": [
       "<matplotlib.figure.Figure at 0x16b5a3940>"
      ]
     },
     "metadata": {},
     "output_type": "display_data"
    }
   ],
   "source": [
    "df.groupby(\"YEAR\").size().plot(kind=\"line\")"
   ]
  },
  {
   "cell_type": "markdown",
   "metadata": {},
   "source": [
    "+ We see that the number of appplications filed each year between 2011 and 2016 keep increasing"
   ]
  },
  {
   "cell_type": "markdown",
   "metadata": {},
   "source": [
    "#### Break-down of application status per year"
   ]
  },
  {
   "cell_type": "code",
   "execution_count": 135,
   "metadata": {},
   "outputs": [
    {
     "data": {
      "text/html": [
       "<div>\n",
       "<style>\n",
       "    .dataframe thead tr:only-child th {\n",
       "        text-align: right;\n",
       "    }\n",
       "\n",
       "    .dataframe thead th {\n",
       "        text-align: left;\n",
       "    }\n",
       "\n",
       "    .dataframe tbody tr th {\n",
       "        vertical-align: top;\n",
       "    }\n",
       "</style>\n",
       "<table border=\"1\" class=\"dataframe\">\n",
       "  <thead>\n",
       "    <tr style=\"text-align: right;\">\n",
       "      <th>CASE_STATUS</th>\n",
       "      <th>CERTIFIED</th>\n",
       "      <th>CERTIFIED-WITHDRAWN</th>\n",
       "      <th>DENIED</th>\n",
       "      <th>WITHDRAWN</th>\n",
       "    </tr>\n",
       "    <tr>\n",
       "      <th>YEAR</th>\n",
       "      <th></th>\n",
       "      <th></th>\n",
       "      <th></th>\n",
       "      <th></th>\n",
       "    </tr>\n",
       "  </thead>\n",
       "  <tbody>\n",
       "    <tr>\n",
       "      <th>2011</th>\n",
       "      <td>307934</td>\n",
       "      <td>11596</td>\n",
       "      <td>29125</td>\n",
       "      <td>10094</td>\n",
       "    </tr>\n",
       "    <tr>\n",
       "      <th>2012</th>\n",
       "      <td>352667</td>\n",
       "      <td>31118</td>\n",
       "      <td>21072</td>\n",
       "      <td>10715</td>\n",
       "    </tr>\n",
       "    <tr>\n",
       "      <th>2013</th>\n",
       "      <td>382950</td>\n",
       "      <td>35432</td>\n",
       "      <td>12118</td>\n",
       "      <td>11580</td>\n",
       "    </tr>\n",
       "    <tr>\n",
       "      <th>2014</th>\n",
       "      <td>455144</td>\n",
       "      <td>36350</td>\n",
       "      <td>11881</td>\n",
       "      <td>16024</td>\n",
       "    </tr>\n",
       "    <tr>\n",
       "      <th>2015</th>\n",
       "      <td>547277</td>\n",
       "      <td>41071</td>\n",
       "      <td>10913</td>\n",
       "      <td>19448</td>\n",
       "    </tr>\n",
       "    <tr>\n",
       "      <th>2016</th>\n",
       "      <td>569637</td>\n",
       "      <td>47092</td>\n",
       "      <td>9170</td>\n",
       "      <td>21885</td>\n",
       "    </tr>\n",
       "  </tbody>\n",
       "</table>\n",
       "</div>"
      ],
      "text/plain": [
       "CASE_STATUS  CERTIFIED  CERTIFIED-WITHDRAWN  DENIED  WITHDRAWN\n",
       "YEAR                                                          \n",
       "2011            307934                11596   29125      10094\n",
       "2012            352667                31118   21072      10715\n",
       "2013            382950                35432   12118      11580\n",
       "2014            455144                36350   11881      16024\n",
       "2015            547277                41071   10913      19448\n",
       "2016            569637                47092    9170      21885"
      ]
     },
     "execution_count": 135,
     "metadata": {},
     "output_type": "execute_result"
    }
   ],
   "source": [
    "df.groupby([\"YEAR\", \"CASE_STATUS\"]).size().unstack()"
   ]
  },
  {
   "cell_type": "code",
   "execution_count": null,
   "metadata": {},
   "outputs": [],
   "source": []
  },
  {
   "cell_type": "code",
   "execution_count": null,
   "metadata": {
    "collapsed": true
   },
   "outputs": [],
   "source": []
  }
 ],
 "metadata": {
  "kernelspec": {
   "display_name": "Python 3",
   "language": "python",
   "name": "python3"
  },
  "language_info": {
   "codemirror_mode": {
    "name": "ipython",
    "version": 3
   },
   "file_extension": ".py",
   "mimetype": "text/x-python",
   "name": "python",
   "nbconvert_exporter": "python",
   "pygments_lexer": "ipython3",
   "version": "3.6.1"
  }
 },
 "nbformat": 4,
 "nbformat_minor": 2
}
