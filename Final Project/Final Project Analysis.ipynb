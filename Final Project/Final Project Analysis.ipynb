{
 "cells": [
  {
   "cell_type": "code",
   "execution_count": 113,
   "metadata": {},
   "outputs": [
    {
     "name": "stdout",
     "output_type": "stream",
     "text": [
      "Populating the interactive namespace from numpy and matplotlib\n"
     ]
    }
   ],
   "source": [
    "# Dependencies\n",
    "%pylab inline\n",
    "import pandas as pd\n",
    "import numpy as np\n",
    "import csv\n",
    "import matplotlib.pyplot as plt\n",
    "\n",
    "warnings.filterwarnings('ignore')"
   ]
  },
  {
   "cell_type": "markdown",
   "metadata": {},
   "source": [
    "## Data Description\n",
    "+ H-1B Visa Petitions for 2011 - 2016\n",
    "\n",
    "+ Source [Kaggle H-1B Visa Petitions 2011-2016](https://www.kaggle.com/nsharan/h-1b-visa)\n",
    "\n",
    "### Context \n",
    "---\n",
    "The H-1B is an employment-based, non-immigrant visa category for temporary foreign workers in the United States. For a foreign national to apply for H1-B visa, an US employer must offer a job and petition for H-1B visa with the US immigration department. This is the most common visa status applied for and held by international students once they complete college/ higher education (Masters, PhD) and work in a full-time position.\n",
    "\n",
    "The Office of Foreign Labor Certification (OFLC) generates program data that is useful information about the immigration programs including the H1-B visa.\n",
    "\n",
    "### Content\n",
    "#### Number of Instances : \n",
    "#### Features:\n",
    "1. CASE_STATUS: Status associated with the last significant event or decision. Valid values include “Certified,” “Certified-Withdrawn,” Denied,” and “Withdrawn”.  \n",
    "** NOTE: Certified does not mean the employee was granted an H-1B Visa rather. Certified is a status that allows the application to apply for an H-1B Visa **\n",
    "2. EMPLOYER_NAME: Name of employer submitting labor condition application\n",
    "3. SOC_NAME: Standard Occupation Code according to SOC Classification system. \n",
    "4. JOB TITLE: Title of the employee position\n",
    "5. FULL_TIME_POSITION: Y = Full Time Position, N = Part Time Position\n",
    "6. PREVAILING_WAGE: Prevailing Wage for the job being requested for temporary labor condition. The wage is listed at annual scale in USD. The prevailing wage for a job position is defined as the average wage paid to similarly employed workers in the requested occupation in the area of intended employment. The prevailing wage is based on the employer’s minimum requirements for the position. \n",
    "7. YEAR: Year in which the H-1B visa petition was filed\n",
    "8. WORKSITE: City and State Information of the foreign worker's intended area of employment\n",
    "9. Lon : Longitude of worksite\n",
    "10. Lon : latitude of worksite"
   ]
  },
  {
   "cell_type": "markdown",
   "metadata": {},
   "source": [
    "# Read Data\n",
    "___"
   ]
  },
  {
   "cell_type": "code",
   "execution_count": 114,
   "metadata": {
    "collapsed": true
   },
   "outputs": [],
   "source": [
    "filePath = \"./Data/h1b_kaggle.csv\"\n",
    "df = pd.read_csv(filePath, header=0)"
   ]
  },
  {
   "cell_type": "markdown",
   "metadata": {},
   "source": [
    "### General Data Cleaning\n",
    "___"
   ]
  },
  {
   "cell_type": "code",
   "execution_count": 115,
   "metadata": {},
   "outputs": [
    {
     "data": {
      "text/html": [
       "<div>\n",
       "<style>\n",
       "    .dataframe thead tr:only-child th {\n",
       "        text-align: right;\n",
       "    }\n",
       "\n",
       "    .dataframe thead th {\n",
       "        text-align: left;\n",
       "    }\n",
       "\n",
       "    .dataframe tbody tr th {\n",
       "        vertical-align: top;\n",
       "    }\n",
       "</style>\n",
       "<table border=\"1\" class=\"dataframe\">\n",
       "  <thead>\n",
       "    <tr style=\"text-align: right;\">\n",
       "      <th></th>\n",
       "      <th>Unnamed: 0</th>\n",
       "      <th>CASE_STATUS</th>\n",
       "      <th>EMPLOYER_NAME</th>\n",
       "      <th>SOC_NAME</th>\n",
       "      <th>JOB_TITLE</th>\n",
       "      <th>FULL_TIME_POSITION</th>\n",
       "      <th>PREVAILING_WAGE</th>\n",
       "      <th>YEAR</th>\n",
       "      <th>WORKSITE</th>\n",
       "      <th>lon</th>\n",
       "      <th>lat</th>\n",
       "    </tr>\n",
       "  </thead>\n",
       "  <tbody>\n",
       "    <tr>\n",
       "      <th>0</th>\n",
       "      <td>1</td>\n",
       "      <td>CERTIFIED-WITHDRAWN</td>\n",
       "      <td>UNIVERSITY OF MICHIGAN</td>\n",
       "      <td>BIOCHEMISTS AND BIOPHYSICISTS</td>\n",
       "      <td>POSTDOCTORAL RESEARCH FELLOW</td>\n",
       "      <td>N</td>\n",
       "      <td>36067.0</td>\n",
       "      <td>2016.0</td>\n",
       "      <td>ANN ARBOR, MICHIGAN</td>\n",
       "      <td>-83.743038</td>\n",
       "      <td>42.280826</td>\n",
       "    </tr>\n",
       "    <tr>\n",
       "      <th>1</th>\n",
       "      <td>2</td>\n",
       "      <td>CERTIFIED-WITHDRAWN</td>\n",
       "      <td>GOODMAN NETWORKS, INC.</td>\n",
       "      <td>CHIEF EXECUTIVES</td>\n",
       "      <td>CHIEF OPERATING OFFICER</td>\n",
       "      <td>Y</td>\n",
       "      <td>242674.0</td>\n",
       "      <td>2016.0</td>\n",
       "      <td>PLANO, TEXAS</td>\n",
       "      <td>-96.698886</td>\n",
       "      <td>33.019843</td>\n",
       "    </tr>\n",
       "    <tr>\n",
       "      <th>2</th>\n",
       "      <td>3</td>\n",
       "      <td>CERTIFIED-WITHDRAWN</td>\n",
       "      <td>PORTS AMERICA GROUP, INC.</td>\n",
       "      <td>CHIEF EXECUTIVES</td>\n",
       "      <td>CHIEF PROCESS OFFICER</td>\n",
       "      <td>Y</td>\n",
       "      <td>193066.0</td>\n",
       "      <td>2016.0</td>\n",
       "      <td>JERSEY CITY, NEW JERSEY</td>\n",
       "      <td>-74.077642</td>\n",
       "      <td>40.728158</td>\n",
       "    </tr>\n",
       "  </tbody>\n",
       "</table>\n",
       "</div>"
      ],
      "text/plain": [
       "   Unnamed: 0          CASE_STATUS              EMPLOYER_NAME  \\\n",
       "0           1  CERTIFIED-WITHDRAWN     UNIVERSITY OF MICHIGAN   \n",
       "1           2  CERTIFIED-WITHDRAWN     GOODMAN NETWORKS, INC.   \n",
       "2           3  CERTIFIED-WITHDRAWN  PORTS AMERICA GROUP, INC.   \n",
       "\n",
       "                        SOC_NAME                     JOB_TITLE  \\\n",
       "0  BIOCHEMISTS AND BIOPHYSICISTS  POSTDOCTORAL RESEARCH FELLOW   \n",
       "1               CHIEF EXECUTIVES       CHIEF OPERATING OFFICER   \n",
       "2               CHIEF EXECUTIVES         CHIEF PROCESS OFFICER   \n",
       "\n",
       "  FULL_TIME_POSITION  PREVAILING_WAGE    YEAR                 WORKSITE  \\\n",
       "0                  N          36067.0  2016.0      ANN ARBOR, MICHIGAN   \n",
       "1                  Y         242674.0  2016.0             PLANO, TEXAS   \n",
       "2                  Y         193066.0  2016.0  JERSEY CITY, NEW JERSEY   \n",
       "\n",
       "         lon        lat  \n",
       "0 -83.743038  42.280826  \n",
       "1 -96.698886  33.019843  \n",
       "2 -74.077642  40.728158  "
      ]
     },
     "execution_count": 115,
     "metadata": {},
     "output_type": "execute_result"
    }
   ],
   "source": [
    "df[:3]"
   ]
  },
  {
   "cell_type": "markdown",
   "metadata": {},
   "source": [
    "+ ** Remove the features that we do not need for any analysis we intend to perform **"
   ]
  },
  {
   "cell_type": "code",
   "execution_count": 116,
   "metadata": {
    "collapsed": true
   },
   "outputs": [],
   "source": [
    "# remove the first index column\n",
    "del df[\"Unnamed: 0\"]"
   ]
  },
  {
   "cell_type": "code",
   "execution_count": 117,
   "metadata": {},
   "outputs": [
    {
     "data": {
      "text/html": [
       "<div>\n",
       "<style>\n",
       "    .dataframe thead tr:only-child th {\n",
       "        text-align: right;\n",
       "    }\n",
       "\n",
       "    .dataframe thead th {\n",
       "        text-align: left;\n",
       "    }\n",
       "\n",
       "    .dataframe tbody tr th {\n",
       "        vertical-align: top;\n",
       "    }\n",
       "</style>\n",
       "<table border=\"1\" class=\"dataframe\">\n",
       "  <thead>\n",
       "    <tr style=\"text-align: right;\">\n",
       "      <th></th>\n",
       "      <th>CASE_STATUS</th>\n",
       "      <th>EMPLOYER_NAME</th>\n",
       "      <th>SOC_NAME</th>\n",
       "      <th>JOB_TITLE</th>\n",
       "      <th>FULL_TIME_POSITION</th>\n",
       "      <th>PREVAILING_WAGE</th>\n",
       "      <th>YEAR</th>\n",
       "      <th>WORKSITE</th>\n",
       "      <th>lon</th>\n",
       "      <th>lat</th>\n",
       "    </tr>\n",
       "  </thead>\n",
       "  <tbody>\n",
       "    <tr>\n",
       "      <th>0</th>\n",
       "      <td>CERTIFIED-WITHDRAWN</td>\n",
       "      <td>UNIVERSITY OF MICHIGAN</td>\n",
       "      <td>BIOCHEMISTS AND BIOPHYSICISTS</td>\n",
       "      <td>POSTDOCTORAL RESEARCH FELLOW</td>\n",
       "      <td>N</td>\n",
       "      <td>36067.0</td>\n",
       "      <td>2016.0</td>\n",
       "      <td>ANN ARBOR, MICHIGAN</td>\n",
       "      <td>-83.743038</td>\n",
       "      <td>42.280826</td>\n",
       "    </tr>\n",
       "    <tr>\n",
       "      <th>1</th>\n",
       "      <td>CERTIFIED-WITHDRAWN</td>\n",
       "      <td>GOODMAN NETWORKS, INC.</td>\n",
       "      <td>CHIEF EXECUTIVES</td>\n",
       "      <td>CHIEF OPERATING OFFICER</td>\n",
       "      <td>Y</td>\n",
       "      <td>242674.0</td>\n",
       "      <td>2016.0</td>\n",
       "      <td>PLANO, TEXAS</td>\n",
       "      <td>-96.698886</td>\n",
       "      <td>33.019843</td>\n",
       "    </tr>\n",
       "    <tr>\n",
       "      <th>2</th>\n",
       "      <td>CERTIFIED-WITHDRAWN</td>\n",
       "      <td>PORTS AMERICA GROUP, INC.</td>\n",
       "      <td>CHIEF EXECUTIVES</td>\n",
       "      <td>CHIEF PROCESS OFFICER</td>\n",
       "      <td>Y</td>\n",
       "      <td>193066.0</td>\n",
       "      <td>2016.0</td>\n",
       "      <td>JERSEY CITY, NEW JERSEY</td>\n",
       "      <td>-74.077642</td>\n",
       "      <td>40.728158</td>\n",
       "    </tr>\n",
       "  </tbody>\n",
       "</table>\n",
       "</div>"
      ],
      "text/plain": [
       "           CASE_STATUS              EMPLOYER_NAME  \\\n",
       "0  CERTIFIED-WITHDRAWN     UNIVERSITY OF MICHIGAN   \n",
       "1  CERTIFIED-WITHDRAWN     GOODMAN NETWORKS, INC.   \n",
       "2  CERTIFIED-WITHDRAWN  PORTS AMERICA GROUP, INC.   \n",
       "\n",
       "                        SOC_NAME                     JOB_TITLE  \\\n",
       "0  BIOCHEMISTS AND BIOPHYSICISTS  POSTDOCTORAL RESEARCH FELLOW   \n",
       "1               CHIEF EXECUTIVES       CHIEF OPERATING OFFICER   \n",
       "2               CHIEF EXECUTIVES         CHIEF PROCESS OFFICER   \n",
       "\n",
       "  FULL_TIME_POSITION  PREVAILING_WAGE    YEAR                 WORKSITE  \\\n",
       "0                  N          36067.0  2016.0      ANN ARBOR, MICHIGAN   \n",
       "1                  Y         242674.0  2016.0             PLANO, TEXAS   \n",
       "2                  Y         193066.0  2016.0  JERSEY CITY, NEW JERSEY   \n",
       "\n",
       "         lon        lat  \n",
       "0 -83.743038  42.280826  \n",
       "1 -96.698886  33.019843  \n",
       "2 -74.077642  40.728158  "
      ]
     },
     "execution_count": 117,
     "metadata": {},
     "output_type": "execute_result"
    }
   ],
   "source": [
    "df[:3]"
   ]
  },
  {
   "cell_type": "code",
   "execution_count": 118,
   "metadata": {
    "collapsed": true
   },
   "outputs": [],
   "source": [
    "# Remove \"Lon\" and \"Lat\"\n",
    "del df[\"lon\"]\n",
    "del df[\"lat\"]"
   ]
  },
  {
   "cell_type": "code",
   "execution_count": 119,
   "metadata": {},
   "outputs": [
    {
     "data": {
      "text/html": [
       "<div>\n",
       "<style>\n",
       "    .dataframe thead tr:only-child th {\n",
       "        text-align: right;\n",
       "    }\n",
       "\n",
       "    .dataframe thead th {\n",
       "        text-align: left;\n",
       "    }\n",
       "\n",
       "    .dataframe tbody tr th {\n",
       "        vertical-align: top;\n",
       "    }\n",
       "</style>\n",
       "<table border=\"1\" class=\"dataframe\">\n",
       "  <thead>\n",
       "    <tr style=\"text-align: right;\">\n",
       "      <th></th>\n",
       "      <th>CASE_STATUS</th>\n",
       "      <th>EMPLOYER_NAME</th>\n",
       "      <th>SOC_NAME</th>\n",
       "      <th>JOB_TITLE</th>\n",
       "      <th>FULL_TIME_POSITION</th>\n",
       "      <th>PREVAILING_WAGE</th>\n",
       "      <th>YEAR</th>\n",
       "      <th>WORKSITE</th>\n",
       "    </tr>\n",
       "  </thead>\n",
       "  <tbody>\n",
       "    <tr>\n",
       "      <th>0</th>\n",
       "      <td>CERTIFIED-WITHDRAWN</td>\n",
       "      <td>UNIVERSITY OF MICHIGAN</td>\n",
       "      <td>BIOCHEMISTS AND BIOPHYSICISTS</td>\n",
       "      <td>POSTDOCTORAL RESEARCH FELLOW</td>\n",
       "      <td>N</td>\n",
       "      <td>36067.0</td>\n",
       "      <td>2016.0</td>\n",
       "      <td>ANN ARBOR, MICHIGAN</td>\n",
       "    </tr>\n",
       "    <tr>\n",
       "      <th>1</th>\n",
       "      <td>CERTIFIED-WITHDRAWN</td>\n",
       "      <td>GOODMAN NETWORKS, INC.</td>\n",
       "      <td>CHIEF EXECUTIVES</td>\n",
       "      <td>CHIEF OPERATING OFFICER</td>\n",
       "      <td>Y</td>\n",
       "      <td>242674.0</td>\n",
       "      <td>2016.0</td>\n",
       "      <td>PLANO, TEXAS</td>\n",
       "    </tr>\n",
       "    <tr>\n",
       "      <th>2</th>\n",
       "      <td>CERTIFIED-WITHDRAWN</td>\n",
       "      <td>PORTS AMERICA GROUP, INC.</td>\n",
       "      <td>CHIEF EXECUTIVES</td>\n",
       "      <td>CHIEF PROCESS OFFICER</td>\n",
       "      <td>Y</td>\n",
       "      <td>193066.0</td>\n",
       "      <td>2016.0</td>\n",
       "      <td>JERSEY CITY, NEW JERSEY</td>\n",
       "    </tr>\n",
       "  </tbody>\n",
       "</table>\n",
       "</div>"
      ],
      "text/plain": [
       "           CASE_STATUS              EMPLOYER_NAME  \\\n",
       "0  CERTIFIED-WITHDRAWN     UNIVERSITY OF MICHIGAN   \n",
       "1  CERTIFIED-WITHDRAWN     GOODMAN NETWORKS, INC.   \n",
       "2  CERTIFIED-WITHDRAWN  PORTS AMERICA GROUP, INC.   \n",
       "\n",
       "                        SOC_NAME                     JOB_TITLE  \\\n",
       "0  BIOCHEMISTS AND BIOPHYSICISTS  POSTDOCTORAL RESEARCH FELLOW   \n",
       "1               CHIEF EXECUTIVES       CHIEF OPERATING OFFICER   \n",
       "2               CHIEF EXECUTIVES         CHIEF PROCESS OFFICER   \n",
       "\n",
       "  FULL_TIME_POSITION  PREVAILING_WAGE    YEAR                 WORKSITE  \n",
       "0                  N          36067.0  2016.0      ANN ARBOR, MICHIGAN  \n",
       "1                  Y         242674.0  2016.0             PLANO, TEXAS  \n",
       "2                  Y         193066.0  2016.0  JERSEY CITY, NEW JERSEY  "
      ]
     },
     "execution_count": 119,
     "metadata": {},
     "output_type": "execute_result"
    }
   ],
   "source": [
    "df[:3]"
   ]
  },
  {
   "cell_type": "code",
   "execution_count": 120,
   "metadata": {},
   "outputs": [
    {
     "data": {
      "text/plain": [
       "0        ANN ARBOR, MICHIGAN\n",
       "1               PLANO, TEXAS\n",
       "2    JERSEY CITY, NEW JERSEY\n",
       "Name: WORKSITE, dtype: object"
      ]
     },
     "execution_count": 120,
     "metadata": {},
     "output_type": "execute_result"
    }
   ],
   "source": [
    "worksite = df[\"WORKSITE\"]\n",
    "worksite[:3]"
   ]
  },
  {
   "cell_type": "code",
   "execution_count": 121,
   "metadata": {},
   "outputs": [
    {
     "data": {
      "text/html": [
       "<div>\n",
       "<style>\n",
       "    .dataframe thead tr:only-child th {\n",
       "        text-align: right;\n",
       "    }\n",
       "\n",
       "    .dataframe thead th {\n",
       "        text-align: left;\n",
       "    }\n",
       "\n",
       "    .dataframe tbody tr th {\n",
       "        vertical-align: top;\n",
       "    }\n",
       "</style>\n",
       "<table border=\"1\" class=\"dataframe\">\n",
       "  <thead>\n",
       "    <tr style=\"text-align: right;\">\n",
       "      <th></th>\n",
       "      <th>CASE_STATUS</th>\n",
       "      <th>EMPLOYER_NAME</th>\n",
       "      <th>SOC_NAME</th>\n",
       "      <th>JOB_TITLE</th>\n",
       "      <th>FULL_TIME_POSITION</th>\n",
       "      <th>PREVAILING_WAGE</th>\n",
       "      <th>YEAR</th>\n",
       "      <th>WORKSITE</th>\n",
       "      <th>CITY</th>\n",
       "      <th>STATE</th>\n",
       "    </tr>\n",
       "  </thead>\n",
       "  <tbody>\n",
       "    <tr>\n",
       "      <th>0</th>\n",
       "      <td>CERTIFIED-WITHDRAWN</td>\n",
       "      <td>UNIVERSITY OF MICHIGAN</td>\n",
       "      <td>BIOCHEMISTS AND BIOPHYSICISTS</td>\n",
       "      <td>POSTDOCTORAL RESEARCH FELLOW</td>\n",
       "      <td>N</td>\n",
       "      <td>36067.0</td>\n",
       "      <td>2016.0</td>\n",
       "      <td>ANN ARBOR, MICHIGAN</td>\n",
       "      <td>ANN ARBOR</td>\n",
       "      <td>MICHIGAN</td>\n",
       "    </tr>\n",
       "    <tr>\n",
       "      <th>1</th>\n",
       "      <td>CERTIFIED-WITHDRAWN</td>\n",
       "      <td>GOODMAN NETWORKS, INC.</td>\n",
       "      <td>CHIEF EXECUTIVES</td>\n",
       "      <td>CHIEF OPERATING OFFICER</td>\n",
       "      <td>Y</td>\n",
       "      <td>242674.0</td>\n",
       "      <td>2016.0</td>\n",
       "      <td>PLANO, TEXAS</td>\n",
       "      <td>PLANO</td>\n",
       "      <td>TEXAS</td>\n",
       "    </tr>\n",
       "    <tr>\n",
       "      <th>2</th>\n",
       "      <td>CERTIFIED-WITHDRAWN</td>\n",
       "      <td>PORTS AMERICA GROUP, INC.</td>\n",
       "      <td>CHIEF EXECUTIVES</td>\n",
       "      <td>CHIEF PROCESS OFFICER</td>\n",
       "      <td>Y</td>\n",
       "      <td>193066.0</td>\n",
       "      <td>2016.0</td>\n",
       "      <td>JERSEY CITY, NEW JERSEY</td>\n",
       "      <td>JERSEY CITY</td>\n",
       "      <td>NEW JERSEY</td>\n",
       "    </tr>\n",
       "  </tbody>\n",
       "</table>\n",
       "</div>"
      ],
      "text/plain": [
       "           CASE_STATUS              EMPLOYER_NAME  \\\n",
       "0  CERTIFIED-WITHDRAWN     UNIVERSITY OF MICHIGAN   \n",
       "1  CERTIFIED-WITHDRAWN     GOODMAN NETWORKS, INC.   \n",
       "2  CERTIFIED-WITHDRAWN  PORTS AMERICA GROUP, INC.   \n",
       "\n",
       "                        SOC_NAME                     JOB_TITLE  \\\n",
       "0  BIOCHEMISTS AND BIOPHYSICISTS  POSTDOCTORAL RESEARCH FELLOW   \n",
       "1               CHIEF EXECUTIVES       CHIEF OPERATING OFFICER   \n",
       "2               CHIEF EXECUTIVES         CHIEF PROCESS OFFICER   \n",
       "\n",
       "  FULL_TIME_POSITION  PREVAILING_WAGE    YEAR                 WORKSITE  \\\n",
       "0                  N          36067.0  2016.0      ANN ARBOR, MICHIGAN   \n",
       "1                  Y         242674.0  2016.0             PLANO, TEXAS   \n",
       "2                  Y         193066.0  2016.0  JERSEY CITY, NEW JERSEY   \n",
       "\n",
       "          CITY       STATE  \n",
       "0    ANN ARBOR    MICHIGAN  \n",
       "1        PLANO       TEXAS  \n",
       "2  JERSEY CITY  NEW JERSEY  "
      ]
     },
     "execution_count": 121,
     "metadata": {},
     "output_type": "execute_result"
    }
   ],
   "source": [
    "df[[\"CITY\", \"STATE\"]] = df[\"WORKSITE\"].str.split(', ', expand=True)\n",
    "df[:3]"
   ]
  },
  {
   "cell_type": "code",
   "execution_count": 122,
   "metadata": {
    "collapsed": true
   },
   "outputs": [],
   "source": [
    "## Now delete the worksite feature\n",
    "del df[\"WORKSITE\"]"
   ]
  },
  {
   "cell_type": "code",
   "execution_count": 123,
   "metadata": {},
   "outputs": [
    {
     "data": {
      "text/html": [
       "<div>\n",
       "<style>\n",
       "    .dataframe thead tr:only-child th {\n",
       "        text-align: right;\n",
       "    }\n",
       "\n",
       "    .dataframe thead th {\n",
       "        text-align: left;\n",
       "    }\n",
       "\n",
       "    .dataframe tbody tr th {\n",
       "        vertical-align: top;\n",
       "    }\n",
       "</style>\n",
       "<table border=\"1\" class=\"dataframe\">\n",
       "  <thead>\n",
       "    <tr style=\"text-align: right;\">\n",
       "      <th></th>\n",
       "      <th>CASE_STATUS</th>\n",
       "      <th>EMPLOYER_NAME</th>\n",
       "      <th>SOC_NAME</th>\n",
       "      <th>JOB_TITLE</th>\n",
       "      <th>FULL_TIME_POSITION</th>\n",
       "      <th>PREVAILING_WAGE</th>\n",
       "      <th>YEAR</th>\n",
       "      <th>CITY</th>\n",
       "      <th>STATE</th>\n",
       "    </tr>\n",
       "  </thead>\n",
       "  <tbody>\n",
       "    <tr>\n",
       "      <th>0</th>\n",
       "      <td>CERTIFIED-WITHDRAWN</td>\n",
       "      <td>UNIVERSITY OF MICHIGAN</td>\n",
       "      <td>BIOCHEMISTS AND BIOPHYSICISTS</td>\n",
       "      <td>POSTDOCTORAL RESEARCH FELLOW</td>\n",
       "      <td>N</td>\n",
       "      <td>36067.0</td>\n",
       "      <td>2016.0</td>\n",
       "      <td>ANN ARBOR</td>\n",
       "      <td>MICHIGAN</td>\n",
       "    </tr>\n",
       "    <tr>\n",
       "      <th>1</th>\n",
       "      <td>CERTIFIED-WITHDRAWN</td>\n",
       "      <td>GOODMAN NETWORKS, INC.</td>\n",
       "      <td>CHIEF EXECUTIVES</td>\n",
       "      <td>CHIEF OPERATING OFFICER</td>\n",
       "      <td>Y</td>\n",
       "      <td>242674.0</td>\n",
       "      <td>2016.0</td>\n",
       "      <td>PLANO</td>\n",
       "      <td>TEXAS</td>\n",
       "    </tr>\n",
       "    <tr>\n",
       "      <th>2</th>\n",
       "      <td>CERTIFIED-WITHDRAWN</td>\n",
       "      <td>PORTS AMERICA GROUP, INC.</td>\n",
       "      <td>CHIEF EXECUTIVES</td>\n",
       "      <td>CHIEF PROCESS OFFICER</td>\n",
       "      <td>Y</td>\n",
       "      <td>193066.0</td>\n",
       "      <td>2016.0</td>\n",
       "      <td>JERSEY CITY</td>\n",
       "      <td>NEW JERSEY</td>\n",
       "    </tr>\n",
       "  </tbody>\n",
       "</table>\n",
       "</div>"
      ],
      "text/plain": [
       "           CASE_STATUS              EMPLOYER_NAME  \\\n",
       "0  CERTIFIED-WITHDRAWN     UNIVERSITY OF MICHIGAN   \n",
       "1  CERTIFIED-WITHDRAWN     GOODMAN NETWORKS, INC.   \n",
       "2  CERTIFIED-WITHDRAWN  PORTS AMERICA GROUP, INC.   \n",
       "\n",
       "                        SOC_NAME                     JOB_TITLE  \\\n",
       "0  BIOCHEMISTS AND BIOPHYSICISTS  POSTDOCTORAL RESEARCH FELLOW   \n",
       "1               CHIEF EXECUTIVES       CHIEF OPERATING OFFICER   \n",
       "2               CHIEF EXECUTIVES         CHIEF PROCESS OFFICER   \n",
       "\n",
       "  FULL_TIME_POSITION  PREVAILING_WAGE    YEAR         CITY       STATE  \n",
       "0                  N          36067.0  2016.0    ANN ARBOR    MICHIGAN  \n",
       "1                  Y         242674.0  2016.0        PLANO       TEXAS  \n",
       "2                  Y         193066.0  2016.0  JERSEY CITY  NEW JERSEY  "
      ]
     },
     "execution_count": 123,
     "metadata": {},
     "output_type": "execute_result"
    }
   ],
   "source": [
    "df[:3]"
   ]
  },
  {
   "cell_type": "markdown",
   "metadata": {},
   "source": [
    "## Feature-specific Data Cleaning"
   ]
  },
  {
   "cell_type": "markdown",
   "metadata": {},
   "source": [
    "#### CASE_STATUS\n",
    "___"
   ]
  },
  {
   "cell_type": "code",
   "execution_count": 124,
   "metadata": {
    "collapsed": true
   },
   "outputs": [],
   "source": [
    "case_status_series = df[\"CASE_STATUS\"]"
   ]
  },
  {
   "cell_type": "code",
   "execution_count": 125,
   "metadata": {},
   "outputs": [
    {
     "name": "stdout",
     "output_type": "stream",
     "text": [
      "CERTIFIED                                             2615623\n",
      "CERTIFIED-WITHDRAWN                                    202659\n",
      "DENIED                                                  94346\n",
      "WITHDRAWN                                               89799\n",
      "PENDING QUALITY AND COMPLIANCE REVIEW - UNASSIGNED         15\n",
      "REJECTED                                                    2\n",
      "INVALIDATED                                                 1\n",
      "Name: CASE_STATUS, dtype: int64\n"
     ]
    }
   ],
   "source": [
    "## Analyze the values in Case status\n",
    "print(case_status_series.value_counts())"
   ]
  },
  {
   "cell_type": "code",
   "execution_count": 129,
   "metadata": {},
   "outputs": [],
   "source": [
    "## We are only intrested in these outcomes \n",
    "# certified | certified-withdraw | denied | Withdrawn \n",
    "# The others are outliers. Lets remove them \n",
    "df.drop(df[df.CASE_STATUS == \"REJECTED\"].index, axis=0, inplace=True)\n",
    "df.drop(df[df.CASE_STATUS == \"PENDING QUALITY AND COMPLIANCE REVIEW - UNASSIGNED\"].index, axis=0, inplace=True)\n",
    "df.drop(df[df.CASE_STATUS == \"INVALIDATED\"].index, axis=0, inplace=True)"
   ]
  },
  {
   "cell_type": "code",
   "execution_count": 131,
   "metadata": {},
   "outputs": [
    {
     "name": "stdout",
     "output_type": "stream",
     "text": [
      "CERTIFIED              2615623\n",
      "CERTIFIED-WITHDRAWN     202659\n",
      "DENIED                   94346\n",
      "WITHDRAWN                89799\n",
      "Name: CASE_STATUS, dtype: int64\n"
     ]
    }
   ],
   "source": [
    "## Analyze the values in Case status\n",
    "print(df[\"CASE_STATUS\"].value_counts())"
   ]
  },
  {
   "cell_type": "code",
   "execution_count": 136,
   "metadata": {},
   "outputs": [
    {
     "data": {
      "text/plain": [
       "<matplotlib.axes._subplots.AxesSubplot at 0x2240a9438>"
      ]
     },
     "execution_count": 136,
     "metadata": {},
     "output_type": "execute_result"
    },
    {
     "data": {
      "image/png": "[encoded data removed]",
      "text/plain": [
       "<matplotlib.figure.Figure at 0x221490b70>"
      ]
     },
     "metadata": {},
     "output_type": "display_data"
    }
   ],
   "source": [
    "# Check out the distribution of likely outcomes\n",
    "df[\"CASE_STATUS\"].value_counts().plot.bar()"
   ]
  },
  {
   "cell_type": "markdown",
   "metadata": {},
   "source": [
    "#### EMPLOYER_NAME\n",
    "___"
   ]
  },
  {
   "cell_type": "code",
   "execution_count": 139,
   "metadata": {},
   "outputs": [
    {
     "name": "stdout",
     "output_type": "stream",
     "text": [
      "There 59 instances missing employer names\n"
     ]
    }
   ],
   "source": [
    "# Are there any missing employer names \n",
    "print(\"There %d instances missing employer names\" % len(df[pd.isnull(df.EMPLOYER_NAME)]))"
   ]
  },
  {
   "cell_type": "markdown",
   "metadata": {},
   "source": [
    "+ Since these are not numerical data we cannot imput using a measure of central tendency\n",
    "+ Since the data seems to be missing completely at random, we should remove it. Cannot figure out what employer name should be from the available data"
   ]
  },
  {
   "cell_type": "code",
   "execution_count": 140,
   "metadata": {
    "collapsed": true
   },
   "outputs": [],
   "source": [
    "# Remove Instances without Employer name valued\n",
    "df = df[pd.notnull(df[\"EMPLOYER_NAME\"])]"
   ]
  },
  {
   "cell_type": "markdown",
   "metadata": {},
   "source": [
    "#### SOC_NAME\n",
    "___"
   ]
  },
  {
   "cell_type": "markdown",
   "metadata": {},
   "source": [
    "+ The SOC_NAME captures the same information as Job title. In the essence of dimension reduction and to only use features that are neccessary. i will remove this feature "
   ]
  },
  {
   "cell_type": "code",
   "execution_count": 142,
   "metadata": {
    "collapsed": true
   },
   "outputs": [],
   "source": [
    "del df[\"SOC_NAME\"]"
   ]
  },
  {
   "cell_type": "code",
   "execution_count": 143,
   "metadata": {},
   "outputs": [
    {
     "data": {
      "text/html": [
       "<div>\n",
       "<style>\n",
       "    .dataframe thead tr:only-child th {\n",
       "        text-align: right;\n",
       "    }\n",
       "\n",
       "    .dataframe thead th {\n",
       "        text-align: left;\n",
       "    }\n",
       "\n",
       "    .dataframe tbody tr th {\n",
       "        vertical-align: top;\n",
       "    }\n",
       "</style>\n",
       "<table border=\"1\" class=\"dataframe\">\n",
       "  <thead>\n",
       "    <tr style=\"text-align: right;\">\n",
       "      <th></th>\n",
       "      <th>CASE_STATUS</th>\n",
       "      <th>EMPLOYER_NAME</th>\n",
       "      <th>JOB_TITLE</th>\n",
       "      <th>FULL_TIME_POSITION</th>\n",
       "      <th>PREVAILING_WAGE</th>\n",
       "      <th>YEAR</th>\n",
       "      <th>CITY</th>\n",
       "      <th>STATE</th>\n",
       "    </tr>\n",
       "  </thead>\n",
       "  <tbody>\n",
       "    <tr>\n",
       "      <th>0</th>\n",
       "      <td>CERTIFIED-WITHDRAWN</td>\n",
       "      <td>UNIVERSITY OF MICHIGAN</td>\n",
       "      <td>POSTDOCTORAL RESEARCH FELLOW</td>\n",
       "      <td>N</td>\n",
       "      <td>36067.0</td>\n",
       "      <td>2016.0</td>\n",
       "      <td>ANN ARBOR</td>\n",
       "      <td>MICHIGAN</td>\n",
       "    </tr>\n",
       "    <tr>\n",
       "      <th>1</th>\n",
       "      <td>CERTIFIED-WITHDRAWN</td>\n",
       "      <td>GOODMAN NETWORKS, INC.</td>\n",
       "      <td>CHIEF OPERATING OFFICER</td>\n",
       "      <td>Y</td>\n",
       "      <td>242674.0</td>\n",
       "      <td>2016.0</td>\n",
       "      <td>PLANO</td>\n",
       "      <td>TEXAS</td>\n",
       "    </tr>\n",
       "    <tr>\n",
       "      <th>2</th>\n",
       "      <td>CERTIFIED-WITHDRAWN</td>\n",
       "      <td>PORTS AMERICA GROUP, INC.</td>\n",
       "      <td>CHIEF PROCESS OFFICER</td>\n",
       "      <td>Y</td>\n",
       "      <td>193066.0</td>\n",
       "      <td>2016.0</td>\n",
       "      <td>JERSEY CITY</td>\n",
       "      <td>NEW JERSEY</td>\n",
       "    </tr>\n",
       "  </tbody>\n",
       "</table>\n",
       "</div>"
      ],
      "text/plain": [
       "           CASE_STATUS              EMPLOYER_NAME  \\\n",
       "0  CERTIFIED-WITHDRAWN     UNIVERSITY OF MICHIGAN   \n",
       "1  CERTIFIED-WITHDRAWN     GOODMAN NETWORKS, INC.   \n",
       "2  CERTIFIED-WITHDRAWN  PORTS AMERICA GROUP, INC.   \n",
       "\n",
       "                      JOB_TITLE FULL_TIME_POSITION  PREVAILING_WAGE    YEAR  \\\n",
       "0  POSTDOCTORAL RESEARCH FELLOW                  N          36067.0  2016.0   \n",
       "1       CHIEF OPERATING OFFICER                  Y         242674.0  2016.0   \n",
       "2         CHIEF PROCESS OFFICER                  Y         193066.0  2016.0   \n",
       "\n",
       "          CITY       STATE  \n",
       "0    ANN ARBOR    MICHIGAN  \n",
       "1        PLANO       TEXAS  \n",
       "2  JERSEY CITY  NEW JERSEY  "
      ]
     },
     "execution_count": 143,
     "metadata": {},
     "output_type": "execute_result"
    }
   ],
   "source": [
    "df[:3]"
   ]
  },
  {
   "cell_type": "markdown",
   "metadata": {},
   "source": [
    "#### JOB TITLE\n",
    "___"
   ]
  },
  {
   "cell_type": "code",
   "execution_count": 144,
   "metadata": {},
   "outputs": [
    {
     "name": "stdout",
     "output_type": "stream",
     "text": [
      "There 21 missing instances of job title\n"
     ]
    }
   ],
   "source": [
    "# Do we have any missing values\n",
    "print(\"There %d missing instances of job title\" % len(df[pd.isnull(df[\"JOB_TITLE\"])]))"
   ]
  },
  {
   "cell_type": "code",
   "execution_count": 145,
   "metadata": {
    "collapsed": true
   },
   "outputs": [],
   "source": [
    "# Remove these missing instances\n",
    "df = df[pd.notnull(df[\"JOB_TITLE\"])]"
   ]
  },
  {
   "cell_type": "code",
   "execution_count": 149,
   "metadata": {},
   "outputs": [
    {
     "name": "stdout",
     "output_type": "stream",
     "text": [
      "There 249034 distinct jobs in the DataSet\n"
     ]
    }
   ],
   "source": [
    "# How many distinct Job titles are there \n",
    "job_stat = df[\"JOB_TITLE\"].value_counts()\n",
    "print(\"There %d distinct jobs in the DataSet\" %job_stat[0])"
   ]
  },
  {
   "cell_type": "markdown",
   "metadata": {},
   "source": [
    "#### FULL_TIME_POSITION\n",
    "___"
   ]
  },
  {
   "cell_type": "code",
   "execution_count": 151,
   "metadata": {},
   "outputs": [
    {
     "name": "stdout",
     "output_type": "stream",
     "text": [
      "There 1 missing instance of full time\n"
     ]
    }
   ],
   "source": [
    "# Do we have missing values\n",
    "print(\"There %d missing instance of full time\" % len(df[pd.isnull(df[\"FULL_TIME_POSITION\"])]))"
   ]
  },
  {
   "cell_type": "code",
   "execution_count": 152,
   "metadata": {},
   "outputs": [
    {
     "data": {
      "text/html": [
       "<div>\n",
       "<style>\n",
       "    .dataframe thead tr:only-child th {\n",
       "        text-align: right;\n",
       "    }\n",
       "\n",
       "    .dataframe thead th {\n",
       "        text-align: left;\n",
       "    }\n",
       "\n",
       "    .dataframe tbody tr th {\n",
       "        vertical-align: top;\n",
       "    }\n",
       "</style>\n",
       "<table border=\"1\" class=\"dataframe\">\n",
       "  <thead>\n",
       "    <tr style=\"text-align: right;\">\n",
       "      <th></th>\n",
       "      <th>CASE_STATUS</th>\n",
       "      <th>EMPLOYER_NAME</th>\n",
       "      <th>JOB_TITLE</th>\n",
       "      <th>FULL_TIME_POSITION</th>\n",
       "      <th>PREVAILING_WAGE</th>\n",
       "      <th>YEAR</th>\n",
       "      <th>CITY</th>\n",
       "      <th>STATE</th>\n",
       "    </tr>\n",
       "  </thead>\n",
       "  <tbody>\n",
       "    <tr>\n",
       "      <th>131977</th>\n",
       "      <td>DENIED</td>\n",
       "      <td>FOUR SEASONS HEATING AND AIR CONDITIONING</td>\n",
       "      <td>COMPUTER SYSTEMS ANALAYST</td>\n",
       "      <td>NaN</td>\n",
       "      <td>NaN</td>\n",
       "      <td>2016.0</td>\n",
       "      <td>CHICAGO</td>\n",
       "      <td>ILLINOIS</td>\n",
       "    </tr>\n",
       "  </tbody>\n",
       "</table>\n",
       "</div>"
      ],
      "text/plain": [
       "       CASE_STATUS                              EMPLOYER_NAME  \\\n",
       "131977      DENIED  FOUR SEASONS HEATING AND AIR CONDITIONING   \n",
       "\n",
       "                        JOB_TITLE FULL_TIME_POSITION  PREVAILING_WAGE    YEAR  \\\n",
       "131977  COMPUTER SYSTEMS ANALAYST                NaN              NaN  2016.0   \n",
       "\n",
       "           CITY     STATE  \n",
       "131977  CHICAGO  ILLINOIS  "
      ]
     },
     "execution_count": 152,
     "metadata": {},
     "output_type": "execute_result"
    }
   ],
   "source": [
    "df[pd.isnull(df[\"FULL_TIME_POSITION\"])]"
   ]
  },
  {
   "cell_type": "code",
   "execution_count": 153,
   "metadata": {
    "collapsed": true
   },
   "outputs": [],
   "source": [
    "# Remove this instance\n",
    "df = df[pd.notnull(df[\"FULL_TIME_POSITION\"])]"
   ]
  },
  {
   "cell_type": "markdown",
   "metadata": {},
   "source": [
    "#### PREVAILING WAGE\n",
    "___"
   ]
  },
  {
   "cell_type": "code",
   "execution_count": 165,
   "metadata": {},
   "outputs": [
    {
     "name": "stdout",
     "output_type": "stream",
     "text": [
      "There 0 instances missing prevailing values\n"
     ]
    }
   ],
   "source": [
    "# Do we have any missing values\n",
    "print(\"There %d instances missing prevailing values\" % len(df[pd.isnull(df[\"PREVAILING_WAGE\"])]))"
   ]
  },
  {
   "cell_type": "code",
   "execution_count": 160,
   "metadata": {},
   "outputs": [
    {
     "data": {
      "text/html": [
       "<div>\n",
       "<style>\n",
       "    .dataframe thead tr:only-child th {\n",
       "        text-align: right;\n",
       "    }\n",
       "\n",
       "    .dataframe thead th {\n",
       "        text-align: left;\n",
       "    }\n",
       "\n",
       "    .dataframe tbody tr th {\n",
       "        vertical-align: top;\n",
       "    }\n",
       "</style>\n",
       "<table border=\"1\" class=\"dataframe\">\n",
       "  <thead>\n",
       "    <tr style=\"text-align: right;\">\n",
       "      <th></th>\n",
       "      <th>CASE_STATUS</th>\n",
       "      <th>EMPLOYER_NAME</th>\n",
       "      <th>JOB_TITLE</th>\n",
       "      <th>FULL_TIME_POSITION</th>\n",
       "      <th>PREVAILING_WAGE</th>\n",
       "      <th>YEAR</th>\n",
       "      <th>CITY</th>\n",
       "      <th>STATE</th>\n",
       "    </tr>\n",
       "  </thead>\n",
       "  <tbody>\n",
       "    <tr>\n",
       "      <th>0</th>\n",
       "      <td>CERTIFIED-WITHDRAWN</td>\n",
       "      <td>UNIVERSITY OF MICHIGAN</td>\n",
       "      <td>POSTDOCTORAL RESEARCH FELLOW</td>\n",
       "      <td>N</td>\n",
       "      <td>36067.0</td>\n",
       "      <td>2016.0</td>\n",
       "      <td>ANN ARBOR</td>\n",
       "      <td>MICHIGAN</td>\n",
       "    </tr>\n",
       "    <tr>\n",
       "      <th>1</th>\n",
       "      <td>CERTIFIED-WITHDRAWN</td>\n",
       "      <td>GOODMAN NETWORKS, INC.</td>\n",
       "      <td>CHIEF OPERATING OFFICER</td>\n",
       "      <td>Y</td>\n",
       "      <td>242674.0</td>\n",
       "      <td>2016.0</td>\n",
       "      <td>PLANO</td>\n",
       "      <td>TEXAS</td>\n",
       "    </tr>\n",
       "  </tbody>\n",
       "</table>\n",
       "</div>"
      ],
      "text/plain": [
       "           CASE_STATUS           EMPLOYER_NAME                     JOB_TITLE  \\\n",
       "0  CERTIFIED-WITHDRAWN  UNIVERSITY OF MICHIGAN  POSTDOCTORAL RESEARCH FELLOW   \n",
       "1  CERTIFIED-WITHDRAWN  GOODMAN NETWORKS, INC.       CHIEF OPERATING OFFICER   \n",
       "\n",
       "  FULL_TIME_POSITION  PREVAILING_WAGE    YEAR       CITY     STATE  \n",
       "0                  N          36067.0  2016.0  ANN ARBOR  MICHIGAN  \n",
       "1                  Y         242674.0  2016.0      PLANO     TEXAS  "
      ]
     },
     "execution_count": 160,
     "metadata": {},
     "output_type": "execute_result"
    }
   ],
   "source": [
    "# Applications have to have a wage provided. \n",
    "# Remove instances with wages missing\n",
    "df = df[pd.notnull(df[\"PREVAILING_WAGE\"])]\n",
    "df[:2]"
   ]
  },
  {
   "cell_type": "code",
   "execution_count": 162,
   "metadata": {},
   "outputs": [
    {
     "data": {
      "text/html": [
       "<div>\n",
       "<style>\n",
       "    .dataframe thead tr:only-child th {\n",
       "        text-align: right;\n",
       "    }\n",
       "\n",
       "    .dataframe thead th {\n",
       "        text-align: left;\n",
       "    }\n",
       "\n",
       "    .dataframe tbody tr th {\n",
       "        vertical-align: top;\n",
       "    }\n",
       "</style>\n",
       "<table border=\"1\" class=\"dataframe\">\n",
       "  <thead>\n",
       "    <tr style=\"text-align: right;\">\n",
       "      <th></th>\n",
       "      <th>CASE_STATUS</th>\n",
       "      <th>EMPLOYER_NAME</th>\n",
       "      <th>JOB_TITLE</th>\n",
       "      <th>FULL_TIME_POSITION</th>\n",
       "      <th>PREVAILING_WAGE</th>\n",
       "      <th>YEAR</th>\n",
       "      <th>CITY</th>\n",
       "      <th>STATE</th>\n",
       "    </tr>\n",
       "  </thead>\n",
       "  <tbody>\n",
       "    <tr>\n",
       "      <th>0</th>\n",
       "      <td>CERTIFIED-WITHDRAWN</td>\n",
       "      <td>UNIVERSITY OF MICHIGAN</td>\n",
       "      <td>POSTDOCTORAL RESEARCH FELLOW</td>\n",
       "      <td>N</td>\n",
       "      <td>36067</td>\n",
       "      <td>2016.0</td>\n",
       "      <td>ANN ARBOR</td>\n",
       "      <td>MICHIGAN</td>\n",
       "    </tr>\n",
       "    <tr>\n",
       "      <th>1</th>\n",
       "      <td>CERTIFIED-WITHDRAWN</td>\n",
       "      <td>GOODMAN NETWORKS, INC.</td>\n",
       "      <td>CHIEF OPERATING OFFICER</td>\n",
       "      <td>Y</td>\n",
       "      <td>242674</td>\n",
       "      <td>2016.0</td>\n",
       "      <td>PLANO</td>\n",
       "      <td>TEXAS</td>\n",
       "    </tr>\n",
       "  </tbody>\n",
       "</table>\n",
       "</div>"
      ],
      "text/plain": [
       "           CASE_STATUS           EMPLOYER_NAME                     JOB_TITLE  \\\n",
       "0  CERTIFIED-WITHDRAWN  UNIVERSITY OF MICHIGAN  POSTDOCTORAL RESEARCH FELLOW   \n",
       "1  CERTIFIED-WITHDRAWN  GOODMAN NETWORKS, INC.       CHIEF OPERATING OFFICER   \n",
       "\n",
       "  FULL_TIME_POSITION  PREVAILING_WAGE    YEAR       CITY     STATE  \n",
       "0                  N            36067  2016.0  ANN ARBOR  MICHIGAN  \n",
       "1                  Y           242674  2016.0      PLANO     TEXAS  "
      ]
     },
     "execution_count": 162,
     "metadata": {},
     "output_type": "execute_result"
    }
   ],
   "source": [
    "# We can see that the wage values are in floats. For easier calculations convert these to ints \n",
    "df[\"PREVAILING_WAGE\"] = df[\"PREVAILING_WAGE\"].astype(int)\n",
    "df[:2]"
   ]
  },
  {
   "cell_type": "markdown",
   "metadata": {},
   "source": [
    "#### YEAR\n",
    "___"
   ]
  },
  {
   "cell_type": "code",
   "execution_count": 166,
   "metadata": {},
   "outputs": [
    {
     "name": "stdout",
     "output_type": "stream",
     "text": [
      "There 0 instances missing Year values\n"
     ]
    }
   ],
   "source": [
    "# Do we have any missing Data\n",
    "print(\"There %d instances missing Year values\" % len(df[pd.isnull(df[\"YEAR\"])]))"
   ]
  },
  {
   "cell_type": "code",
   "execution_count": 168,
   "metadata": {},
   "outputs": [
    {
     "data": {
      "text/html": [
       "<div>\n",
       "<style>\n",
       "    .dataframe thead tr:only-child th {\n",
       "        text-align: right;\n",
       "    }\n",
       "\n",
       "    .dataframe thead th {\n",
       "        text-align: left;\n",
       "    }\n",
       "\n",
       "    .dataframe tbody tr th {\n",
       "        vertical-align: top;\n",
       "    }\n",
       "</style>\n",
       "<table border=\"1\" class=\"dataframe\">\n",
       "  <thead>\n",
       "    <tr style=\"text-align: right;\">\n",
       "      <th></th>\n",
       "      <th>CASE_STATUS</th>\n",
       "      <th>EMPLOYER_NAME</th>\n",
       "      <th>JOB_TITLE</th>\n",
       "      <th>FULL_TIME_POSITION</th>\n",
       "      <th>PREVAILING_WAGE</th>\n",
       "      <th>YEAR</th>\n",
       "      <th>CITY</th>\n",
       "      <th>STATE</th>\n",
       "    </tr>\n",
       "  </thead>\n",
       "  <tbody>\n",
       "    <tr>\n",
       "      <th>0</th>\n",
       "      <td>CERTIFIED-WITHDRAWN</td>\n",
       "      <td>UNIVERSITY OF MICHIGAN</td>\n",
       "      <td>POSTDOCTORAL RESEARCH FELLOW</td>\n",
       "      <td>N</td>\n",
       "      <td>36067</td>\n",
       "      <td>2016</td>\n",
       "      <td>ANN ARBOR</td>\n",
       "      <td>MICHIGAN</td>\n",
       "    </tr>\n",
       "    <tr>\n",
       "      <th>1</th>\n",
       "      <td>CERTIFIED-WITHDRAWN</td>\n",
       "      <td>GOODMAN NETWORKS, INC.</td>\n",
       "      <td>CHIEF OPERATING OFFICER</td>\n",
       "      <td>Y</td>\n",
       "      <td>242674</td>\n",
       "      <td>2016</td>\n",
       "      <td>PLANO</td>\n",
       "      <td>TEXAS</td>\n",
       "    </tr>\n",
       "  </tbody>\n",
       "</table>\n",
       "</div>"
      ],
      "text/plain": [
       "           CASE_STATUS           EMPLOYER_NAME                     JOB_TITLE  \\\n",
       "0  CERTIFIED-WITHDRAWN  UNIVERSITY OF MICHIGAN  POSTDOCTORAL RESEARCH FELLOW   \n",
       "1  CERTIFIED-WITHDRAWN  GOODMAN NETWORKS, INC.       CHIEF OPERATING OFFICER   \n",
       "\n",
       "  FULL_TIME_POSITION  PREVAILING_WAGE  YEAR       CITY     STATE  \n",
       "0                  N            36067  2016  ANN ARBOR  MICHIGAN  \n",
       "1                  Y           242674  2016      PLANO     TEXAS  "
      ]
     },
     "execution_count": 168,
     "metadata": {},
     "output_type": "execute_result"
    }
   ],
   "source": [
    "## That is great, Now, need to convert the year as given to ints \n",
    "df[\"YEAR\"] = df[\"YEAR\"].astype(int)\n",
    "df[:2]"
   ]
  },
  {
   "cell_type": "markdown",
   "metadata": {},
   "source": [
    "# Data Exploration\n",
    "---"
   ]
  },
  {
   "cell_type": "markdown",
   "metadata": {},
   "source": [
    "#### CASE_STATUS\n",
    "___"
   ]
  },
  {
   "cell_type": "code",
   "execution_count": 190,
   "metadata": {},
   "outputs": [
    {
     "name": "stdout",
     "output_type": "stream",
     "text": [
      "TOTAL Number of Instances : 3002293 \n",
      "CERTIFIED : 87.12 % \n",
      "CERTIFIED-WITHDRAWN: 6.75 % \n",
      "DENIED: 3.14 % \n",
      "WITHDRAWN: 2.99 % \n"
     ]
    }
   ],
   "source": [
    "df_group = df.groupby(\"CASE_STATUS\")\n",
    "total = len(df)\n",
    "print(\"TOTAL Number of Instances : %d \" %total)\n",
    "print(\"CERTIFIED : {:04.2f} % \".format(df_group.size()[0]* 100 / total))\n",
    "print(\"CERTIFIED-WITHDRAWN: {:04.2f} % \".format(df_group.size()[1]* 100/total))\n",
    "print(\"DENIED: {:04.2f} % \".format(df_group.size()[2]* 100/total))\n",
    "print(\"WITHDRAWN: {:04.2f} % \".format(df_group.size()[3]* 100/total))\n"
   ]
  },
  {
   "cell_type": "code",
   "execution_count": null,
   "metadata": {
    "collapsed": true
   },
   "outputs": [],
   "source": []
  },
  {
   "cell_type": "markdown",
   "metadata": {},
   "source": [
    "#### PREVAILING_WAGE"
   ]
  },
  {
   "cell_type": "code",
   "execution_count": 171,
   "metadata": {},
   "outputs": [
    {
     "data": {
      "text/html": [
       "<div>\n",
       "<style>\n",
       "    .dataframe thead tr:only-child th {\n",
       "        text-align: right;\n",
       "    }\n",
       "\n",
       "    .dataframe thead th {\n",
       "        text-align: left;\n",
       "    }\n",
       "\n",
       "    .dataframe tbody tr th {\n",
       "        vertical-align: top;\n",
       "    }\n",
       "</style>\n",
       "<table border=\"1\" class=\"dataframe\">\n",
       "  <thead>\n",
       "    <tr>\n",
       "      <th></th>\n",
       "      <th colspan=\"2\" halign=\"left\">PREVAILING_WAGE</th>\n",
       "    </tr>\n",
       "    <tr>\n",
       "      <th></th>\n",
       "      <th>count</th>\n",
       "      <th>mean</th>\n",
       "    </tr>\n",
       "    <tr>\n",
       "      <th>JOB_TITLE</th>\n",
       "      <th></th>\n",
       "      <th></th>\n",
       "    </tr>\n",
       "  </thead>\n",
       "  <tbody>\n",
       "    <tr>\n",
       "      <th>\"BUSINESS SYSTEM ANALYST</th>\n",
       "      <td>1</td>\n",
       "      <td>49421.000000</td>\n",
       "    </tr>\n",
       "    <tr>\n",
       "      <th>\"SALES MANAGER</th>\n",
       "      <td>1</td>\n",
       "      <td>41808.000000</td>\n",
       "    </tr>\n",
       "    <tr>\n",
       "      <th>\"TEST\" SENIOR SCIENTIST</th>\n",
       "      <td>1</td>\n",
       "      <td>83325.000000</td>\n",
       "    </tr>\n",
       "    <tr>\n",
       "      <th>\"TRAIN THE TRAINER\" PROGRAM SUPERVISOR</th>\n",
       "      <td>1</td>\n",
       "      <td>28538.000000</td>\n",
       "    </tr>\n",
       "    <tr>\n",
       "      <th>'ACCOUNTANT</th>\n",
       "      <td>1</td>\n",
       "      <td>47382.000000</td>\n",
       "    </tr>\n",
       "    <tr>\n",
       "      <th>'COMPUTER SYSTEMS ANALYSTS</th>\n",
       "      <td>1</td>\n",
       "      <td>40000.000000</td>\n",
       "    </tr>\n",
       "    <tr>\n",
       "      <th>'DIRECTOR OF USER ACQUISITION</th>\n",
       "      <td>1</td>\n",
       "      <td>156354.000000</td>\n",
       "    </tr>\n",
       "    <tr>\n",
       "      <th>'OF COUNSEL' TRANSACTION ATTORNEY</th>\n",
       "      <td>1</td>\n",
       "      <td>59176.000000</td>\n",
       "    </tr>\n",
       "    <tr>\n",
       "      <th>( CONSULTANT) ETL DEVELOPER</th>\n",
       "      <td>1</td>\n",
       "      <td>81494.000000</td>\n",
       "    </tr>\n",
       "    <tr>\n",
       "      <th>(2ND YEAR) ANALYST</th>\n",
       "      <td>1</td>\n",
       "      <td>95160.000000</td>\n",
       "    </tr>\n",
       "    <tr>\n",
       "      <th>(ASSOCIATE) BRAND MANAGER</th>\n",
       "      <td>1</td>\n",
       "      <td>97136.000000</td>\n",
       "    </tr>\n",
       "    <tr>\n",
       "      <th>(ASSOCIATE) FINANCIAL ANALYST</th>\n",
       "      <td>1</td>\n",
       "      <td>62566.000000</td>\n",
       "    </tr>\n",
       "    <tr>\n",
       "      <th>(BCF) ASSOCIATE DIRECTOR, SAF EXECUTION (NEW YORK)</th>\n",
       "      <td>1</td>\n",
       "      <td>108118.000000</td>\n",
       "    </tr>\n",
       "    <tr>\n",
       "      <th>(BILINGUAL) PROGRAMMER</th>\n",
       "      <td>1</td>\n",
       "      <td>41038.000000</td>\n",
       "    </tr>\n",
       "    <tr>\n",
       "      <th>(BIOINFORMATICS) SYSTEMS ANALYST 2</th>\n",
       "      <td>1</td>\n",
       "      <td>59717.000000</td>\n",
       "    </tr>\n",
       "    <tr>\n",
       "      <th>(BIOLOGICAL) SR RESEARCH ASSOCIATE</th>\n",
       "      <td>2</td>\n",
       "      <td>57186.000000</td>\n",
       "    </tr>\n",
       "    <tr>\n",
       "      <th>(BIOLOGICAL) SYSTEMS ANALYST  2</th>\n",
       "      <td>2</td>\n",
       "      <td>63149.000000</td>\n",
       "    </tr>\n",
       "    <tr>\n",
       "      <th>(BIOLOGIST) SENIOR RESEARCH ASSOCIATE</th>\n",
       "      <td>1</td>\n",
       "      <td>62400.000000</td>\n",
       "    </tr>\n",
       "    <tr>\n",
       "      <th>(BRIDGES) CIVIL ENGINEER</th>\n",
       "      <td>1</td>\n",
       "      <td>113401.000000</td>\n",
       "    </tr>\n",
       "    <tr>\n",
       "      <th>(BRIDGES) SENIOR CIVIL ENGINEER</th>\n",
       "      <td>1</td>\n",
       "      <td>113401.000000</td>\n",
       "    </tr>\n",
       "    <tr>\n",
       "      <th>(BUSINESS) SYSTEMS ANALYST</th>\n",
       "      <td>9</td>\n",
       "      <td>111136.222222</td>\n",
       "    </tr>\n",
       "    <tr>\n",
       "      <th>(CARDIAC) HOSPITALIST</th>\n",
       "      <td>1</td>\n",
       "      <td>150946.000000</td>\n",
       "    </tr>\n",
       "    <tr>\n",
       "      <th>(CHEMICAL-MECHANICAL ENGINEERING) PROJECT SCIENTIS</th>\n",
       "      <td>1</td>\n",
       "      <td>55994.000000</td>\n",
       "    </tr>\n",
       "    <tr>\n",
       "      <th>(CLINCAL) SYSTEMS ANLYST</th>\n",
       "      <td>2</td>\n",
       "      <td>62192.000000</td>\n",
       "    </tr>\n",
       "    <tr>\n",
       "      <th>(COMPUTER SYSTEMS ENGINEER/ARCHITECT</th>\n",
       "      <td>2</td>\n",
       "      <td>34174.000000</td>\n",
       "    </tr>\n",
       "    <tr>\n",
       "      <th>(COMPUTER SYSTEMS) RESEARCH ANALYST</th>\n",
       "      <td>1</td>\n",
       "      <td>120224.000000</td>\n",
       "    </tr>\n",
       "    <tr>\n",
       "      <th>(COMPUTER) PRODUCT ENGINEER</th>\n",
       "      <td>1</td>\n",
       "      <td>51938.000000</td>\n",
       "    </tr>\n",
       "    <tr>\n",
       "      <th>(EDUCATION) ADMINISTRATOR</th>\n",
       "      <td>1</td>\n",
       "      <td>26478.000000</td>\n",
       "    </tr>\n",
       "    <tr>\n",
       "      <th>(ENTERPRISE) APPLICATIONS DEVELOPER</th>\n",
       "      <td>2</td>\n",
       "      <td>65894.000000</td>\n",
       "    </tr>\n",
       "    <tr>\n",
       "      <th>(EQUITY) SALES ASSISTANT</th>\n",
       "      <td>1</td>\n",
       "      <td>64938.000000</td>\n",
       "    </tr>\n",
       "    <tr>\n",
       "      <th>...</th>\n",
       "      <td>...</td>\n",
       "      <td>...</td>\n",
       "    </tr>\n",
       "    <tr>\n",
       "      <th>ZYQAD SPECIALIST</th>\n",
       "      <td>2</td>\n",
       "      <td>88493.500000</td>\n",
       "    </tr>\n",
       "    <tr>\n",
       "      <th>[FINANCIAL] ANALYST, STRUCTURED CREDIT</th>\n",
       "      <td>3</td>\n",
       "      <td>75434.333333</td>\n",
       "    </tr>\n",
       "    <tr>\n",
       "      <th>[HIOX] COMMERCIAL SPECIALIST (SALES ENGINEER)</th>\n",
       "      <td>1</td>\n",
       "      <td>63357.000000</td>\n",
       "    </tr>\n",
       "    <tr>\n",
       "      <th>[PHYSICAL THERAPIST</th>\n",
       "      <td>1</td>\n",
       "      <td>69035.000000</td>\n",
       "    </tr>\n",
       "    <tr>\n",
       "      <th>]ENGINEERING LEAD</th>\n",
       "      <td>3</td>\n",
       "      <td>51542.000000</td>\n",
       "    </tr>\n",
       "    <tr>\n",
       "      <th>`QUALITY ASSURANCE ANALYST</th>\n",
       "      <td>1</td>\n",
       "      <td>55682.000000</td>\n",
       "    </tr>\n",
       "    <tr>\n",
       "      <th>|NFORMATION MANAGEMENT SPECIALIST</th>\n",
       "      <td>1</td>\n",
       "      <td>38875.000000</td>\n",
       "    </tr>\n",
       "    <tr>\n",
       "      <th>MIDDLEWARE ADMINISTRATION.</th>\n",
       "      <td>2</td>\n",
       "      <td>57429.000000</td>\n",
       "    </tr>\n",
       "    <tr>\n",
       "      <th>BUSINESS ANALYST</th>\n",
       "      <td>1</td>\n",
       "      <td>60133.000000</td>\n",
       "    </tr>\n",
       "    <tr>\n",
       "      <th>BUSINESS INTELLIGENCE ANALYST</th>\n",
       "      <td>2</td>\n",
       "      <td>77584.000000</td>\n",
       "    </tr>\n",
       "    <tr>\n",
       "      <th>COMPUTER SYSTEMS ENGINEER</th>\n",
       "      <td>1</td>\n",
       "      <td>46218.000000</td>\n",
       "    </tr>\n",
       "    <tr>\n",
       "      <th>CONSULTANT - US</th>\n",
       "      <td>1</td>\n",
       "      <td>56992.000000</td>\n",
       "    </tr>\n",
       "    <tr>\n",
       "      <th>LEAD CONSULTANT - US</th>\n",
       "      <td>1</td>\n",
       "      <td>99652.000000</td>\n",
       "    </tr>\n",
       "    <tr>\n",
       "      <th>LEAD TEST ANALYST</th>\n",
       "      <td>1</td>\n",
       "      <td>69389.000000</td>\n",
       "    </tr>\n",
       "    <tr>\n",
       "      <th>MOBILE SQA ENGINEER</th>\n",
       "      <td>2</td>\n",
       "      <td>41288.000000</td>\n",
       "    </tr>\n",
       "    <tr>\n",
       "      <th>ORACLE APPS DBA</th>\n",
       "      <td>1</td>\n",
       "      <td>60674.000000</td>\n",
       "    </tr>\n",
       "    <tr>\n",
       "      <th>PROJECT MANAGERS</th>\n",
       "      <td>1</td>\n",
       "      <td>60986.000000</td>\n",
       "    </tr>\n",
       "    <tr>\n",
       "      <th>QA ANALYST</th>\n",
       "      <td>1</td>\n",
       "      <td>56555.000000</td>\n",
       "    </tr>\n",
       "    <tr>\n",
       "      <th>QUALITY ASSURANCE ANALYST</th>\n",
       "      <td>1</td>\n",
       "      <td>77938.000000</td>\n",
       "    </tr>\n",
       "    <tr>\n",
       "      <th>SAS ANALYST</th>\n",
       "      <td>1</td>\n",
       "      <td>55598.000000</td>\n",
       "    </tr>\n",
       "    <tr>\n",
       "      <th>SENIOR PROJECT LEADER</th>\n",
       "      <td>1</td>\n",
       "      <td>60778.000000</td>\n",
       "    </tr>\n",
       "    <tr>\n",
       "      <th>SHAREPOINT/SQL DEVELOPER</th>\n",
       "      <td>1</td>\n",
       "      <td>76107.000000</td>\n",
       "    </tr>\n",
       "    <tr>\n",
       "      <th>SOFTWARE ENGINEER</th>\n",
       "      <td>25</td>\n",
       "      <td>65042.000000</td>\n",
       "    </tr>\n",
       "    <tr>\n",
       "      <th>SOFTWARE PROGRAMMER</th>\n",
       "      <td>14</td>\n",
       "      <td>65042.000000</td>\n",
       "    </tr>\n",
       "    <tr>\n",
       "      <th>SOFTWARE TEST ENGINEER</th>\n",
       "      <td>2</td>\n",
       "      <td>72321.500000</td>\n",
       "    </tr>\n",
       "    <tr>\n",
       "      <th>SR. BUSINESS INTELLIGENCE DEVELOPER</th>\n",
       "      <td>1</td>\n",
       "      <td>69909.000000</td>\n",
       "    </tr>\n",
       "    <tr>\n",
       "      <th>SYSTEMS ANALYST</th>\n",
       "      <td>3</td>\n",
       "      <td>48644.333333</td>\n",
       "    </tr>\n",
       "    <tr>\n",
       "      <th>TEAM LEAD - US</th>\n",
       "      <td>2</td>\n",
       "      <td>46779.000000</td>\n",
       "    </tr>\n",
       "    <tr>\n",
       "      <th>TECHNOLOGY ARCHITECT - US</th>\n",
       "      <td>1</td>\n",
       "      <td>96033.000000</td>\n",
       "    </tr>\n",
       "    <tr>\n",
       "      <th>TEST ANALYST - US</th>\n",
       "      <td>1</td>\n",
       "      <td>53872.000000</td>\n",
       "    </tr>\n",
       "  </tbody>\n",
       "</table>\n",
       "<p>287539 rows × 2 columns</p>\n",
       "</div>"
      ],
      "text/plain": [
       "                                                   PREVAILING_WAGE  \\\n",
       "                                                             count   \n",
       "JOB_TITLE                                                            \n",
       "\"BUSINESS SYSTEM ANALYST                                         1   \n",
       "\"SALES MANAGER                                                   1   \n",
       "\"TEST\" SENIOR SCIENTIST                                          1   \n",
       "\"TRAIN THE TRAINER\" PROGRAM SUPERVISOR                           1   \n",
       "'ACCOUNTANT                                                      1   \n",
       "'COMPUTER SYSTEMS ANALYSTS                                       1   \n",
       "'DIRECTOR OF USER ACQUISITION                                    1   \n",
       "'OF COUNSEL' TRANSACTION ATTORNEY                                1   \n",
       "( CONSULTANT) ETL DEVELOPER                                      1   \n",
       "(2ND YEAR) ANALYST                                               1   \n",
       "(ASSOCIATE) BRAND MANAGER                                        1   \n",
       "(ASSOCIATE) FINANCIAL ANALYST                                    1   \n",
       "(BCF) ASSOCIATE DIRECTOR, SAF EXECUTION (NEW YORK)               1   \n",
       "(BILINGUAL) PROGRAMMER                                           1   \n",
       "(BIOINFORMATICS) SYSTEMS ANALYST 2                               1   \n",
       "(BIOLOGICAL) SR RESEARCH ASSOCIATE                               2   \n",
       "(BIOLOGICAL) SYSTEMS ANALYST  2                                  2   \n",
       "(BIOLOGIST) SENIOR RESEARCH ASSOCIATE                            1   \n",
       "(BRIDGES) CIVIL ENGINEER                                         1   \n",
       "(BRIDGES) SENIOR CIVIL ENGINEER                                  1   \n",
       "(BUSINESS) SYSTEMS ANALYST                                       9   \n",
       "(CARDIAC) HOSPITALIST                                            1   \n",
       "(CHEMICAL-MECHANICAL ENGINEERING) PROJECT SCIENTIS               1   \n",
       "(CLINCAL) SYSTEMS ANLYST                                         2   \n",
       "(COMPUTER SYSTEMS ENGINEER/ARCHITECT                             2   \n",
       "(COMPUTER SYSTEMS) RESEARCH ANALYST                              1   \n",
       "(COMPUTER) PRODUCT ENGINEER                                      1   \n",
       "(EDUCATION) ADMINISTRATOR                                        1   \n",
       "(ENTERPRISE) APPLICATIONS DEVELOPER                              2   \n",
       "(EQUITY) SALES ASSISTANT                                         1   \n",
       "...                                                            ...   \n",
       "ZYQAD SPECIALIST                                                 2   \n",
       "[FINANCIAL] ANALYST, STRUCTURED CREDIT                           3   \n",
       "[HIOX] COMMERCIAL SPECIALIST (SALES ENGINEER)                    1   \n",
       "[PHYSICAL THERAPIST                                              1   \n",
       "]ENGINEERING LEAD                                                3   \n",
       "`QUALITY ASSURANCE ANALYST                                       1   \n",
       "|NFORMATION MANAGEMENT SPECIALIST                                1   \n",
       "  MIDDLEWARE ADMINISTRATION.                                     2   \n",
       " BUSINESS ANALYST                                                1   \n",
       " BUSINESS INTELLIGENCE ANALYST                                   2   \n",
       " COMPUTER SYSTEMS ENGINEER                                       1   \n",
       " CONSULTANT - US                                                 1   \n",
       " LEAD CONSULTANT - US                                            1   \n",
       " LEAD TEST ANALYST                                               1   \n",
       " MOBILE SQA ENGINEER                                             2   \n",
       " ORACLE APPS DBA                                                 1   \n",
       " PROJECT MANAGERS                                                1   \n",
       " QA ANALYST                                                      1   \n",
       " QUALITY ASSURANCE ANALYST                                       1   \n",
       " SAS ANALYST                                                     1   \n",
       " SENIOR PROJECT LEADER                                           1   \n",
       " SHAREPOINT/SQL DEVELOPER                                        1   \n",
       " SOFTWARE ENGINEER                                              25   \n",
       " SOFTWARE PROGRAMMER                                            14   \n",
       " SOFTWARE TEST ENGINEER                                          2   \n",
       " SR. BUSINESS INTELLIGENCE DEVELOPER                             1   \n",
       " SYSTEMS ANALYST                                                 3   \n",
       " TEAM LEAD - US                                                  2   \n",
       " TECHNOLOGY ARCHITECT - US                                       1   \n",
       " TEST ANALYST - US                                               1   \n",
       "\n",
       "                                                                   \n",
       "                                                             mean  \n",
       "JOB_TITLE                                                          \n",
       "\"BUSINESS SYSTEM ANALYST                             49421.000000  \n",
       "\"SALES MANAGER                                       41808.000000  \n",
       "\"TEST\" SENIOR SCIENTIST                              83325.000000  \n",
       "\"TRAIN THE TRAINER\" PROGRAM SUPERVISOR               28538.000000  \n",
       "'ACCOUNTANT                                          47382.000000  \n",
       "'COMPUTER SYSTEMS ANALYSTS                           40000.000000  \n",
       "'DIRECTOR OF USER ACQUISITION                       156354.000000  \n",
       "'OF COUNSEL' TRANSACTION ATTORNEY                    59176.000000  \n",
       "( CONSULTANT) ETL DEVELOPER                          81494.000000  \n",
       "(2ND YEAR) ANALYST                                   95160.000000  \n",
       "(ASSOCIATE) BRAND MANAGER                            97136.000000  \n",
       "(ASSOCIATE) FINANCIAL ANALYST                        62566.000000  \n",
       "(BCF) ASSOCIATE DIRECTOR, SAF EXECUTION (NEW YORK)  108118.000000  \n",
       "(BILINGUAL) PROGRAMMER                               41038.000000  \n",
       "(BIOINFORMATICS) SYSTEMS ANALYST 2                   59717.000000  \n",
       "(BIOLOGICAL) SR RESEARCH ASSOCIATE                   57186.000000  \n",
       "(BIOLOGICAL) SYSTEMS ANALYST  2                      63149.000000  \n",
       "(BIOLOGIST) SENIOR RESEARCH ASSOCIATE                62400.000000  \n",
       "(BRIDGES) CIVIL ENGINEER                            113401.000000  \n",
       "(BRIDGES) SENIOR CIVIL ENGINEER                     113401.000000  \n",
       "(BUSINESS) SYSTEMS ANALYST                          111136.222222  \n",
       "(CARDIAC) HOSPITALIST                               150946.000000  \n",
       "(CHEMICAL-MECHANICAL ENGINEERING) PROJECT SCIENTIS   55994.000000  \n",
       "(CLINCAL) SYSTEMS ANLYST                             62192.000000  \n",
       "(COMPUTER SYSTEMS ENGINEER/ARCHITECT                 34174.000000  \n",
       "(COMPUTER SYSTEMS) RESEARCH ANALYST                 120224.000000  \n",
       "(COMPUTER) PRODUCT ENGINEER                          51938.000000  \n",
       "(EDUCATION) ADMINISTRATOR                            26478.000000  \n",
       "(ENTERPRISE) APPLICATIONS DEVELOPER                  65894.000000  \n",
       "(EQUITY) SALES ASSISTANT                             64938.000000  \n",
       "...                                                           ...  \n",
       "ZYQAD SPECIALIST                                     88493.500000  \n",
       "[FINANCIAL] ANALYST, STRUCTURED CREDIT               75434.333333  \n",
       "[HIOX] COMMERCIAL SPECIALIST (SALES ENGINEER)        63357.000000  \n",
       "[PHYSICAL THERAPIST                                  69035.000000  \n",
       "]ENGINEERING LEAD                                    51542.000000  \n",
       "`QUALITY ASSURANCE ANALYST                           55682.000000  \n",
       "|NFORMATION MANAGEMENT SPECIALIST                    38875.000000  \n",
       "  MIDDLEWARE ADMINISTRATION.                         57429.000000  \n",
       " BUSINESS ANALYST                                    60133.000000  \n",
       " BUSINESS INTELLIGENCE ANALYST                       77584.000000  \n",
       " COMPUTER SYSTEMS ENGINEER                           46218.000000  \n",
       " CONSULTANT - US                                     56992.000000  \n",
       " LEAD CONSULTANT - US                                99652.000000  \n",
       " LEAD TEST ANALYST                                   69389.000000  \n",
       " MOBILE SQA ENGINEER                                 41288.000000  \n",
       " ORACLE APPS DBA                                     60674.000000  \n",
       " PROJECT MANAGERS                                    60986.000000  \n",
       " QA ANALYST                                          56555.000000  \n",
       " QUALITY ASSURANCE ANALYST                           77938.000000  \n",
       " SAS ANALYST                                         55598.000000  \n",
       " SENIOR PROJECT LEADER                               60778.000000  \n",
       " SHAREPOINT/SQL DEVELOPER                            76107.000000  \n",
       " SOFTWARE ENGINEER                                   65042.000000  \n",
       " SOFTWARE PROGRAMMER                                 65042.000000  \n",
       " SOFTWARE TEST ENGINEER                              72321.500000  \n",
       " SR. BUSINESS INTELLIGENCE DEVELOPER                 69909.000000  \n",
       " SYSTEMS ANALYST                                     48644.333333  \n",
       " TEAM LEAD - US                                      46779.000000  \n",
       " TECHNOLOGY ARCHITECT - US                           96033.000000  \n",
       " TEST ANALYST - US                                   53872.000000  \n",
       "\n",
       "[287539 rows x 2 columns]"
      ]
     },
     "execution_count": 171,
     "metadata": {},
     "output_type": "execute_result"
    }
   ],
   "source": [
    "f = {\"PREVAILING_WAGE\" : [\"count\", \"mean\"]}\n",
    "df.groupby(\"JOB_TITLE\").agg(f)"
   ]
  },
  {
   "cell_type": "code",
   "execution_count": null,
   "metadata": {
    "collapsed": true
   },
   "outputs": [],
   "source": []
  }
 ],
 "metadata": {
  "kernelspec": {
   "display_name": "Python 3",
   "language": "python",
   "name": "python3"
  },
  "language_info": {
   "codemirror_mode": {
    "name": "ipython",
    "version": 3
   },
   "file_extension": ".py",
   "mimetype": "text/x-python",
   "name": "python",
   "nbconvert_exporter": "python",
   "pygments_lexer": "ipython3",
   "version": "3.6.1"
  }
 },
 "nbformat": 4,
 "nbformat_minor": 2
}
