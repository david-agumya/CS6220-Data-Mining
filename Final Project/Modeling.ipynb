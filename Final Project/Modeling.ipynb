{
 "cells": [
  {
   "cell_type": "code",
   "execution_count": 22,
   "metadata": {},
   "outputs": [
    {
     "name": "stdout",
     "output_type": "stream",
     "text": [
      "Populating the interactive namespace from numpy and matplotlib\n"
     ]
    }
   ],
   "source": [
    "# Dependencies\n",
    "%pylab inline\n",
    "import pandas as pd\n",
    "import numpy as np\n",
    "import csv\n",
    "import matplotlib.pyplot as plt\n",
    "matplotlib.style.use('ggplot')\n",
    "import matplotlib.ticker as mtick\n",
    "from scipy import stats\n",
    "from sklearn.model_selection import StratifiedShuffleSplit\n",
    "from sklearn.neighbors import KNeighborsClassifier\n",
    "from sklearn.preprocessing import LabelEncoder\n",
    "\n",
    "warnings.filterwarnings('ignore')"
   ]
  },
  {
   "cell_type": "markdown",
   "metadata": {},
   "source": [
    "## Read In Data"
   ]
  },
  {
   "cell_type": "code",
   "execution_count": 23,
   "metadata": {
    "collapsed": true
   },
   "outputs": [],
   "source": [
    "filePath = \"./Data/h1b_kaggle.csv\"\n",
    "df = pd.read_csv(filePath, header=0)"
   ]
  },
  {
   "cell_type": "markdown",
   "metadata": {},
   "source": [
    "#### Drop unnecessary features"
   ]
  },
  {
   "cell_type": "markdown",
   "metadata": {},
   "source": [
    "## Data Cleaning\n",
    "+ Remove outliers \n",
    "+ Remove missing data"
   ]
  },
  {
   "cell_type": "code",
   "execution_count": 24,
   "metadata": {
    "collapsed": true
   },
   "outputs": [],
   "source": [
    "# Drop unnecessary features\n",
    "try:\n",
    "    df.drop(['Unnamed: 0', 'lon', 'lat', 'SOC_NAME'], axis=1, inplace=True)\n",
    "except ValueError:\n",
    "    print(\"Already deleted unnecessary features\")\n",
    "original_number_of_instances = len(df)"
   ]
  },
  {
   "cell_type": "markdown",
   "metadata": {},
   "source": [
    "#### Drop instances with missing feature values"
   ]
  },
  {
   "cell_type": "code",
   "execution_count": 25,
   "metadata": {
    "collapsed": true
   },
   "outputs": [],
   "source": [
    "df.dropna(inplace=True)"
   ]
  },
  {
   "cell_type": "code",
   "execution_count": 26,
   "metadata": {},
   "outputs": [
    {
     "name": "stdout",
     "output_type": "stream",
     "text": [
      "Before deletion: 3002458 After Deletion : 3002311 \n"
     ]
    }
   ],
   "source": [
    "instances_after_missing_dropped = len(df)\n",
    "print(\"Before deletion: {} After Deletion : {} \"\n",
    "      .format(original_number_of_instances, instances_after_missing_dropped))"
   ]
  },
  {
   "cell_type": "markdown",
   "metadata": {},
   "source": [
    "#### Remove Outliers in the ___PREVAILING_WAGE___ feature\n",
    "#### Change ___PREVAILING_WAGE___ values to _int_\n",
    "#### Change ___YEAR___ values to _int_"
   ]
  },
  {
   "cell_type": "code",
   "execution_count": 27,
   "metadata": {
    "collapsed": true
   },
   "outputs": [],
   "source": [
    "# Remove outliers in wage\n",
    "df2 = df[~(np.abs(df[\"PREVAILING_WAGE\"] - df[\"PREVAILING_WAGE\"].mean()) > (2 * df[\"PREVAILING_WAGE\"].std()))]\n",
    "def transform_to_int(x):\n",
    "    return int(x)\n",
    "\n",
    "df2['PREVAILING_WAGE'] = df2[\"PREVAILING_WAGE\"].apply(transform_to_int)\n",
    "df2['YEAR'] = df2[\"YEAR\"].apply(transform_to_int)\n"
   ]
  },
  {
   "cell_type": "markdown",
   "metadata": {},
   "source": [
    "#### Limit the outcomes in the target to :\n",
    "+ CERTIFIED | CERTIFIED-WITHDRAWN | DENIED | WITHDRAWN"
   ]
  },
  {
   "cell_type": "code",
   "execution_count": 28,
   "metadata": {
    "collapsed": true
   },
   "outputs": [],
   "source": [
    "certified = df[\"CASE_STATUS\"] == \"CERTIFIED\"\n",
    "certified_withdrawn = df[\"CASE_STATUS\"] == \"CERTIFIED-WITHDRAWN\"\n",
    "denied = df[\"CASE_STATUS\"] == \"DENIED\"\n",
    "withdrawn = df[\"CASE_STATUS\"] == \"WITHDRAWN\"\n",
    "\n",
    "df2 = df2[certified | certified_withdrawn | denied | withdrawn]"
   ]
  },
  {
   "cell_type": "markdown",
   "metadata": {},
   "source": [
    "#### Select 20,000 instances to sample. Using Sampling without replacement method of sampling"
   ]
  },
  {
   "cell_type": "code",
   "execution_count": 52,
   "metadata": {
    "collapsed": true
   },
   "outputs": [],
   "source": [
    "# df.take() uses positions to select instances\n",
    "df3 = df2.take(np.random.permutation(len(df2)))[:20000]"
   ]
  },
  {
   "cell_type": "code",
   "execution_count": 53,
   "metadata": {},
   "outputs": [
    {
     "data": {
      "text/plain": [
       "20000"
      ]
     },
     "execution_count": 53,
     "metadata": {},
     "output_type": "execute_result"
    }
   ],
   "source": [
    "len(df3)"
   ]
  },
  {
   "cell_type": "markdown",
   "metadata": {},
   "source": [
    "## Data Understanding and Description"
   ]
  },
  {
   "cell_type": "markdown",
   "metadata": {},
   "source": [
    "## Data Preprocessing"
   ]
  },
  {
   "cell_type": "code",
   "execution_count": 54,
   "metadata": {},
   "outputs": [
    {
     "data": {
      "text/html": [
       "<div>\n",
       "<style>\n",
       "    .dataframe thead tr:only-child th {\n",
       "        text-align: right;\n",
       "    }\n",
       "\n",
       "    .dataframe thead th {\n",
       "        text-align: left;\n",
       "    }\n",
       "\n",
       "    .dataframe tbody tr th {\n",
       "        vertical-align: top;\n",
       "    }\n",
       "</style>\n",
       "<table border=\"1\" class=\"dataframe\">\n",
       "  <thead>\n",
       "    <tr style=\"text-align: right;\">\n",
       "      <th></th>\n",
       "      <th>CASE_STATUS</th>\n",
       "      <th>EMPLOYER_NAME</th>\n",
       "      <th>JOB_TITLE</th>\n",
       "      <th>FULL_TIME_POSITION</th>\n",
       "      <th>PREVAILING_WAGE</th>\n",
       "      <th>YEAR</th>\n",
       "      <th>WORKSITE</th>\n",
       "    </tr>\n",
       "  </thead>\n",
       "  <tbody>\n",
       "    <tr>\n",
       "      <th>1515954</th>\n",
       "      <td>CERTIFIED</td>\n",
       "      <td>NLT CORPORATION</td>\n",
       "      <td>ORACLE APPLICATIONS ANALYST</td>\n",
       "      <td>Y</td>\n",
       "      <td>82930</td>\n",
       "      <td>2014</td>\n",
       "      <td>SPRINGFIELD, VIRGINIA</td>\n",
       "    </tr>\n",
       "    <tr>\n",
       "      <th>1441891</th>\n",
       "      <td>DENIED</td>\n",
       "      <td>ORACLE AMERICA, INC.</td>\n",
       "      <td>SOFTWARE DEVELOPER</td>\n",
       "      <td>Y</td>\n",
       "      <td>96164</td>\n",
       "      <td>2014</td>\n",
       "      <td>WASHINGTON, DISTRICT OF COLUMBIA</td>\n",
       "    </tr>\n",
       "    <tr>\n",
       "      <th>2645167</th>\n",
       "      <td>CERTIFIED</td>\n",
       "      <td>PURDUE UNIVERSITY</td>\n",
       "      <td>POST DOCTORAL RESEARCH ASSOCIATE</td>\n",
       "      <td>Y</td>\n",
       "      <td>38522</td>\n",
       "      <td>2011</td>\n",
       "      <td>WEST LAFAYETTE, INDIANA</td>\n",
       "    </tr>\n",
       "    <tr>\n",
       "      <th>384363</th>\n",
       "      <td>CERTIFIED</td>\n",
       "      <td>CAPGEMINI AMERICA INC</td>\n",
       "      <td>SOFTWARE ENGINEER 2</td>\n",
       "      <td>Y</td>\n",
       "      <td>74797</td>\n",
       "      <td>2016</td>\n",
       "      <td>CLARKS SUMMIT, PENNSYLVANIA</td>\n",
       "    </tr>\n",
       "    <tr>\n",
       "      <th>2231381</th>\n",
       "      <td>CERTIFIED-WITHDRAWN</td>\n",
       "      <td>INTEGRATED RESOURCES, INC.</td>\n",
       "      <td>PHYSICAL THERAPIST</td>\n",
       "      <td>Y</td>\n",
       "      <td>58073</td>\n",
       "      <td>2012</td>\n",
       "      <td>SOUTH BELOIT, ILLINOIS</td>\n",
       "    </tr>\n",
       "  </tbody>\n",
       "</table>\n",
       "</div>"
      ],
      "text/plain": [
       "                 CASE_STATUS               EMPLOYER_NAME  \\\n",
       "1515954            CERTIFIED             NLT CORPORATION   \n",
       "1441891               DENIED        ORACLE AMERICA, INC.   \n",
       "2645167            CERTIFIED           PURDUE UNIVERSITY   \n",
       "384363             CERTIFIED       CAPGEMINI AMERICA INC   \n",
       "2231381  CERTIFIED-WITHDRAWN  INTEGRATED RESOURCES, INC.   \n",
       "\n",
       "                                JOB_TITLE FULL_TIME_POSITION  PREVAILING_WAGE  \\\n",
       "1515954       ORACLE APPLICATIONS ANALYST                  Y            82930   \n",
       "1441891                SOFTWARE DEVELOPER                  Y            96164   \n",
       "2645167  POST DOCTORAL RESEARCH ASSOCIATE                  Y            38522   \n",
       "384363                SOFTWARE ENGINEER 2                  Y            74797   \n",
       "2231381                PHYSICAL THERAPIST                  Y            58073   \n",
       "\n",
       "         YEAR                          WORKSITE  \n",
       "1515954  2014             SPRINGFIELD, VIRGINIA  \n",
       "1441891  2014  WASHINGTON, DISTRICT OF COLUMBIA  \n",
       "2645167  2011           WEST LAFAYETTE, INDIANA  \n",
       "384363   2016       CLARKS SUMMIT, PENNSYLVANIA  \n",
       "2231381  2012            SOUTH BELOIT, ILLINOIS  "
      ]
     },
     "execution_count": 54,
     "metadata": {},
     "output_type": "execute_result"
    }
   ],
   "source": [
    "df3[:5]"
   ]
  },
  {
   "cell_type": "code",
   "execution_count": 55,
   "metadata": {},
   "outputs": [
    {
     "data": {
      "text/plain": [
       "<matplotlib.axes._subplots.AxesSubplot at 0x10bc6ce48>"
      ]
     },
     "execution_count": 55,
     "metadata": {},
     "output_type": "execute_result"
    },
    {
     "data": {
      "image/png": "[encoded data removed]",
      "text/plain": [
       "<matplotlib.figure.Figure at 0x10bc6bc88>"
      ]
     },
     "metadata": {},
     "output_type": "display_data"
    }
   ],
   "source": [
    "df3[\"CASE_STATUS\"].value_counts().plot.pie()"
   ]
  },
  {
   "cell_type": "markdown",
   "metadata": {
    "collapsed": true
   },
   "source": [
    "### Encode the independent features"
   ]
  },
  {
   "cell_type": "code",
   "execution_count": 56,
   "metadata": {},
   "outputs": [
    {
     "name": "stdout",
     "output_type": "stream",
     "text": [
      "EMPLOYER_NAME + JOB_TITLE + FULL_TIME_POSITION + PREVAILING_WAGE + YEAR + WORKSITE\n"
     ]
    }
   ],
   "source": [
    "cols_list = list(df3.columns)\n",
    "s = \" + \".join([item for item in cols_list if item != \"CASE_STATUS\"])\n",
    "print(s)"
   ]
  },
  {
   "cell_type": "markdown",
   "metadata": {},
   "source": [
    "### Encode the Data"
   ]
  },
  {
   "cell_type": "code",
   "execution_count": 57,
   "metadata": {
    "collapsed": true
   },
   "outputs": [],
   "source": [
    "X = df3[[\"EMPLOYER_NAME\", \"JOB_TITLE\", \"FULL_TIME_POSITION\", \"PREVAILING_WAGE\", \"YEAR\", \"WORKSITE\"]]\n",
    "y = df3[\"CASE_STATUS\"]"
   ]
  },
  {
   "cell_type": "code",
   "execution_count": 58,
   "metadata": {},
   "outputs": [
    {
     "data": {
      "text/html": [
       "<div>\n",
       "<style>\n",
       "    .dataframe thead tr:only-child th {\n",
       "        text-align: right;\n",
       "    }\n",
       "\n",
       "    .dataframe thead th {\n",
       "        text-align: left;\n",
       "    }\n",
       "\n",
       "    .dataframe tbody tr th {\n",
       "        vertical-align: top;\n",
       "    }\n",
       "</style>\n",
       "<table border=\"1\" class=\"dataframe\">\n",
       "  <thead>\n",
       "    <tr style=\"text-align: right;\">\n",
       "      <th></th>\n",
       "      <th>EMPLOYER_NAME</th>\n",
       "      <th>JOB_TITLE</th>\n",
       "      <th>FULL_TIME_POSITION</th>\n",
       "      <th>PREVAILING_WAGE</th>\n",
       "      <th>YEAR</th>\n",
       "      <th>WORKSITE</th>\n",
       "    </tr>\n",
       "  </thead>\n",
       "  <tbody>\n",
       "    <tr>\n",
       "      <th>1515954</th>\n",
       "      <td>NLT CORPORATION</td>\n",
       "      <td>ORACLE APPLICATIONS ANALYST</td>\n",
       "      <td>Y</td>\n",
       "      <td>82930</td>\n",
       "      <td>2014</td>\n",
       "      <td>SPRINGFIELD, VIRGINIA</td>\n",
       "    </tr>\n",
       "    <tr>\n",
       "      <th>1441891</th>\n",
       "      <td>ORACLE AMERICA, INC.</td>\n",
       "      <td>SOFTWARE DEVELOPER</td>\n",
       "      <td>Y</td>\n",
       "      <td>96164</td>\n",
       "      <td>2014</td>\n",
       "      <td>WASHINGTON, DISTRICT OF COLUMBIA</td>\n",
       "    </tr>\n",
       "    <tr>\n",
       "      <th>2645167</th>\n",
       "      <td>PURDUE UNIVERSITY</td>\n",
       "      <td>POST DOCTORAL RESEARCH ASSOCIATE</td>\n",
       "      <td>Y</td>\n",
       "      <td>38522</td>\n",
       "      <td>2011</td>\n",
       "      <td>WEST LAFAYETTE, INDIANA</td>\n",
       "    </tr>\n",
       "    <tr>\n",
       "      <th>384363</th>\n",
       "      <td>CAPGEMINI AMERICA INC</td>\n",
       "      <td>SOFTWARE ENGINEER 2</td>\n",
       "      <td>Y</td>\n",
       "      <td>74797</td>\n",
       "      <td>2016</td>\n",
       "      <td>CLARKS SUMMIT, PENNSYLVANIA</td>\n",
       "    </tr>\n",
       "    <tr>\n",
       "      <th>2231381</th>\n",
       "      <td>INTEGRATED RESOURCES, INC.</td>\n",
       "      <td>PHYSICAL THERAPIST</td>\n",
       "      <td>Y</td>\n",
       "      <td>58073</td>\n",
       "      <td>2012</td>\n",
       "      <td>SOUTH BELOIT, ILLINOIS</td>\n",
       "    </tr>\n",
       "  </tbody>\n",
       "</table>\n",
       "</div>"
      ],
      "text/plain": [
       "                      EMPLOYER_NAME                         JOB_TITLE  \\\n",
       "1515954             NLT CORPORATION       ORACLE APPLICATIONS ANALYST   \n",
       "1441891        ORACLE AMERICA, INC.                SOFTWARE DEVELOPER   \n",
       "2645167           PURDUE UNIVERSITY  POST DOCTORAL RESEARCH ASSOCIATE   \n",
       "384363        CAPGEMINI AMERICA INC               SOFTWARE ENGINEER 2   \n",
       "2231381  INTEGRATED RESOURCES, INC.                PHYSICAL THERAPIST   \n",
       "\n",
       "        FULL_TIME_POSITION  PREVAILING_WAGE  YEAR  \\\n",
       "1515954                  Y            82930  2014   \n",
       "1441891                  Y            96164  2014   \n",
       "2645167                  Y            38522  2011   \n",
       "384363                   Y            74797  2016   \n",
       "2231381                  Y            58073  2012   \n",
       "\n",
       "                                 WORKSITE  \n",
       "1515954             SPRINGFIELD, VIRGINIA  \n",
       "1441891  WASHINGTON, DISTRICT OF COLUMBIA  \n",
       "2645167           WEST LAFAYETTE, INDIANA  \n",
       "384363        CLARKS SUMMIT, PENNSYLVANIA  \n",
       "2231381            SOUTH BELOIT, ILLINOIS  "
      ]
     },
     "execution_count": 58,
     "metadata": {},
     "output_type": "execute_result"
    }
   ],
   "source": [
    "\n",
    "X['PREVAILING_WAGE'] = X[\"PREVAILING_WAGE\"].apply(transform_to_int)\n",
    "X['YEAR'] = X[\"YEAR\"].apply(transform_to_int)\n",
    "X.head()"
   ]
  },
  {
   "cell_type": "code",
   "execution_count": 59,
   "metadata": {},
   "outputs": [
    {
     "data": {
      "text/plain": [
       "EMPLOYER_NAME         object\n",
       "JOB_TITLE             object\n",
       "FULL_TIME_POSITION    object\n",
       "PREVAILING_WAGE        int64\n",
       "YEAR                   int64\n",
       "WORKSITE              object\n",
       "dtype: object"
      ]
     },
     "execution_count": 59,
     "metadata": {},
     "output_type": "execute_result"
    }
   ],
   "source": [
    "X.dtypes"
   ]
  },
  {
   "cell_type": "code",
   "execution_count": 60,
   "metadata": {
    "collapsed": true
   },
   "outputs": [],
   "source": [
    "import patsy "
   ]
  },
  {
   "cell_type": "code",
   "execution_count": 116,
   "metadata": {
    "collapsed": true
   },
   "outputs": [],
   "source": [
    "X_enc = patsy.dmatrix(s, X, return_type='dataframe')"
   ]
  },
  {
   "cell_type": "code",
   "execution_count": 62,
   "metadata": {},
   "outputs": [
    {
     "data": {
      "text/plain": [
       "20000"
      ]
     },
     "execution_count": 62,
     "metadata": {},
     "output_type": "execute_result"
    }
   ],
   "source": [
    "len(X_enc)"
   ]
  },
  {
   "cell_type": "markdown",
   "metadata": {},
   "source": [
    "#### Now need to split the data that has been encoded"
   ]
  },
  {
   "cell_type": "code",
   "execution_count": 63,
   "metadata": {},
   "outputs": [
    {
     "data": {
      "text/plain": [
       "StratifiedShuffleSplit(n_splits=10, random_state=0, test_size=0.2,\n",
       "            train_size=None)"
      ]
     },
     "execution_count": 63,
     "metadata": {},
     "output_type": "execute_result"
    }
   ],
   "source": [
    "sss = StratifiedShuffleSplit(n_splits=10, test_size=0.2, random_state=0)\n",
    "sss"
   ]
  },
  {
   "cell_type": "code",
   "execution_count": 66,
   "metadata": {
    "collapsed": true
   },
   "outputs": [],
   "source": [
    "X_enc_vals = X_enc.values\n",
    "y_vals = y.values"
   ]
  },
  {
   "cell_type": "code",
   "execution_count": 67,
   "metadata": {
    "collapsed": true
   },
   "outputs": [],
   "source": [
    "for train_index, test_index in sss.split(X_enc_vals, y_vals):\n",
    "    X_train, X_test = X_enc_vals[train_index], X_enc_vals[test_index]\n",
    "    y_train, y_test = y_vals[train_index], y_vals[test_index]"
   ]
  },
  {
   "cell_type": "code",
   "execution_count": 75,
   "metadata": {},
   "outputs": [
    {
     "data": {
      "text/plain": [
       "16000"
      ]
     },
     "execution_count": 75,
     "metadata": {},
     "output_type": "execute_result"
    }
   ],
   "source": [
    "len(X_train)"
   ]
  },
  {
   "cell_type": "code",
   "execution_count": 71,
   "metadata": {},
   "outputs": [
    {
     "data": {
      "text/plain": [
       "16000"
      ]
     },
     "execution_count": 71,
     "metadata": {},
     "output_type": "execute_result"
    }
   ],
   "source": [
    "len(y_train)"
   ]
  },
  {
   "cell_type": "code",
   "execution_count": 72,
   "metadata": {},
   "outputs": [
    {
     "data": {
      "text/plain": [
       "4000"
      ]
     },
     "execution_count": 72,
     "metadata": {},
     "output_type": "execute_result"
    }
   ],
   "source": [
    "len(X_test)"
   ]
  },
  {
   "cell_type": "code",
   "execution_count": 73,
   "metadata": {},
   "outputs": [
    {
     "data": {
      "text/plain": [
       "4000"
      ]
     },
     "execution_count": 73,
     "metadata": {},
     "output_type": "execute_result"
    }
   ],
   "source": [
    "len(y_test)"
   ]
  },
  {
   "cell_type": "markdown",
   "metadata": {},
   "source": [
    "## Train K-nearest Neighbours Classifier"
   ]
  },
  {
   "cell_type": "code",
   "execution_count": 76,
   "metadata": {
    "collapsed": true
   },
   "outputs": [],
   "source": [
    "neigh = KNeighborsClassifier(n_neighbors=3)\n",
    "k_nearest_cls = neigh.fit(X_train, y_train)"
   ]
  },
  {
   "cell_type": "code",
   "execution_count": 77,
   "metadata": {
    "collapsed": true
   },
   "outputs": [],
   "source": [
    "predicted = neigh.predict(X_test)"
   ]
  },
  {
   "cell_type": "markdown",
   "metadata": {},
   "source": [
    "## Evaluation of Classifier"
   ]
  },
  {
   "cell_type": "code",
   "execution_count": 78,
   "metadata": {
    "collapsed": true
   },
   "outputs": [],
   "source": [
    "from sklearn.metrics import classification_report, accuracy_score, precision_score, recall_score\n",
    "from sklearn.metrics import f1_score, confusion_matrix, precision_recall_curve, roc_curve"
   ]
  },
  {
   "cell_type": "markdown",
   "metadata": {},
   "source": [
    "#### Classification Report"
   ]
  },
  {
   "cell_type": "code",
   "execution_count": 119,
   "metadata": {},
   "outputs": [
    {
     "name": "stdout",
     "output_type": "stream",
     "text": [
      "                     precision    recall  f1-score   support\n",
      "\n",
      "          CERTIFIED       0.87      0.97      0.92      3483\n",
      "CERTIFIED-WITHDRAWN       0.08      0.02      0.03       278\n",
      "             DENIED       0.17      0.03      0.05       123\n",
      "          WITHDRAWN       0.00      0.00      0.00       116\n",
      "\n",
      "        avg / total       0.77      0.85      0.81      4000\n",
      "\n"
     ]
    }
   ],
   "source": [
    "y_true = y_test[:]\n",
    "y_pred = predicted[:]\n",
    "print(classification_report(y_true, y_pred))"
   ]
  },
  {
   "cell_type": "markdown",
   "metadata": {},
   "source": [
    "#### Accuracy Score\n",
    "___"
   ]
  },
  {
   "cell_type": "code",
   "execution_count": 81,
   "metadata": {},
   "outputs": [
    {
     "name": "stdout",
     "output_type": "stream",
     "text": [
      "Normalized Accuracy Score : 0.851 \n",
      "Correctly Classified 3404 out of 4000 instance\n"
     ]
    }
   ],
   "source": [
    "print(\"Normalized Accuracy Score : {:.3f} \".format(accuracy_score(y_true, y_pred)))\n",
    "print(\"Correctly Classified {:d} out of {} instance\".format(accuracy_score(y_true, \n",
    "                                                                           y_pred, \n",
    "                                                                           normalize=False), \n",
    "                                                                           len(y_test)))"
   ]
  },
  {
   "cell_type": "markdown",
   "metadata": {},
   "source": [
    "#### Precision Score\n",
    "___\n",
    "The precision is the ratio tp / (tp + fp) where tp is the number of true positives and fp the number of false positives. The precision is intuitively the ability of the classifier not to label as positive a sample that is negative.\n",
    "The best value is 1 and the worst value is 0."
   ]
  },
  {
   "cell_type": "markdown",
   "metadata": {},
   "source": [
    "+ The precision Value returned is the weighted average of the precision of each class for the multiclass task."
   ]
  },
  {
   "cell_type": "code",
   "execution_count": 94,
   "metadata": {},
   "outputs": [
    {
     "name": "stdout",
     "output_type": "stream",
     "text": [
      "Precision Value averaged by 'weighted' is 0.77\n",
      "Precision Value averaged by 'micro' is 0.85\n"
     ]
    }
   ],
   "source": [
    "# micro - Calculate metrics globally by counting the total true positives, false negatives and false positives.\n",
    "# weighted - Calculate metrics for each label, and find their average, weighted by support \n",
    "#            (the number of true instances for each label). This alters ‘macro’ to account for label \n",
    "#            imbalance; it can result in an F-score that is not between precision and recall\n",
    "classifier_p_score_w = precision_score(y_true, y_pred, average='weighted')\n",
    "print(\"Precision Value averaged by 'weighted' is {:.2f}\".format(classifier_p_score_w))\n",
    "\n",
    "classifier_p_score_mi = precision_score(y_true, y_pred, average='micro')\n",
    "print(\"Precision Value averaged by 'micro' is {:.2f}\".format(classifier_p_score_mi))"
   ]
  },
  {
   "cell_type": "code",
   "execution_count": 93,
   "metadata": {},
   "outputs": [
    {
     "name": "stdout",
     "output_type": "stream",
     "text": [
      "Precision Value averaged by 'macro' is 0.28\n"
     ]
    }
   ],
   "source": [
    "# macro - Calculate metrics for each label, and find their unweighted mean. \n",
    "#         This does not take label imbalance into account.\n",
    "classifier_p_score_ma = precision_score(y_true, y_pred, average='macro')\n",
    "print(\"Precision Value averaged by 'macro' is {:.2f}\".format(classifier_p_score_ma))"
   ]
  },
  {
   "cell_type": "markdown",
   "metadata": {},
   "source": [
    "+ This is significantly less than the other two measure because the metrics are calculated for each label and this classifier. Perfoms poorly on classifying denied and withdrawn instances but perfoms well on classifying certified outcomes"
   ]
  },
  {
   "cell_type": "markdown",
   "metadata": {},
   "source": [
    "#### Recall Score"
   ]
  },
  {
   "cell_type": "markdown",
   "metadata": {},
   "source": [
    "The recall is the ratio tp / (tp + fn) where tp is the number of true positives and fn the number of false negatives. The recall is intuitively the ability of the classifier to find all the positive samples.\n",
    "The best value is 1 and the worst value is 0."
   ]
  },
  {
   "cell_type": "code",
   "execution_count": 96,
   "metadata": {},
   "outputs": [
    {
     "name": "stdout",
     "output_type": "stream",
     "text": [
      "Recall Value averaged by 'weighted' is 0.85\n",
      "Recall Value averaged by 'macro' is 0.26\n",
      "Recall Value averaged by 'micro' is 0.85\n"
     ]
    }
   ],
   "source": [
    "classifier_r_score_w = recall_score(y_true, y_pred, average='weighted')\n",
    "classifier_r_score_ma = recall_score(y_true, y_pred, average='macro')\n",
    "classifier_r_score_mi = recall_score(y_true, y_pred, average='micro')\n",
    "print(\"Recall Value averaged by 'weighted' is {:.2f}\".format(classifier_r_score_w))\n",
    "print(\"Recall Value averaged by 'macro' is {:.2f}\".format(classifier_r_score_ma))\n",
    "print(\"Recall Value averaged by 'micro' is {:.2f}\".format(classifier_r_score_mi))"
   ]
  },
  {
   "cell_type": "markdown",
   "metadata": {},
   "source": [
    "#### Confusion Matrix"
   ]
  },
  {
   "cell_type": "code",
   "execution_count": 97,
   "metadata": {},
   "outputs": [
    {
     "data": {
      "text/plain": [
       "array([[3394,   65,   18,    6],\n",
       "       [ 269,    6,    1,    2],\n",
       "       [ 118,    1,    4,    0],\n",
       "       [ 111,    4,    1,    0]])"
      ]
     },
     "execution_count": 97,
     "metadata": {},
     "output_type": "execute_result"
    }
   ],
   "source": [
    "confusion_matrix(y_true, y_pred)"
   ]
  },
  {
   "cell_type": "code",
   "execution_count": 102,
   "metadata": {
    "collapsed": true
   },
   "outputs": [],
   "source": [
    "import itertools\n",
    "def plot_confusion_matrix(cm, classes,\n",
    "                          normalize=False,\n",
    "                          title='Confusion matrix',\n",
    "                          cmap=plt.cm.Blues):\n",
    "    \"\"\"\n",
    "    This function prints and plots the confusion matrix.\n",
    "    Normalization can be applied by setting `normalize=True`.\n",
    "    \"\"\"\n",
    "    if normalize:\n",
    "        cm = cm.astype('float') / cm.sum(axis=1)[:, np.newaxis]\n",
    "        print(\"Normalized confusion matrix\")\n",
    "    else:\n",
    "        print('Confusion matrix, without normalization')\n",
    "\n",
    "    print(cm)\n",
    "\n",
    "    plt.imshow(cm, interpolation='nearest', cmap=cmap)\n",
    "    plt.title(title)\n",
    "    plt.colorbar()\n",
    "    tick_marks = np.arange(len(classes))\n",
    "    plt.xticks(tick_marks, classes, rotation=45)\n",
    "    plt.yticks(tick_marks, classes)\n",
    "\n",
    "    fmt = '.2f' if normalize else 'd'\n",
    "    thresh = cm.max() / 2.\n",
    "    for i, j in itertools.product(range(cm.shape[0]), range(cm.shape[1])):\n",
    "        plt.text(j, i, format(cm[i, j], fmt),\n",
    "                 horizontalalignment=\"center\",\n",
    "                 color=\"white\" if cm[i, j] > thresh else \"black\")\n",
    "\n",
    "    plt.tight_layout()\n",
    "    plt.ylabel('True label')\n",
    "    plt.xlabel('Predicted label')\n"
   ]
  },
  {
   "cell_type": "code",
   "execution_count": 114,
   "metadata": {
    "collapsed": true
   },
   "outputs": [],
   "source": [
    "# Compute confusion matrix\n",
    "cnf_matrix = confusion_matrix(y_test, y_pred)\n",
    "np.set_printoptions(precision=2)\n",
    "class_names = ['CERTIFIED', 'CERTIFIED-WITHDRAWN', 'DENIED', \"WITHDRAWN\"]"
   ]
  },
  {
   "cell_type": "code",
   "execution_count": 115,
   "metadata": {},
   "outputs": [
    {
     "name": "stdout",
     "output_type": "stream",
     "text": [
      "Confusion matrix, without normalization\n",
      "[[3394   65   18    6]\n",
      " [ 269    6    1    2]\n",
      " [ 118    1    4    0]\n",
      " [ 111    4    1    0]]\n"
     ]
    },
    {
     "data": {
      "image/png": "[encoded data removed]",
      "text/plain": [
       "<matplotlib.figure.Figure at 0x11ae1a1d0>"
      ]
     },
     "metadata": {},
     "output_type": "display_data"
    }
   ],
   "source": [
    "# Plot non-normalized confusion matrix\n",
    "plt.figure()\n",
    "plot_confusion_matrix(cnf_matrix, classes=class_names,\n",
    "                      title='Confusion matrix, without normalization')\n"
   ]
  },
  {
   "cell_type": "markdown",
   "metadata": {},
   "source": [
    "The diagonal elements represent the number of points for which the predicted label is equal to the true label, while off-diagonal elements are those that are mislabeled by the classifier. The higher the diagonal values of the confusion matrix the better, indicating many correct predictions\n",
    "\n",
    "We see that apart from CERTIFIED all other labels were poorly predicted with the WITHDRAWN lable totally miss classifed\n",
    "\n",
    "The Vertical column values for CERTIFIED-WITHDRAWN, DENIED, WITHDRAWN reflect (FP) - actually negative outcomes wrongly predicted as positive. Whereby CERTIFIED is a positive outcome\n",
    "\n",
    "The horizontal row for CERTIFIED reflects (FN) - Positive outcomes, wrongly predicted as negative, where anything but CERTIFIED is a negative outcome"
   ]
  },
  {
   "cell_type": "code",
   "execution_count": 107,
   "metadata": {},
   "outputs": [
    {
     "name": "stdout",
     "output_type": "stream",
     "text": [
      "Normalized confusion matrix\n",
      "[[ 0.97  0.02  0.01  0.  ]\n",
      " [ 0.97  0.02  0.    0.01]\n",
      " [ 0.96  0.01  0.03  0.  ]\n",
      " [ 0.96  0.03  0.01  0.  ]]\n"
     ]
    },
    {
     "data": {
      "image/png": "[encoded data removed]",
      "text/plain": [
       "<matplotlib.figure.Figure at 0x11a1ce240>"
      ]
     },
     "metadata": {},
     "output_type": "display_data"
    }
   ],
   "source": [
    "# Plot normalized confusion matrix\n",
    "plt.figure()\n",
    "plot_confusion_matrix(cnf_matrix, classes=class_names, normalize=True,\n",
    "                      title='Normalized confusion matrix')\n",
    "\n",
    "plt.show()"
   ]
  },
  {
   "cell_type": "markdown",
   "metadata": {},
   "source": [
    "### ROC Curve"
   ]
  },
  {
   "cell_type": "code",
   "execution_count": 121,
   "metadata": {
    "collapsed": true
   },
   "outputs": [],
   "source": [
    "y_score = k_nearest_cls.predict_proba(X_test)"
   ]
  },
  {
   "cell_type": "code",
   "execution_count": 123,
   "metadata": {
    "collapsed": true
   },
   "outputs": [],
   "source": [
    "fpr, tpr, thresholds = roc_curve(y_true, y_score[:,1], pos_label='CERTIFIED')\n"
   ]
  },
  {
   "cell_type": "code",
   "execution_count": 125,
   "metadata": {},
   "outputs": [
    {
     "data": {
      "image/png": "[encoded data removed]",
      "text/plain": [
       "<matplotlib.figure.Figure at 0x11ae1a198>"
      ]
     },
     "metadata": {},
     "output_type": "display_data"
    }
   ],
   "source": [
    "plt.plot(fpr, tpr, 'b-')\n",
    "plt.title(\"ROC Curve for K Nearest Neighbours Classifier\")\n",
    "plt.ylabel(\"True Positive\")\n",
    "plt.xlabel(\"False Positive\")\n",
    "plt.show()"
   ]
  },
  {
   "cell_type": "markdown",
   "metadata": {},
   "source": [
    "### Precision Recall Curve"
   ]
  },
  {
   "cell_type": "code",
   "execution_count": 127,
   "metadata": {
    "collapsed": true
   },
   "outputs": [],
   "source": [
    "precision, recall, threshold = precision_recall_curve(y_true, y_score[:,1], pos_label='CERTIFIED')"
   ]
  },
  {
   "cell_type": "code",
   "execution_count": 129,
   "metadata": {},
   "outputs": [
    {
     "data": {
      "image/png": "[encoded data removed]",
      "text/plain": [
       "<matplotlib.figure.Figure at 0x11a1ca0f0>"
      ]
     },
     "metadata": {},
     "output_type": "display_data"
    }
   ],
   "source": [
    "plt.plot(precision, recall, 'b-')\n",
    "plt.title(\"Precision Recall Curve For K-Nearest Neighbors\")\n",
    "plt.ylabel(\"Precision\")\n",
    "plt.xlabel(\"Recall\")\n",
    "plt.show()"
   ]
  },
  {
   "cell_type": "markdown",
   "metadata": {},
   "source": [
    "### K nearest Neighbour classification with more neighbours"
   ]
  },
  {
   "cell_type": "code",
   "execution_count": 134,
   "metadata": {
    "collapsed": true
   },
   "outputs": [],
   "source": [
    "neigh2 = KNeighborsClassifier(n_neighbors=7)\n",
    "k_nearest_cls2 = neigh2.fit(X_train, y_train)\n",
    "predicted2 = neigh2.predict(X_test)"
   ]
  },
  {
   "cell_type": "code",
   "execution_count": 135,
   "metadata": {},
   "outputs": [
    {
     "name": "stdout",
     "output_type": "stream",
     "text": [
      "                     precision    recall  f1-score   support\n",
      "\n",
      "          CERTIFIED       0.87      1.00      0.93      3483\n",
      "CERTIFIED-WITHDRAWN       0.00      0.00      0.00       278\n",
      "             DENIED       0.50      0.02      0.03       123\n",
      "          WITHDRAWN       0.00      0.00      0.00       116\n",
      "\n",
      "        avg / total       0.77      0.87      0.81      4000\n",
      "\n"
     ]
    }
   ],
   "source": [
    "y_true = y_test[:]\n",
    "y_pred = predicted2[:]\n",
    "print(classification_report(y_true, y_pred))"
   ]
  },
  {
   "cell_type": "markdown",
   "metadata": {},
   "source": [
    "+ Increasing the number of neighbours used by the classifier gives us relatively the same Evaluation  \n",
    "** Possible ways to improve the performance of this classifier **\n",
    "---\n",
    "I think the performance is poor when it comes to classifing instances as anything but CERTIFIED. A significant number of instances used in training have a the label CERTIFIED so the model might be overfit towards this outcome\n",
    "___\n",
    "Another reason that K Nearest Neighbour's might not perform well in this case could be the presence of outliers. Specifically in the prevailing wage feature. I handled this in data cleaning but there is no way of removing most of them without eliminating a significant number of instances"
   ]
  },
  {
   "cell_type": "code",
   "execution_count": 146,
   "metadata": {},
   "outputs": [
    {
     "name": "stdout",
     "output_type": "stream",
     "text": [
      "CERTIFIED              13931\n",
      "CERTIFIED-WITHDRAWN     1111\n",
      "DENIED                   491\n",
      "WITHDRAWN                467\n",
      "dtype: int64\n"
     ]
    },
    {
     "data": {
      "text/plain": [
       "<matplotlib.axes._subplots.AxesSubplot at 0x11c242e80>"
      ]
     },
     "execution_count": 146,
     "metadata": {},
     "output_type": "execute_result"
    },
    {
     "data": {
      "image/png": "[encoded data removed]",
      "text/plain": [
       "<matplotlib.figure.Figure at 0x11a50ae10>"
      ]
     },
     "metadata": {},
     "output_type": "display_data"
    }
   ],
   "source": [
    "# Distribution of labels in the training set\n",
    "y_train_series = pd.Series(y_train)\n",
    "print(y_train_series.value_counts())\n",
    "y_train_series.value_counts().plot.barh()"
   ]
  },
  {
   "cell_type": "code",
   "execution_count": null,
   "metadata": {
    "collapsed": true
   },
   "outputs": [],
   "source": []
  },
  {
   "cell_type": "code",
   "execution_count": null,
   "metadata": {
    "collapsed": true
   },
   "outputs": [],
   "source": []
  }
 ],
 "metadata": {
  "kernelspec": {
   "display_name": "Python 3",
   "language": "python",
   "name": "python3"
  },
  "language_info": {
   "codemirror_mode": {
    "name": "ipython",
    "version": 3
   },
   "file_extension": ".py",
   "mimetype": "text/x-python",
   "name": "python",
   "nbconvert_exporter": "python",
   "pygments_lexer": "ipython3",
   "version": "3.6.1"
  }
 },
 "nbformat": 4,
 "nbformat_minor": 2
}
