{
 "cells": [
  {
   "cell_type": "code",
   "execution_count": 1,
   "metadata": {},
   "outputs": [
    {
     "name": "stdout",
     "output_type": "stream",
     "text": [
      "Populating the interactive namespace from numpy and matplotlib\n"
     ]
    }
   ],
   "source": [
    "# Dependencies\n",
    "%pylab inline\n",
    "import pandas as pd\n",
    "import numpy as np\n",
    "import csv\n",
    "import matplotlib.pyplot as plt\n",
    "matplotlib.style.use('ggplot')\n",
    "import matplotlib.ticker as mtick\n",
    "from scipy import stats\n",
    "from sklearn.model_selection import StratifiedShuffleSplit\n",
    "from sklearn.neighbors import KNeighborsClassifier\n",
    "from sklearn.preprocessing import LabelEncoder\n",
    "\n",
    "warnings.filterwarnings('ignore')"
   ]
  },
  {
   "cell_type": "markdown",
   "metadata": {},
   "source": [
    "## Read In Data"
   ]
  },
  {
   "cell_type": "code",
   "execution_count": 2,
   "metadata": {},
   "outputs": [],
   "source": [
    "filePath = \"./Data/h1b_kaggle.csv\"\n",
    "df = pd.read_csv(filePath, header=0)"
   ]
  },
  {
   "cell_type": "markdown",
   "metadata": {},
   "source": [
    "#### Drop unnecessary features"
   ]
  },
  {
   "cell_type": "markdown",
   "metadata": {},
   "source": [
    "## Data Cleaning\n",
    "+ Remove outliers \n",
    "+ Remove missing data"
   ]
  },
  {
   "cell_type": "code",
   "execution_count": 3,
   "metadata": {},
   "outputs": [],
   "source": [
    "# Drop unnecessary features\n",
    "try:\n",
    "    df.drop(['Unnamed: 0', 'lon', 'lat', 'SOC_NAME'], axis=1, inplace=True)\n",
    "except ValueError:\n",
    "    print(\"Already deleted unnecessary features\")\n",
    "original_number_of_instances = len(df)"
   ]
  },
  {
   "cell_type": "markdown",
   "metadata": {},
   "source": [
    "#### Drop instances with missing feature values"
   ]
  },
  {
   "cell_type": "code",
   "execution_count": 4,
   "metadata": {
    "collapsed": true
   },
   "outputs": [],
   "source": [
    "df.dropna(inplace=True)"
   ]
  },
  {
   "cell_type": "code",
   "execution_count": 5,
   "metadata": {},
   "outputs": [
    {
     "name": "stdout",
     "output_type": "stream",
     "text": [
      "Before deletion: 3002458 After Deletion : 3002311 \n"
     ]
    }
   ],
   "source": [
    "instances_after_missing_dropped = len(df)\n",
    "print(\"Before deletion: {} After Deletion : {} \"\n",
    "      .format(original_number_of_instances, instances_after_missing_dropped))"
   ]
  },
  {
   "cell_type": "markdown",
   "metadata": {},
   "source": [
    "#### Remove Outliers in the ___PREVAILING_WAGE___ feature\n",
    "#### Change ___PREVAILING_WAGE___ values to _int_\n",
    "#### Change ___YEAR___ values to _int_"
   ]
  },
  {
   "cell_type": "code",
   "execution_count": 6,
   "metadata": {
    "collapsed": true
   },
   "outputs": [],
   "source": [
    "# Remove outliers in wage\n",
    "df2 = df[~(np.abs(df[\"PREVAILING_WAGE\"] - df[\"PREVAILING_WAGE\"].mean()) > (2 * df[\"PREVAILING_WAGE\"].std()))]\n",
    "def transform_to_int(x):\n",
    "    return int(x)\n",
    "\n",
    "df2['PREVAILING_WAGE'] = df2[\"PREVAILING_WAGE\"].apply(transform_to_int)\n",
    "df2['YEAR'] = df2[\"YEAR\"].apply(transform_to_int)\n"
   ]
  },
  {
   "cell_type": "markdown",
   "metadata": {},
   "source": [
    "#### Limit the outcomes in the target to :\n",
    "+ CERTIFIED | CERTIFIED-WITHDRAWN | DENIED | WITHDRAWN"
   ]
  },
  {
   "cell_type": "code",
   "execution_count": 7,
   "metadata": {
    "collapsed": true
   },
   "outputs": [],
   "source": [
    "certified = df[\"CASE_STATUS\"] == \"CERTIFIED\"\n",
    "certified_withdrawn = df[\"CASE_STATUS\"] == \"CERTIFIED-WITHDRAWN\"\n",
    "denied = df[\"CASE_STATUS\"] == \"DENIED\"\n",
    "withdrawn = df[\"CASE_STATUS\"] == \"WITHDRAWN\"\n",
    "\n",
    "df2 = df2[certified | certified_withdrawn | denied | withdrawn]"
   ]
  },
  {
   "cell_type": "markdown",
   "metadata": {},
   "source": [
    "#### Select 10,000 instances to sample. Using Sampling without replacement method of sampling"
   ]
  },
  {
   "cell_type": "code",
   "execution_count": 8,
   "metadata": {
    "collapsed": true
   },
   "outputs": [],
   "source": [
    "# df.take() uses positions to select instances\n",
    "df3 = df2.take(np.random.permutation(len(df2)))[:5000]"
   ]
  },
  {
   "cell_type": "code",
   "execution_count": 9,
   "metadata": {},
   "outputs": [
    {
     "data": {
      "text/plain": [
       "5000"
      ]
     },
     "execution_count": 9,
     "metadata": {},
     "output_type": "execute_result"
    }
   ],
   "source": [
    "len(df3)"
   ]
  },
  {
   "cell_type": "markdown",
   "metadata": {},
   "source": [
    "## Data Understanding and Description"
   ]
  },
  {
   "cell_type": "markdown",
   "metadata": {},
   "source": [
    "## Data Preprocessing"
   ]
  },
  {
   "cell_type": "code",
   "execution_count": 10,
   "metadata": {},
   "outputs": [
    {
     "data": {
      "text/html": [
       "<div>\n",
       "<style>\n",
       "    .dataframe thead tr:only-child th {\n",
       "        text-align: right;\n",
       "    }\n",
       "\n",
       "    .dataframe thead th {\n",
       "        text-align: left;\n",
       "    }\n",
       "\n",
       "    .dataframe tbody tr th {\n",
       "        vertical-align: top;\n",
       "    }\n",
       "</style>\n",
       "<table border=\"1\" class=\"dataframe\">\n",
       "  <thead>\n",
       "    <tr style=\"text-align: right;\">\n",
       "      <th></th>\n",
       "      <th>CASE_STATUS</th>\n",
       "      <th>EMPLOYER_NAME</th>\n",
       "      <th>JOB_TITLE</th>\n",
       "      <th>FULL_TIME_POSITION</th>\n",
       "      <th>PREVAILING_WAGE</th>\n",
       "      <th>YEAR</th>\n",
       "      <th>WORKSITE</th>\n",
       "    </tr>\n",
       "  </thead>\n",
       "  <tbody>\n",
       "    <tr>\n",
       "      <th>63137</th>\n",
       "      <td>CERTIFIED</td>\n",
       "      <td>PATHSTONE HOLDINGS LLC</td>\n",
       "      <td>ASSOCIATE</td>\n",
       "      <td>N</td>\n",
       "      <td>47902</td>\n",
       "      <td>2016</td>\n",
       "      <td>ATLANTA, GEORGIA</td>\n",
       "    </tr>\n",
       "    <tr>\n",
       "      <th>1168942</th>\n",
       "      <td>CERTIFIED</td>\n",
       "      <td>INFOSYS LIMITED</td>\n",
       "      <td>TECHNICAL TEST LEAD - US</td>\n",
       "      <td>Y</td>\n",
       "      <td>81515</td>\n",
       "      <td>2015</td>\n",
       "      <td>IRVING, TEXAS</td>\n",
       "    </tr>\n",
       "    <tr>\n",
       "      <th>2618912</th>\n",
       "      <td>CERTIFIED</td>\n",
       "      <td>INFOSYS LIMITED</td>\n",
       "      <td>TECHNOLOGY LEAD - US</td>\n",
       "      <td>Y</td>\n",
       "      <td>81681</td>\n",
       "      <td>2012</td>\n",
       "      <td>SAN FRANCISCO, CALIFORNIA</td>\n",
       "    </tr>\n",
       "    <tr>\n",
       "      <th>2812563</th>\n",
       "      <td>CERTIFIED</td>\n",
       "      <td>INTONE NETWORKS INC</td>\n",
       "      <td>BUSINESS ANALYST</td>\n",
       "      <td>Y</td>\n",
       "      <td>47840</td>\n",
       "      <td>2011</td>\n",
       "      <td>DES MOINES, IOWA</td>\n",
       "    </tr>\n",
       "    <tr>\n",
       "      <th>2669045</th>\n",
       "      <td>CERTIFIED</td>\n",
       "      <td>HEALTH HERO NETWORK, INC.</td>\n",
       "      <td>SENIOR SOFTWARE ENGINEER</td>\n",
       "      <td>Y</td>\n",
       "      <td>96126</td>\n",
       "      <td>2011</td>\n",
       "      <td>PALO ALTO, CALIFORNIA</td>\n",
       "    </tr>\n",
       "  </tbody>\n",
       "</table>\n",
       "</div>"
      ],
      "text/plain": [
       "        CASE_STATUS              EMPLOYER_NAME                 JOB_TITLE  \\\n",
       "63137     CERTIFIED     PATHSTONE HOLDINGS LLC                 ASSOCIATE   \n",
       "1168942   CERTIFIED            INFOSYS LIMITED  TECHNICAL TEST LEAD - US   \n",
       "2618912   CERTIFIED            INFOSYS LIMITED      TECHNOLOGY LEAD - US   \n",
       "2812563   CERTIFIED        INTONE NETWORKS INC          BUSINESS ANALYST   \n",
       "2669045   CERTIFIED  HEALTH HERO NETWORK, INC.  SENIOR SOFTWARE ENGINEER   \n",
       "\n",
       "        FULL_TIME_POSITION  PREVAILING_WAGE  YEAR                   WORKSITE  \n",
       "63137                    N            47902  2016           ATLANTA, GEORGIA  \n",
       "1168942                  Y            81515  2015              IRVING, TEXAS  \n",
       "2618912                  Y            81681  2012  SAN FRANCISCO, CALIFORNIA  \n",
       "2812563                  Y            47840  2011           DES MOINES, IOWA  \n",
       "2669045                  Y            96126  2011      PALO ALTO, CALIFORNIA  "
      ]
     },
     "execution_count": 10,
     "metadata": {},
     "output_type": "execute_result"
    }
   ],
   "source": [
    "df3[:5]"
   ]
  },
  {
   "cell_type": "code",
   "execution_count": 11,
   "metadata": {},
   "outputs": [
    {
     "data": {
      "text/plain": [
       "<matplotlib.axes._subplots.AxesSubplot at 0x12ee01908>"
      ]
     },
     "execution_count": 11,
     "metadata": {},
     "output_type": "execute_result"
    },
    {
     "data": {
      "image/png": "[encoded data removed]",
      "text/plain": [
       "<matplotlib.figure.Figure at 0x10bced5f8>"
      ]
     },
     "metadata": {},
     "output_type": "display_data"
    }
   ],
   "source": [
    "df3[\"CASE_STATUS\"].value_counts().plot.pie()"
   ]
  },
  {
   "cell_type": "markdown",
   "metadata": {
    "collapsed": true
   },
   "source": [
    "### Encode the independent features"
   ]
  },
  {
   "cell_type": "code",
   "execution_count": 12,
   "metadata": {},
   "outputs": [
    {
     "name": "stdout",
     "output_type": "stream",
     "text": [
      "EMPLOYER_NAME + JOB_TITLE + FULL_TIME_POSITION + PREVAILING_WAGE + YEAR + WORKSITE\n"
     ]
    }
   ],
   "source": [
    "cols_list = list(df3.columns)\n",
    "s = \" + \".join([item for item in cols_list if item != \"CASE_STATUS\"])\n",
    "print(s)"
   ]
  },
  {
   "cell_type": "markdown",
   "metadata": {},
   "source": [
    "### Encode the Data"
   ]
  },
  {
   "cell_type": "code",
   "execution_count": 13,
   "metadata": {
    "collapsed": true
   },
   "outputs": [],
   "source": [
    "import patsy"
   ]
  },
  {
   "cell_type": "code",
   "execution_count": 16,
   "metadata": {},
   "outputs": [],
   "source": [
    "X = df[[\"EMPLOYER_NAME\", \"JOB_TITLE\", \"FULL_TIME_POSITION\", \"PREVAILING_WAGE\", \"YEAR\", \"WORKSITE\"]]"
   ]
  },
  {
   "cell_type": "code",
   "execution_count": null,
   "metadata": {},
   "outputs": [],
   "source": [
    "X_enc = patsy.dmatrix(s, X, return_type='dataframe')"
   ]
  },
  {
   "cell_type": "markdown",
   "metadata": {},
   "source": [
    "#### Split the Data you just encoded"
   ]
  },
  {
   "cell_type": "markdown",
   "metadata": {},
   "source": [
    "## Classification Model"
   ]
  },
  {
   "cell_type": "code",
   "execution_count": null,
   "metadata": {
    "collapsed": true
   },
   "outputs": [],
   "source": [
    "## Sample 10 000 instances. "
   ]
  },
  {
   "cell_type": "code",
   "execution_count": null,
   "metadata": {
    "collapsed": true
   },
   "outputs": [],
   "source": []
  },
  {
   "cell_type": "markdown",
   "metadata": {},
   "source": [
    "## Evaluation of Classification model"
   ]
  },
  {
   "cell_type": "code",
   "execution_count": null,
   "metadata": {
    "collapsed": true
   },
   "outputs": [],
   "source": []
  }
 ],
 "metadata": {
  "kernelspec": {
   "display_name": "Python 3",
   "language": "python",
   "name": "python3"
  },
  "language_info": {
   "codemirror_mode": {
    "name": "ipython",
    "version": 3
   },
   "file_extension": ".py",
   "mimetype": "text/x-python",
   "name": "python",
   "nbconvert_exporter": "python",
   "pygments_lexer": "ipython3",
   "version": "3.6.1"
  }
 },
 "nbformat": 4,
 "nbformat_minor": 2
}
