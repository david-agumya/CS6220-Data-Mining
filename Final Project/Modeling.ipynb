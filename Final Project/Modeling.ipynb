{
 "cells": [
  {
   "cell_type": "code",
   "execution_count": 1,
   "metadata": {},
   "outputs": [
    {
     "name": "stdout",
     "output_type": "stream",
     "text": [
      "Populating the interactive namespace from numpy and matplotlib\n"
     ]
    }
   ],
   "source": [
    "# Dependencies\n",
    "%pylab inline\n",
    "import pandas as pd\n",
    "import numpy as np\n",
    "import csv\n",
    "import matplotlib.pyplot as plt\n",
    "matplotlib.style.use('ggplot')\n",
    "import matplotlib.ticker as mtick\n",
    "from scipy import stats\n",
    "from sklearn.model_selection import StratifiedShuffleSplit\n",
    "from sklearn.neighbors import KNeighborsClassifier\n",
    "from sklearn.preprocessing import LabelEncoder\n",
    "\n",
    "warnings.filterwarnings('ignore')"
   ]
  },
  {
   "cell_type": "markdown",
   "metadata": {},
   "source": [
    "## Read In Data"
   ]
  },
  {
   "cell_type": "code",
   "execution_count": 2,
   "metadata": {},
   "outputs": [],
   "source": [
    "filePath = \"./Data/h1b_kaggle.csv\"\n",
    "df = pd.read_csv(filePath, header=0)"
   ]
  },
  {
   "cell_type": "markdown",
   "metadata": {},
   "source": [
    "#### Drop unnecessary features"
   ]
  },
  {
   "cell_type": "markdown",
   "metadata": {},
   "source": [
    "## Data Cleaning\n",
    "+ Remove outliers \n",
    "+ Remove missing data"
   ]
  },
  {
   "cell_type": "code",
   "execution_count": 3,
   "metadata": {},
   "outputs": [],
   "source": [
    "# Drop unnecessary features\n",
    "try:\n",
    "    df.drop(['Unnamed: 0', 'lon', 'lat', 'SOC_NAME'], axis=1, inplace=True)\n",
    "except ValueError:\n",
    "    print(\"Already deleted unnecessary features\")\n",
    "original_number_of_instances = len(df)"
   ]
  },
  {
   "cell_type": "markdown",
   "metadata": {},
   "source": [
    "#### Drop instances with missing feature values"
   ]
  },
  {
   "cell_type": "code",
   "execution_count": 4,
   "metadata": {
    "collapsed": true
   },
   "outputs": [],
   "source": [
    "df.dropna(inplace=True)"
   ]
  },
  {
   "cell_type": "code",
   "execution_count": 5,
   "metadata": {},
   "outputs": [
    {
     "name": "stdout",
     "output_type": "stream",
     "text": [
      "Before deletion: 3002458 After Deletion : 3002311 \n"
     ]
    }
   ],
   "source": [
    "instances_after_missing_dropped = len(df)\n",
    "print(\"Before deletion: {} After Deletion : {} \"\n",
    "      .format(original_number_of_instances, instances_after_missing_dropped))"
   ]
  },
  {
   "cell_type": "markdown",
   "metadata": {},
   "source": [
    "#### Remove Outliers in the ___PREVAILING_WAGE___ feature\n",
    "#### Change ___PREVAILING_WAGE___ values to _int_\n",
    "#### Change ___YEAR___ values to _int_"
   ]
  },
  {
   "cell_type": "code",
   "execution_count": 6,
   "metadata": {
    "collapsed": true
   },
   "outputs": [],
   "source": [
    "# Remove outliers in wage\n",
    "df2 = df[~(np.abs(df[\"PREVAILING_WAGE\"] - df[\"PREVAILING_WAGE\"].mean()) > (2 * df[\"PREVAILING_WAGE\"].std()))]\n",
    "def transform_to_int(x):\n",
    "    return int(x)\n",
    "\n",
    "df2['PREVAILING_WAGE'] = df2[\"PREVAILING_WAGE\"].apply(transform_to_int)\n",
    "df2['YEAR'] = df2[\"YEAR\"].apply(transform_to_int)\n"
   ]
  },
  {
   "cell_type": "markdown",
   "metadata": {},
   "source": [
    "#### Limit the outcomes in the target to :\n",
    "+ CERTIFIED | CERTIFIED-WITHDRAWN | DENIED | WITHDRAWN"
   ]
  },
  {
   "cell_type": "code",
   "execution_count": 7,
   "metadata": {
    "collapsed": true
   },
   "outputs": [],
   "source": [
    "certified = df[\"CASE_STATUS\"] == \"CERTIFIED\"\n",
    "certified_withdrawn = df[\"CASE_STATUS\"] == \"CERTIFIED-WITHDRAWN\"\n",
    "denied = df[\"CASE_STATUS\"] == \"DENIED\"\n",
    "withdrawn = df[\"CASE_STATUS\"] == \"WITHDRAWN\"\n",
    "\n",
    "df2 = df2[certified | certified_withdrawn | denied | withdrawn]"
   ]
  },
  {
   "cell_type": "markdown",
   "metadata": {},
   "source": [
    "#### Select 10,000 instances to sample. Using Sampling without replacement method of sampling"
   ]
  },
  {
   "cell_type": "code",
   "execution_count": 8,
   "metadata": {
    "collapsed": true
   },
   "outputs": [],
   "source": [
    "# df.take() uses positions to select instances\n",
    "df3 = df2.take(np.random.permutation(len(df2)))[:10000]"
   ]
  },
  {
   "cell_type": "code",
   "execution_count": 9,
   "metadata": {},
   "outputs": [
    {
     "data": {
      "text/plain": [
       "10000"
      ]
     },
     "execution_count": 9,
     "metadata": {},
     "output_type": "execute_result"
    }
   ],
   "source": [
    "len(df3)"
   ]
  },
  {
   "cell_type": "markdown",
   "metadata": {},
   "source": [
    "## Data Understanding and Description"
   ]
  },
  {
   "cell_type": "markdown",
   "metadata": {},
   "source": [
    "## Data Preprocessing"
   ]
  },
  {
   "cell_type": "code",
   "execution_count": 10,
   "metadata": {},
   "outputs": [
    {
     "data": {
      "text/html": [
       "<div>\n",
       "<style>\n",
       "    .dataframe thead tr:only-child th {\n",
       "        text-align: right;\n",
       "    }\n",
       "\n",
       "    .dataframe thead th {\n",
       "        text-align: left;\n",
       "    }\n",
       "\n",
       "    .dataframe tbody tr th {\n",
       "        vertical-align: top;\n",
       "    }\n",
       "</style>\n",
       "<table border=\"1\" class=\"dataframe\">\n",
       "  <thead>\n",
       "    <tr style=\"text-align: right;\">\n",
       "      <th></th>\n",
       "      <th>CASE_STATUS</th>\n",
       "      <th>EMPLOYER_NAME</th>\n",
       "      <th>JOB_TITLE</th>\n",
       "      <th>FULL_TIME_POSITION</th>\n",
       "      <th>PREVAILING_WAGE</th>\n",
       "      <th>YEAR</th>\n",
       "      <th>WORKSITE</th>\n",
       "    </tr>\n",
       "  </thead>\n",
       "  <tbody>\n",
       "    <tr>\n",
       "      <th>1375990</th>\n",
       "      <td>CERTIFIED</td>\n",
       "      <td>SPARTA CONSULTING INC.</td>\n",
       "      <td>SENIOR CONSULTANT</td>\n",
       "      <td>Y</td>\n",
       "      <td>71968</td>\n",
       "      <td>2014</td>\n",
       "      <td>NEW HAVEN, CONNECTICUT</td>\n",
       "    </tr>\n",
       "    <tr>\n",
       "      <th>1634825</th>\n",
       "      <td>CERTIFIED</td>\n",
       "      <td>KPMG LLP</td>\n",
       "      <td>SENIOR ASSOCIATE</td>\n",
       "      <td>Y</td>\n",
       "      <td>60965</td>\n",
       "      <td>2014</td>\n",
       "      <td>ATLANTA, GEORGIA</td>\n",
       "    </tr>\n",
       "    <tr>\n",
       "      <th>1293881</th>\n",
       "      <td>CERTIFIED</td>\n",
       "      <td>REVAL.COM, INC.</td>\n",
       "      <td>SR. SOFTWARE ENGINEER</td>\n",
       "      <td>Y</td>\n",
       "      <td>82971</td>\n",
       "      <td>2014</td>\n",
       "      <td>KING OF PRUSSIA, PENNSYLVANIA</td>\n",
       "    </tr>\n",
       "    <tr>\n",
       "      <th>278720</th>\n",
       "      <td>CERTIFIED</td>\n",
       "      <td>GENOME INTERNATIONAL CORPORATION</td>\n",
       "      <td>PROGRAMMER/ANALYST</td>\n",
       "      <td>N</td>\n",
       "      <td>66518</td>\n",
       "      <td>2016</td>\n",
       "      <td>HERNDON, VIRGINIA</td>\n",
       "    </tr>\n",
       "    <tr>\n",
       "      <th>2027009</th>\n",
       "      <td>CERTIFIED</td>\n",
       "      <td>DELTA SYSTEM &amp;AMP; SOFTWARE, INC.</td>\n",
       "      <td>COMPUTER SYSTEMS ANALYST</td>\n",
       "      <td>Y</td>\n",
       "      <td>57075</td>\n",
       "      <td>2013</td>\n",
       "      <td>FRISCO, TEXAS</td>\n",
       "    </tr>\n",
       "  </tbody>\n",
       "</table>\n",
       "</div>"
      ],
      "text/plain": [
       "        CASE_STATUS                      EMPLOYER_NAME  \\\n",
       "1375990   CERTIFIED             SPARTA CONSULTING INC.   \n",
       "1634825   CERTIFIED                           KPMG LLP   \n",
       "1293881   CERTIFIED                    REVAL.COM, INC.   \n",
       "278720    CERTIFIED   GENOME INTERNATIONAL CORPORATION   \n",
       "2027009   CERTIFIED  DELTA SYSTEM &AMP; SOFTWARE, INC.   \n",
       "\n",
       "                        JOB_TITLE FULL_TIME_POSITION  PREVAILING_WAGE  YEAR  \\\n",
       "1375990         SENIOR CONSULTANT                  Y            71968  2014   \n",
       "1634825          SENIOR ASSOCIATE                  Y            60965  2014   \n",
       "1293881     SR. SOFTWARE ENGINEER                  Y            82971  2014   \n",
       "278720         PROGRAMMER/ANALYST                  N            66518  2016   \n",
       "2027009  COMPUTER SYSTEMS ANALYST                  Y            57075  2013   \n",
       "\n",
       "                              WORKSITE  \n",
       "1375990         NEW HAVEN, CONNECTICUT  \n",
       "1634825               ATLANTA, GEORGIA  \n",
       "1293881  KING OF PRUSSIA, PENNSYLVANIA  \n",
       "278720               HERNDON, VIRGINIA  \n",
       "2027009                  FRISCO, TEXAS  "
      ]
     },
     "execution_count": 10,
     "metadata": {},
     "output_type": "execute_result"
    }
   ],
   "source": [
    "df3[:5]"
   ]
  },
  {
   "cell_type": "code",
   "execution_count": 11,
   "metadata": {},
   "outputs": [
    {
     "data": {
      "text/plain": [
       "<matplotlib.axes._subplots.AxesSubplot at 0x1146b47b8>"
      ]
     },
     "execution_count": 11,
     "metadata": {},
     "output_type": "execute_result"
    },
    {
     "data": {
      "image/png": "[encoded data removed]",
      "text/plain": [
       "<matplotlib.figure.Figure at 0x12b431a20>"
      ]
     },
     "metadata": {},
     "output_type": "display_data"
    }
   ],
   "source": [
    "df3[\"CASE_STATUS\"].value_counts().plot.pie()"
   ]
  },
  {
   "cell_type": "markdown",
   "metadata": {
    "collapsed": true
   },
   "source": [
    "### Encode the independent features"
   ]
  },
  {
   "cell_type": "code",
   "execution_count": 12,
   "metadata": {},
   "outputs": [
    {
     "name": "stdout",
     "output_type": "stream",
     "text": [
      "EMPLOYER_NAME + JOB_TITLE + FULL_TIME_POSITION + PREVAILING_WAGE + YEAR + WORKSITE\n"
     ]
    }
   ],
   "source": [
    "cols_list = list(df3.columns)\n",
    "s = \" + \".join([item for item in cols_list if item != \"CASE_STATUS\"])\n",
    "print(s)"
   ]
  },
  {
   "cell_type": "markdown",
   "metadata": {},
   "source": [
    "### Encode the Data"
   ]
  },
  {
   "cell_type": "code",
   "execution_count": 13,
   "metadata": {
    "collapsed": true
   },
   "outputs": [],
   "source": [
    "import patsy"
   ]
  },
  {
   "cell_type": "code",
   "execution_count": null,
   "metadata": {},
   "outputs": [],
   "source": [
    "X = df[[\"EMPLOYER_NAME\", \"JOB_TITLE\", \"FULL_TIME_POSITION\", \"PREVAILING_WAGE\", \"YEAR\", \"WORKSITE\"]]"
   ]
  },
  {
   "cell_type": "code",
   "execution_count": null,
   "metadata": {
    "collapsed": true
   },
   "outputs": [],
   "source": [
    "X_enc = patsy.dmatrix(s, X, return_type='dataframe')"
   ]
  },
  {
   "cell_type": "markdown",
   "metadata": {},
   "source": [
    "#### Split the Data you just encoded"
   ]
  },
  {
   "cell_type": "markdown",
   "metadata": {},
   "source": [
    "## Classification Model"
   ]
  },
  {
   "cell_type": "code",
   "execution_count": null,
   "metadata": {
    "collapsed": true
   },
   "outputs": [],
   "source": [
    "## Sample 10 000 instances. "
   ]
  },
  {
   "cell_type": "code",
   "execution_count": null,
   "metadata": {
    "collapsed": true
   },
   "outputs": [],
   "source": []
  },
  {
   "cell_type": "markdown",
   "metadata": {},
   "source": [
    "## Evaluation of Classification model"
   ]
  },
  {
   "cell_type": "code",
   "execution_count": null,
   "metadata": {
    "collapsed": true
   },
   "outputs": [],
   "source": []
  }
 ],
 "metadata": {
  "kernelspec": {
   "display_name": "Python 3",
   "language": "python",
   "name": "python3"
  },
  "language_info": {
   "codemirror_mode": {
    "name": "ipython",
    "version": 3
   },
   "file_extension": ".py",
   "mimetype": "text/x-python",
   "name": "python",
   "nbconvert_exporter": "python",
   "pygments_lexer": "ipython3",
   "version": "3.6.1"
  }
 },
 "nbformat": 4,
 "nbformat_minor": 2
}
