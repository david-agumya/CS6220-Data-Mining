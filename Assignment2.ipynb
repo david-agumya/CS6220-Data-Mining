{
 "cells": [
  {
   "cell_type": "markdown",
   "metadata": {},
   "source": [
    "# Assignment 2 - Data Mining "
   ]
  },
  {
   "cell_type": "code",
   "execution_count": 119,
   "metadata": {},
   "outputs": [
    {
     "name": "stdout",
     "output_type": "stream",
     "text": [
      "Populating the interactive namespace from numpy and matplotlib\n"
     ]
    }
   ],
   "source": [
    "%pylab inline\n",
    "import pandas as pd \n",
    "# Use the url for the remote location of the dataset \n",
    "iris_file_URL = \"http://archive.ics.uci.edu/ml/machine-learning-databases/iris/iris.data\"\n",
    "# Use the special methods available in panda to read the file from the url. \n",
    "iris_df = pd.read_csv(iris_file_URL, names=['Sepal Length', 'Sepal Width',\n",
    "                                           'Petal Length', 'Petal Width', 'Name'], header=None)"
   ]
  },
  {
   "cell_type": "markdown",
   "metadata": {},
   "source": [
    "## 1.1  Summary Statistics for the Iris-flower Data Set"
   ]
  },
  {
   "cell_type": "markdown",
   "metadata": {},
   "source": [
    "a. __ Analysis of the data type and features in the data frame __"
   ]
  },
  {
   "cell_type": "code",
   "execution_count": 120,
   "metadata": {},
   "outputs": [
    {
     "data": {
      "text/html": [
       "<div>\n",
       "<style>\n",
       "    .dataframe thead tr:only-child th {\n",
       "        text-align: right;\n",
       "    }\n",
       "\n",
       "    .dataframe thead th {\n",
       "        text-align: left;\n",
       "    }\n",
       "\n",
       "    .dataframe tbody tr th {\n",
       "        vertical-align: top;\n",
       "    }\n",
       "</style>\n",
       "<table border=\"1\" class=\"dataframe\">\n",
       "  <thead>\n",
       "    <tr style=\"text-align: right;\">\n",
       "      <th></th>\n",
       "      <th>Sepal Length</th>\n",
       "      <th>Sepal Width</th>\n",
       "      <th>Petal Length</th>\n",
       "      <th>Petal Width</th>\n",
       "      <th>Name</th>\n",
       "    </tr>\n",
       "  </thead>\n",
       "  <tbody>\n",
       "    <tr>\n",
       "      <th>0</th>\n",
       "      <td>5.1</td>\n",
       "      <td>3.5</td>\n",
       "      <td>1.4</td>\n",
       "      <td>0.2</td>\n",
       "      <td>Iris-setosa</td>\n",
       "    </tr>\n",
       "    <tr>\n",
       "      <th>1</th>\n",
       "      <td>4.9</td>\n",
       "      <td>3.0</td>\n",
       "      <td>1.4</td>\n",
       "      <td>0.2</td>\n",
       "      <td>Iris-setosa</td>\n",
       "    </tr>\n",
       "    <tr>\n",
       "      <th>2</th>\n",
       "      <td>4.7</td>\n",
       "      <td>3.2</td>\n",
       "      <td>1.3</td>\n",
       "      <td>0.2</td>\n",
       "      <td>Iris-setosa</td>\n",
       "    </tr>\n",
       "    <tr>\n",
       "      <th>3</th>\n",
       "      <td>4.6</td>\n",
       "      <td>3.1</td>\n",
       "      <td>1.5</td>\n",
       "      <td>0.2</td>\n",
       "      <td>Iris-setosa</td>\n",
       "    </tr>\n",
       "    <tr>\n",
       "      <th>4</th>\n",
       "      <td>5.0</td>\n",
       "      <td>3.6</td>\n",
       "      <td>1.4</td>\n",
       "      <td>0.2</td>\n",
       "      <td>Iris-setosa</td>\n",
       "    </tr>\n",
       "  </tbody>\n",
       "</table>\n",
       "</div>"
      ],
      "text/plain": [
       "   Sepal Length  Sepal Width  Petal Length  Petal Width         Name\n",
       "0           5.1          3.5           1.4          0.2  Iris-setosa\n",
       "1           4.9          3.0           1.4          0.2  Iris-setosa\n",
       "2           4.7          3.2           1.3          0.2  Iris-setosa\n",
       "3           4.6          3.1           1.5          0.2  Iris-setosa\n",
       "4           5.0          3.6           1.4          0.2  Iris-setosa"
      ]
     },
     "execution_count": 120,
     "metadata": {},
     "output_type": "execute_result"
    }
   ],
   "source": [
    "iris_df.head()"
   ]
  },
  {
   "cell_type": "markdown",
   "metadata": {},
   "source": [
    "+ There 4 features in the Iris Data Frame. The features and the corresponding types, are \n",
    "    1. Sepal Length - Numerical\n",
    "    2. Sepal Width - Numerical \n",
    "    3. Petal Length - Numerical\n",
    "    4. Petal Width - Nominal"
   ]
  },
  {
   "cell_type": "markdown",
   "metadata": {},
   "source": [
    " b. __ Summary Statistics for each feature in the data set__"
   ]
  },
  {
   "cell_type": "code",
   "execution_count": 121,
   "metadata": {},
   "outputs": [],
   "source": [
    "def display_summary(feature_series_name):\n",
    "    ''' Given a feature from the iris_data-set return the features summary statisticts'''\n",
    "    feature_series = iris_df[feature_series_name]\n",
    "    print(\"Minimum : {}\".format(str(feature_series.min())))\n",
    "    print(\"Maximum : {}\".format(str(feature_series.max())))\n",
    "    print(\"Mean : {}\".format(str(feature_series.mean())))\n",
    "    print(\"Range : {}\".format(str(feature_series.ptp())))\n",
    "    print(\"Variance : {}\".format(str(feature_series.var())))\n",
    "    print(\"Standard Deviation : {}\".format(str(feature_series.std())))\n",
    "    print(\"25% Quartile : {}\".format(str(iris_df.quantile(.25)[feature_series_name])))\n",
    "    print(\"50% Quartile : {}\".format(str(iris_df.quantile(.50)[feature_series_name])))\n",
    "    print(\"75% Quartile : {}\".format(str(iris_df.quantile(.75)[feature_series_name])))"
   ]
  },
  {
   "cell_type": "code",
   "execution_count": 122,
   "metadata": {},
   "outputs": [],
   "source": [
    "def summary_ppt(feature):\n",
    "    print(\"Summary Statistics for : {}\".format(feature))\n",
    "    print(\"-\"* 60)\n",
    "    display_summary(feature)\n",
    "    print(\"-\"*80)"
   ]
  },
  {
   "cell_type": "code",
   "execution_count": 123,
   "metadata": {},
   "outputs": [
    {
     "name": "stdout",
     "output_type": "stream",
     "text": [
      "Summary Statistics for : Sepal Length\n",
      "------------------------------------------------------------\n",
      "Minimum : 4.3\n",
      "Maximum : 7.9\n",
      "Mean : 5.843333333333335\n",
      "Range : 3.6\n",
      "Variance : 0.6856935123042505\n",
      "Standard Deviation : 0.8280661279778629\n",
      "25% Quartile : 5.1\n",
      "50% Quartile : 5.8\n",
      "75% Quartile : 6.4\n",
      "--------------------------------------------------------------------------------\n",
      "Summary Statistics for : Sepal Width\n",
      "------------------------------------------------------------\n",
      "Minimum : 2.0\n",
      "Maximum : 4.4\n",
      "Mean : 3.0540000000000007\n",
      "Range : 2.4\n",
      "Variance : 0.18800402684563763\n",
      "Standard Deviation : 0.4335943113621737\n",
      "25% Quartile : 2.8\n",
      "50% Quartile : 3.0\n",
      "75% Quartile : 3.3\n",
      "--------------------------------------------------------------------------------\n",
      "Summary Statistics for : Petal Length\n",
      "------------------------------------------------------------\n",
      "Minimum : 1.0\n",
      "Maximum : 6.9\n",
      "Mean : 3.7586666666666693\n",
      "Range : 5.9\n",
      "Variance : 3.1131794183445156\n",
      "Standard Deviation : 1.7644204199522617\n",
      "25% Quartile : 1.6\n",
      "50% Quartile : 4.35\n",
      "75% Quartile : 5.1\n",
      "--------------------------------------------------------------------------------\n",
      "Summary Statistics for : Petal Width\n",
      "------------------------------------------------------------\n",
      "Minimum : 0.1\n",
      "Maximum : 2.5\n",
      "Mean : 1.1986666666666672\n",
      "Range : 2.4\n",
      "Variance : 0.5824143176733784\n",
      "Standard Deviation : 0.7631607417008414\n",
      "25% Quartile : 0.3\n",
      "50% Quartile : 1.3\n",
      "75% Quartile : 1.8\n",
      "--------------------------------------------------------------------------------\n"
     ]
    },
    {
     "data": {
      "text/plain": [
       "[None, None, None, None]"
      ]
     },
     "execution_count": 123,
     "metadata": {},
     "output_type": "execute_result"
    }
   ],
   "source": [
    "# Display the Summary for each feature\n",
    "[summary_ppt(col) for col in iris_df.columns if col != 'Name']"
   ]
  },
  {
   "cell_type": "markdown",
   "metadata": {},
   "source": [
    "## 1.2  Data Visualization for the Iris-flower Data Set"
   ]
  },
  {
   "cell_type": "code",
   "execution_count": 124,
   "metadata": {
    "collapsed": true
   },
   "outputs": [],
   "source": [
    "\n",
    "def box_plot_feature(feature):\n",
    "    iris_df[feature].plot(kind='box')\n",
    "\n",
    "def hist_plot_feature(feature):\n",
    "    iris_df[feature].plot(kind='hist')\n",
    "    "
   ]
  },
  {
   "cell_type": "markdown",
   "metadata": {},
   "source": [
    "#### Sepal Length Visualization - Histogram and Box Plot"
   ]
  },
  {
   "cell_type": "code",
   "execution_count": 125,
   "metadata": {},
   "outputs": [
    {
     "data": {
      "image/png": "[encoded data removed]",
      "text/plain": [
       "<matplotlib.figure.Figure at 0x1212cbf60>"
      ]
     },
     "metadata": {},
     "output_type": "display_data"
    }
   ],
   "source": [
    "box_plot_feature('Sepal Length')"
   ]
  },
  {
   "cell_type": "code",
   "execution_count": 126,
   "metadata": {},
   "outputs": [
    {
     "data": {
      "image/png": "[encoded data removed]",
      "text/plain": [
       "<matplotlib.figure.Figure at 0x11f6d71d0>"
      ]
     },
     "metadata": {},
     "output_type": "display_data"
    }
   ],
   "source": [
    "hist_plot_feature('Sepal Length')"
   ]
  },
  {
   "cell_type": "markdown",
   "metadata": {},
   "source": [
    "#### Sepal Width Visualization - Histogram and Box Plot"
   ]
  },
  {
   "cell_type": "code",
   "execution_count": 127,
   "metadata": {},
   "outputs": [
    {
     "data": {
      "image/png": "[encoded data removed]",
      "text/plain": [
       "<matplotlib.figure.Figure at 0x1205711d0>"
      ]
     },
     "metadata": {},
     "output_type": "display_data"
    }
   ],
   "source": [
    "box_plot_feature('Sepal Width')"
   ]
  },
  {
   "cell_type": "code",
   "execution_count": 128,
   "metadata": {},
   "outputs": [
    {
     "data": {
      "image/png": "[encoded data removed]",
      "text/plain": [
       "<matplotlib.figure.Figure at 0x11f583630>"
      ]
     },
     "metadata": {},
     "output_type": "display_data"
    }
   ],
   "source": [
    "hist_plot_feature('Sepal Width')"
   ]
  },
  {
   "cell_type": "markdown",
   "metadata": {},
   "source": [
    "#### Petal Length Visualization - Histogram and Box Plot"
   ]
  },
  {
   "cell_type": "code",
   "execution_count": 129,
   "metadata": {},
   "outputs": [
    {
     "data": {
      "image/png": "[encoded data removed]",
      "text/plain": [
       "<matplotlib.figure.Figure at 0x120410780>"
      ]
     },
     "metadata": {},
     "output_type": "display_data"
    }
   ],
   "source": [
    "box_plot_feature('Petal Length')"
   ]
  },
  {
   "cell_type": "code",
   "execution_count": 130,
   "metadata": {},
   "outputs": [
    {
     "data": {
      "image/png": "[encoded data removed]",
      "text/plain": [
       "<matplotlib.figure.Figure at 0x120f81358>"
      ]
     },
     "metadata": {},
     "output_type": "display_data"
    }
   ],
   "source": [
    "hist_plot_feature('Petal Length')"
   ]
  },
  {
   "cell_type": "markdown",
   "metadata": {},
   "source": [
    "#### Petal Width Visualization - Histogram and Box Plot"
   ]
  },
  {
   "cell_type": "code",
   "execution_count": 131,
   "metadata": {},
   "outputs": [
    {
     "data": {
      "image/png": "[encoded data removed]",
      "text/plain": [
       "<matplotlib.figure.Figure at 0x120b07d68>"
      ]
     },
     "metadata": {},
     "output_type": "display_data"
    }
   ],
   "source": [
    "box_plot_feature('Petal Width')"
   ]
  },
  {
   "cell_type": "code",
   "execution_count": 132,
   "metadata": {},
   "outputs": [
    {
     "data": {
      "image/png": "[encoded data removed]",
      "text/plain": [
       "<matplotlib.figure.Figure at 0x1212656d8>"
      ]
     },
     "metadata": {},
     "output_type": "display_data"
    }
   ],
   "source": [
    "hist_plot_feature('Petal Width')"
   ]
  },
  {
   "cell_type": "markdown",
   "metadata": {},
   "source": [
    "#### Iris Data Set All - Feature Visualization - Histogram and Box Plot"
   ]
  },
  {
   "cell_type": "code",
   "execution_count": 137,
   "metadata": {},
   "outputs": [
    {
     "data": {
      "text/plain": [
       "<matplotlib.axes._subplots.AxesSubplot at 0x121094128>"
      ]
     },
     "execution_count": 137,
     "metadata": {},
     "output_type": "execute_result"
    },
    {
     "data": {
      "image/png": "[encoded data removed]",
      "text/plain": [
       "<matplotlib.figure.Figure at 0x120f81cf8>"
      ]
     },
     "metadata": {},
     "output_type": "display_data"
    }
   ],
   "source": [
    "iris_df.boxplot(column=['Sepal Length', 'Sepal Width', 'Petal Length', 'Petal Width'], grid=False)"
   ]
  },
  {
   "cell_type": "code",
   "execution_count": 138,
   "metadata": {},
   "outputs": [
    {
     "data": {
      "text/plain": [
       "array([[<matplotlib.axes._subplots.AxesSubplot object at 0x1210e7a20>,\n",
       "        <matplotlib.axes._subplots.AxesSubplot object at 0x1218aa908>],\n",
       "       [<matplotlib.axes._subplots.AxesSubplot object at 0x1218bf5c0>,\n",
       "        <matplotlib.axes._subplots.AxesSubplot object at 0x12197a828>]], dtype=object)"
      ]
     },
     "execution_count": 138,
     "metadata": {},
     "output_type": "execute_result"
    },
    {
     "data": {
      "image/png": "[encoded data removed]",
      "text/plain": [
       "<matplotlib.figure.Figure at 0x1210f2390>"
      ]
     },
     "metadata": {},
     "output_type": "display_data"
    }
   ],
   "source": [
    "iris_df.hist(column=['Sepal Length', 'Sepal Width', 'Petal Length', 'Petal Width'], grid=False)"
   ]
  },
  {
   "cell_type": "code",
   "execution_count": null,
   "metadata": {
    "collapsed": true
   },
   "outputs": [],
   "source": []
  }
 ],
 "metadata": {
  "kernelspec": {
   "display_name": "Python 3",
   "language": "python",
   "name": "python3"
  },
  "language_info": {
   "codemirror_mode": {
    "name": "ipython",
    "version": 3
   },
   "file_extension": ".py",
   "mimetype": "text/x-python",
   "name": "python",
   "nbconvert_exporter": "python",
   "pygments_lexer": "ipython3",
   "version": "3.6.1"
  }
 },
 "nbformat": 4,
 "nbformat_minor": 2
}
