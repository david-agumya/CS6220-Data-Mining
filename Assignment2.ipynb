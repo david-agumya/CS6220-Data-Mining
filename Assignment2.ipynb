{
 "cells": [
  {
   "cell_type": "markdown",
   "metadata": {},
   "source": [
    "# Assignment 2 - Data Mining "
   ]
  },
  {
   "cell_type": "code",
   "execution_count": 1,
   "metadata": {},
   "outputs": [
    {
     "name": "stdout",
     "output_type": "stream",
     "text": [
      "Populating the interactive namespace from numpy and matplotlib\n"
     ]
    }
   ],
   "source": [
    "%pylab inline\n",
    "import pandas as pd \n",
    "# Use the url for the remote location of the dataset \n",
    "iris_file_URL = \"http://archive.ics.uci.edu/ml/machine-learning-databases/iris/iris.data\"\n",
    "# Use the special methods available in panda to read the file from the url. \n",
    "iris_df = pd.read_csv(iris_file_URL, names=['Sepal Length', 'Sepal Width',\n",
    "                                           'Petal Length', 'Petal Width', 'Name'], header=None)"
   ]
  },
  {
   "cell_type": "markdown",
   "metadata": {},
   "source": [
    "## 1.1  Summary Statistics for the Iris-flower Data Set"
   ]
  },
  {
   "cell_type": "markdown",
   "metadata": {},
   "source": [
    "a. __ Analysis of the data type and features in the data frame __"
   ]
  },
  {
   "cell_type": "code",
   "execution_count": 2,
   "metadata": {},
   "outputs": [
    {
     "data": {
      "text/html": [
       "<div>\n",
       "<style>\n",
       "    .dataframe thead tr:only-child th {\n",
       "        text-align: right;\n",
       "    }\n",
       "\n",
       "    .dataframe thead th {\n",
       "        text-align: left;\n",
       "    }\n",
       "\n",
       "    .dataframe tbody tr th {\n",
       "        vertical-align: top;\n",
       "    }\n",
       "</style>\n",
       "<table border=\"1\" class=\"dataframe\">\n",
       "  <thead>\n",
       "    <tr style=\"text-align: right;\">\n",
       "      <th></th>\n",
       "      <th>Sepal Length</th>\n",
       "      <th>Sepal Width</th>\n",
       "      <th>Petal Length</th>\n",
       "      <th>Petal Width</th>\n",
       "      <th>Name</th>\n",
       "    </tr>\n",
       "  </thead>\n",
       "  <tbody>\n",
       "    <tr>\n",
       "      <th>0</th>\n",
       "      <td>5.1</td>\n",
       "      <td>3.5</td>\n",
       "      <td>1.4</td>\n",
       "      <td>0.2</td>\n",
       "      <td>Iris-setosa</td>\n",
       "    </tr>\n",
       "    <tr>\n",
       "      <th>1</th>\n",
       "      <td>4.9</td>\n",
       "      <td>3.0</td>\n",
       "      <td>1.4</td>\n",
       "      <td>0.2</td>\n",
       "      <td>Iris-setosa</td>\n",
       "    </tr>\n",
       "    <tr>\n",
       "      <th>2</th>\n",
       "      <td>4.7</td>\n",
       "      <td>3.2</td>\n",
       "      <td>1.3</td>\n",
       "      <td>0.2</td>\n",
       "      <td>Iris-setosa</td>\n",
       "    </tr>\n",
       "    <tr>\n",
       "      <th>3</th>\n",
       "      <td>4.6</td>\n",
       "      <td>3.1</td>\n",
       "      <td>1.5</td>\n",
       "      <td>0.2</td>\n",
       "      <td>Iris-setosa</td>\n",
       "    </tr>\n",
       "    <tr>\n",
       "      <th>4</th>\n",
       "      <td>5.0</td>\n",
       "      <td>3.6</td>\n",
       "      <td>1.4</td>\n",
       "      <td>0.2</td>\n",
       "      <td>Iris-setosa</td>\n",
       "    </tr>\n",
       "  </tbody>\n",
       "</table>\n",
       "</div>"
      ],
      "text/plain": [
       "   Sepal Length  Sepal Width  Petal Length  Petal Width         Name\n",
       "0           5.1          3.5           1.4          0.2  Iris-setosa\n",
       "1           4.9          3.0           1.4          0.2  Iris-setosa\n",
       "2           4.7          3.2           1.3          0.2  Iris-setosa\n",
       "3           4.6          3.1           1.5          0.2  Iris-setosa\n",
       "4           5.0          3.6           1.4          0.2  Iris-setosa"
      ]
     },
     "execution_count": 2,
     "metadata": {},
     "output_type": "execute_result"
    }
   ],
   "source": [
    "iris_df.head()"
   ]
  },
  {
   "cell_type": "markdown",
   "metadata": {},
   "source": [
    "+ There 4 features in the Iris Data Frame. The features and the corresponding types, are \n",
    "    1. Sepal Length - Numerical\n",
    "    2. Sepal Width - Numerical \n",
    "    3. Petal Length - Numerical\n",
    "    4. Petal Width - Nominal"
   ]
  },
  {
   "cell_type": "markdown",
   "metadata": {},
   "source": [
    " b. __ Summary Statistics for each feature in the data set__"
   ]
  },
  {
   "cell_type": "code",
   "execution_count": 3,
   "metadata": {
    "collapsed": true
   },
   "outputs": [],
   "source": [
    "def display_summary(feature_series_name):\n",
    "    ''' Given a feature from the iris_data-set return the features summary statisticts'''\n",
    "    feature_series = iris_df[feature_series_name]\n",
    "    print(\"Minimum : {}\".format(str(feature_series.min())))\n",
    "    print(\"Maximum : {}\".format(str(feature_series.max())))\n",
    "    print(\"Mean : {}\".format(str(feature_series.mean())))\n",
    "    print(\"Range : {}\".format(str(feature_series.ptp())))\n",
    "    print(\"Variance : {}\".format(str(feature_series.var())))\n",
    "    print(\"Standard Deviation : {}\".format(str(feature_series.std())))\n",
    "    print(\"25% Quartile : {}\".format(str(iris_df.quantile(.25)[feature_series_name])))\n",
    "    print(\"50% Quartile : {}\".format(str(iris_df.quantile(.50)[feature_series_name])))\n",
    "    print(\"75% Quartile : {}\".format(str(iris_df.quantile(.75)[feature_series_name])))"
   ]
  },
  {
   "cell_type": "code",
   "execution_count": 4,
   "metadata": {
    "collapsed": true
   },
   "outputs": [],
   "source": [
    "def summary_ppt(feature):\n",
    "    print(\"Summary Statistics for : {}\".format(feature))\n",
    "    print(\"-\"* 60)\n",
    "    display_summary(feature)\n",
    "    print(\"-\"*80)"
   ]
  },
  {
   "cell_type": "code",
   "execution_count": 5,
   "metadata": {},
   "outputs": [
    {
     "name": "stdout",
     "output_type": "stream",
     "text": [
      "Summary Statistics for : Sepal Length\n",
      "------------------------------------------------------------\n",
      "Minimum : 4.3\n",
      "Maximum : 7.9\n",
      "Mean : 5.843333333333335\n",
      "Range : 3.6\n",
      "Variance : 0.6856935123042505\n",
      "Standard Deviation : 0.8280661279778629\n",
      "25% Quartile : 5.1\n",
      "50% Quartile : 5.8\n",
      "75% Quartile : 6.4\n",
      "--------------------------------------------------------------------------------\n",
      "Summary Statistics for : Sepal Width\n",
      "------------------------------------------------------------\n",
      "Minimum : 2.0\n",
      "Maximum : 4.4\n",
      "Mean : 3.0540000000000007\n",
      "Range : 2.4\n",
      "Variance : 0.18800402684563763\n",
      "Standard Deviation : 0.4335943113621737\n",
      "25% Quartile : 2.8\n",
      "50% Quartile : 3.0\n",
      "75% Quartile : 3.3\n",
      "--------------------------------------------------------------------------------\n",
      "Summary Statistics for : Petal Length\n",
      "------------------------------------------------------------\n",
      "Minimum : 1.0\n",
      "Maximum : 6.9\n",
      "Mean : 3.7586666666666693\n",
      "Range : 5.9\n",
      "Variance : 3.1131794183445156\n",
      "Standard Deviation : 1.7644204199522617\n",
      "25% Quartile : 1.6\n",
      "50% Quartile : 4.35\n",
      "75% Quartile : 5.1\n",
      "--------------------------------------------------------------------------------\n",
      "Summary Statistics for : Petal Width\n",
      "------------------------------------------------------------\n",
      "Minimum : 0.1\n",
      "Maximum : 2.5\n",
      "Mean : 1.1986666666666672\n",
      "Range : 2.4\n",
      "Variance : 0.5824143176733784\n",
      "Standard Deviation : 0.7631607417008414\n",
      "25% Quartile : 0.3\n",
      "50% Quartile : 1.3\n",
      "75% Quartile : 1.8\n",
      "--------------------------------------------------------------------------------\n"
     ]
    },
    {
     "data": {
      "text/plain": [
       "[None, None, None, None]"
      ]
     },
     "execution_count": 5,
     "metadata": {},
     "output_type": "execute_result"
    }
   ],
   "source": [
    "# Display the Summary for each feature\n",
    "[summary_ppt(col) for col in iris_df.columns if col != 'Name']"
   ]
  },
  {
   "cell_type": "markdown",
   "metadata": {},
   "source": [
    "## 1.2  Data Visualization for the Iris-flower Data Set"
   ]
  },
  {
   "cell_type": "code",
   "execution_count": 6,
   "metadata": {
    "collapsed": true
   },
   "outputs": [],
   "source": [
    "\n",
    "def box_plot_feature(feature):\n",
    "    iris_df[feature].plot(kind='box')\n",
    "\n",
    "def hist_plot_feature(feature):\n",
    "    iris_df[feature].plot(kind='hist')\n",
    "    "
   ]
  },
  {
   "cell_type": "markdown",
   "metadata": {},
   "source": [
    "#### Sepal Length Visualization - Histogram and Box Plot"
   ]
  },
  {
   "cell_type": "code",
   "execution_count": 7,
   "metadata": {},
   "outputs": [
    {
     "data": {
      "image/png": "[encoded data removed]",
      "text/plain": [
       "<matplotlib.figure.Figure at 0x11a05c748>"
      ]
     },
     "metadata": {},
     "output_type": "display_data"
    }
   ],
   "source": [
    "box_plot_feature('Sepal Length')"
   ]
  },
  {
   "cell_type": "code",
   "execution_count": 8,
   "metadata": {},
   "outputs": [
    {
     "data": {
      "image/png": "[encoded data removed]",
      "text/plain": [
       "<matplotlib.figure.Figure at 0x1197baf28>"
      ]
     },
     "metadata": {},
     "output_type": "display_data"
    }
   ],
   "source": [
    "hist_plot_feature('Sepal Length')"
   ]
  },
  {
   "cell_type": "markdown",
   "metadata": {},
   "source": [
    "#### Sepal Width Visualization - Histogram and Box Plot"
   ]
  },
  {
   "cell_type": "code",
   "execution_count": 9,
   "metadata": {},
   "outputs": [
    {
     "data": {
      "image/png": "[encoded data removed]",
      "text/plain": [
       "<matplotlib.figure.Figure at 0x11d4e3d30>"
      ]
     },
     "metadata": {},
     "output_type": "display_data"
    }
   ],
   "source": [
    "box_plot_feature('Sepal Width')"
   ]
  },
  {
   "cell_type": "code",
   "execution_count": 10,
   "metadata": {},
   "outputs": [
    {
     "data": {
      "image/png": "[encoded data removed]",
      "text/plain": [
       "<matplotlib.figure.Figure at 0x11d4408d0>"
      ]
     },
     "metadata": {},
     "output_type": "display_data"
    }
   ],
   "source": [
    "hist_plot_feature('Sepal Width')"
   ]
  },
  {
   "cell_type": "markdown",
   "metadata": {},
   "source": [
    "#### Petal Length Visualization - Histogram and Box Plot"
   ]
  },
  {
   "cell_type": "code",
   "execution_count": 11,
   "metadata": {},
   "outputs": [
    {
     "data": {
      "image/png": "[encoded data removed]",
      "text/plain": [
       "<matplotlib.figure.Figure at 0x11d448780>"
      ]
     },
     "metadata": {},
     "output_type": "display_data"
    }
   ],
   "source": [
    "box_plot_feature('Petal Length')"
   ]
  },
  {
   "cell_type": "code",
   "execution_count": 12,
   "metadata": {},
   "outputs": [
    {
     "data": {
      "image/png": "[encoded data removed]",
      "text/plain": [
       "<matplotlib.figure.Figure at 0x11d887048>"
      ]
     },
     "metadata": {},
     "output_type": "display_data"
    }
   ],
   "source": [
    "hist_plot_feature('Petal Length')"
   ]
  },
  {
   "cell_type": "markdown",
   "metadata": {},
   "source": [
    "#### Petal Width Visualization - Histogram and Box Plot"
   ]
  },
  {
   "cell_type": "code",
   "execution_count": 13,
   "metadata": {},
   "outputs": [
    {
     "data": {
      "image/png": "[encoded data removed]",
      "text/plain": [
       "<matplotlib.figure.Figure at 0x11d77f8d0>"
      ]
     },
     "metadata": {},
     "output_type": "display_data"
    }
   ],
   "source": [
    "box_plot_feature('Petal Width')"
   ]
  },
  {
   "cell_type": "code",
   "execution_count": 14,
   "metadata": {},
   "outputs": [
    {
     "data": {
      "image/png": "[encoded data removed]",
      "text/plain": [
       "<matplotlib.figure.Figure at 0x11d8c9f28>"
      ]
     },
     "metadata": {},
     "output_type": "display_data"
    }
   ],
   "source": [
    "hist_plot_feature('Petal Width')"
   ]
  },
  {
   "cell_type": "markdown",
   "metadata": {},
   "source": [
    "#### Iris Data Set All - Feature Visualization - Histogram and Box Plot"
   ]
  },
  {
   "cell_type": "code",
   "execution_count": 15,
   "metadata": {},
   "outputs": [
    {
     "data": {
      "text/plain": [
       "<matplotlib.axes._subplots.AxesSubplot at 0x11dc50be0>"
      ]
     },
     "execution_count": 15,
     "metadata": {},
     "output_type": "execute_result"
    },
    {
     "data": {
      "image/png": "[encoded data removed]",
      "text/plain": [
       "<matplotlib.figure.Figure at 0x11db645c0>"
      ]
     },
     "metadata": {},
     "output_type": "display_data"
    }
   ],
   "source": [
    "iris_df.boxplot(column=['Sepal Length', 'Sepal Width', 'Petal Length', 'Petal Width'], grid=False)"
   ]
  },
  {
   "cell_type": "markdown",
   "metadata": {
    "collapsed": true
   },
   "source": [
    "### Side Notes \n",
    "##### Interpreting Box plots \n",
    "Box plots enable us to study distribution characteristics The data they plot is sorted. The sorted data is ploted in quartile groups 25% 50% 75% are the inner boundaries that form the rectangle we see in the graph. The middle box represents the middle 50% of the group, the box represents the inter quatile range. The upper and lower whiskers represent scores outside the middle 50%. Whiskers often (but not always) stretch over a wider range of scores than the middle quartile groups.\n",
    "##### Observations\n",
    "* Relatively short box plot (whiskers included) suggest a low variance. \n",
    "* Relatively long box plot (whiskers included) suggest a high variance. \n",
    "* Difference in height between the box plots could suggest a difference between groups which is usually expected.\n",
    "* Uneven sizes in the quartiles - This shows that many values are for the series are similar at certain parts of the scale, but in other parts of the scale they are more variable. The long upper whisker in the sepal length measurements above example could suggest that there is alot of variance in the the upper quartile than the lower quatile of the measurements.\n",
    "* Coud consider the comparison of the medians for the measurements as a whole.\n",
    "* When data are skewed, the majority of the data are located on the high or low side of the graph. Skewness indicates that the data may not be normally distributed. \n",
    "* Outliers, which are data values that are far away from other data values, can strongly affect your results. This is because some data analyses, assumes the data being processed is normally distributed. \n"
   ]
  },
  {
   "cell_type": "markdown",
   "metadata": {
    "collapsed": true
   },
   "source": [
    "# Data Exploration - Digits DataSet"
   ]
  },
  {
   "cell_type": "code",
   "execution_count": 17,
   "metadata": {
    "collapsed": true
   },
   "outputs": [],
   "source": [
    "digits_URL = 'http://archive.ics.uci.edu/ml/machine-learning-databases/pendigits/pendigits.tra'\n",
    "feature = [str(x) for x in range(1,16)]\n",
    "digits_df = pd.read_csv(digits_URL,header=None)"
   ]
  },
  {
   "cell_type": "code",
   "execution_count": 18,
   "metadata": {},
   "outputs": [
    {
     "data": {
      "text/html": [
       "<div>\n",
       "<style>\n",
       "    .dataframe thead tr:only-child th {\n",
       "        text-align: right;\n",
       "    }\n",
       "\n",
       "    .dataframe thead th {\n",
       "        text-align: left;\n",
       "    }\n",
       "\n",
       "    .dataframe tbody tr th {\n",
       "        vertical-align: top;\n",
       "    }\n",
       "</style>\n",
       "<table border=\"1\" class=\"dataframe\">\n",
       "  <thead>\n",
       "    <tr style=\"text-align: right;\">\n",
       "      <th></th>\n",
       "      <th>0</th>\n",
       "      <th>1</th>\n",
       "      <th>2</th>\n",
       "      <th>3</th>\n",
       "      <th>4</th>\n",
       "      <th>5</th>\n",
       "      <th>6</th>\n",
       "      <th>7</th>\n",
       "      <th>8</th>\n",
       "      <th>9</th>\n",
       "      <th>10</th>\n",
       "      <th>11</th>\n",
       "      <th>12</th>\n",
       "      <th>13</th>\n",
       "      <th>14</th>\n",
       "      <th>15</th>\n",
       "      <th>16</th>\n",
       "    </tr>\n",
       "  </thead>\n",
       "  <tbody>\n",
       "    <tr>\n",
       "      <th>0</th>\n",
       "      <td>47</td>\n",
       "      <td>100</td>\n",
       "      <td>27</td>\n",
       "      <td>81</td>\n",
       "      <td>57</td>\n",
       "      <td>37</td>\n",
       "      <td>26</td>\n",
       "      <td>0</td>\n",
       "      <td>0</td>\n",
       "      <td>23</td>\n",
       "      <td>56</td>\n",
       "      <td>53</td>\n",
       "      <td>100</td>\n",
       "      <td>90</td>\n",
       "      <td>40</td>\n",
       "      <td>98</td>\n",
       "      <td>8</td>\n",
       "    </tr>\n",
       "    <tr>\n",
       "      <th>1</th>\n",
       "      <td>0</td>\n",
       "      <td>89</td>\n",
       "      <td>27</td>\n",
       "      <td>100</td>\n",
       "      <td>42</td>\n",
       "      <td>75</td>\n",
       "      <td>29</td>\n",
       "      <td>45</td>\n",
       "      <td>15</td>\n",
       "      <td>15</td>\n",
       "      <td>37</td>\n",
       "      <td>0</td>\n",
       "      <td>69</td>\n",
       "      <td>2</td>\n",
       "      <td>100</td>\n",
       "      <td>6</td>\n",
       "      <td>2</td>\n",
       "    </tr>\n",
       "    <tr>\n",
       "      <th>2</th>\n",
       "      <td>0</td>\n",
       "      <td>57</td>\n",
       "      <td>31</td>\n",
       "      <td>68</td>\n",
       "      <td>72</td>\n",
       "      <td>90</td>\n",
       "      <td>100</td>\n",
       "      <td>100</td>\n",
       "      <td>76</td>\n",
       "      <td>75</td>\n",
       "      <td>50</td>\n",
       "      <td>51</td>\n",
       "      <td>28</td>\n",
       "      <td>25</td>\n",
       "      <td>16</td>\n",
       "      <td>0</td>\n",
       "      <td>1</td>\n",
       "    </tr>\n",
       "    <tr>\n",
       "      <th>3</th>\n",
       "      <td>0</td>\n",
       "      <td>100</td>\n",
       "      <td>7</td>\n",
       "      <td>92</td>\n",
       "      <td>5</td>\n",
       "      <td>68</td>\n",
       "      <td>19</td>\n",
       "      <td>45</td>\n",
       "      <td>86</td>\n",
       "      <td>34</td>\n",
       "      <td>100</td>\n",
       "      <td>45</td>\n",
       "      <td>74</td>\n",
       "      <td>23</td>\n",
       "      <td>67</td>\n",
       "      <td>0</td>\n",
       "      <td>4</td>\n",
       "    </tr>\n",
       "    <tr>\n",
       "      <th>4</th>\n",
       "      <td>0</td>\n",
       "      <td>67</td>\n",
       "      <td>49</td>\n",
       "      <td>83</td>\n",
       "      <td>100</td>\n",
       "      <td>100</td>\n",
       "      <td>81</td>\n",
       "      <td>80</td>\n",
       "      <td>60</td>\n",
       "      <td>60</td>\n",
       "      <td>40</td>\n",
       "      <td>40</td>\n",
       "      <td>33</td>\n",
       "      <td>20</td>\n",
       "      <td>47</td>\n",
       "      <td>0</td>\n",
       "      <td>1</td>\n",
       "    </tr>\n",
       "  </tbody>\n",
       "</table>\n",
       "</div>"
      ],
      "text/plain": [
       "   0    1   2    3    4    5    6    7   8   9    10  11   12  13   14  15  16\n",
       "0  47  100  27   81   57   37   26    0   0  23   56  53  100  90   40  98   8\n",
       "1   0   89  27  100   42   75   29   45  15  15   37   0   69   2  100   6   2\n",
       "2   0   57  31   68   72   90  100  100  76  75   50  51   28  25   16   0   1\n",
       "3   0  100   7   92    5   68   19   45  86  34  100  45   74  23   67   0   4\n",
       "4   0   67  49   83  100  100   81   80  60  60   40  40   33  20   47   0   1"
      ]
     },
     "execution_count": 18,
     "metadata": {},
     "output_type": "execute_result"
    }
   ],
   "source": [
    "digits_df.head()"
   ]
  },
  {
   "cell_type": "code",
   "execution_count": 19,
   "metadata": {
    "collapsed": true
   },
   "outputs": [],
   "source": [
    "def summary_digits():\n",
    "    required_data_cols = digits_df.columns[:16] # We want to capture just the attributes not the class values\n",
    "    for feature in required_data_cols:\n",
    "        print(\"ATTRIBUTE : {}\".format(str(feature)))\n",
    "        print('-' * 80)\n",
    "        feature_series = digits_df[feature]\n",
    "        print(\"Minimum : {}\".format(str(feature_series.min())))\n",
    "        print(\"Maximum : {}\".format(str(feature_series.max())))\n",
    "        print(\"Mean : {}\".format(str(feature_series.mean())))\n",
    "        print(\"Range : {}\".format(str(feature_series.ptp())))\n",
    "        print(\"Variance : {}\".format(str(feature_series.var())))\n",
    "        print(\"Standard Deviation : {}\".format(str(feature_series.std())))\n",
    "        print(\"25% Quartile : {}\".format(str(digits_df.quantile(.25)[feature])))\n",
    "        print(\"50% Quartile : {}\".format(str(digits_df.quantile(.50)[feature])))\n",
    "        print(\"75% Quartile : {}\".format(str(digits_df.quantile(.75)[feature])))\n",
    "    "
   ]
  },
  {
   "cell_type": "code",
   "execution_count": 27,
   "metadata": {},
   "outputs": [
    {
     "data": {
      "text/plain": [
       "[0, 1, 2, 3, 4, 5, 6, 7, 8, 9, 10, 11, 12, 13, 14, 15]"
      ]
     },
     "execution_count": 27,
     "metadata": {},
     "output_type": "execute_result"
    }
   ],
   "source": [
    "required_data_cols = digits_df.columns[:16]\n",
    "required_data_cols = list(required_data_cols)\n",
    "required_data_cols"
   ]
  },
  {
   "cell_type": "code",
   "execution_count": 21,
   "metadata": {},
   "outputs": [
    {
     "name": "stdout",
     "output_type": "stream",
     "text": [
      "ATTRIBUTE : 0\n",
      "--------------------------------------------------------------------------------\n",
      "Minimum : 0\n",
      "Maximum : 100\n",
      "Mean : 37.384307445956765\n",
      "Range : 100\n",
      "Variance : 1110.3572927472146\n",
      "Standard Deviation : 33.32202413940688\n",
      "25% Quartile : 5.0\n",
      "50% Quartile : 31.0\n",
      "75% Quartile : 61.0\n",
      "ATTRIBUTE : 1\n",
      "--------------------------------------------------------------------------------\n",
      "Minimum : 0\n",
      "Maximum : 100\n",
      "Mean : 84.67934347477983\n",
      "Range : 100\n",
      "Variance : 283.86927297075\n",
      "Standard Deviation : 16.848420488898952\n",
      "25% Quartile : 76.0\n",
      "50% Quartile : 89.0\n",
      "75% Quartile : 100.0\n",
      "ATTRIBUTE : 2\n",
      "--------------------------------------------------------------------------------\n",
      "Minimum : 0\n",
      "Maximum : 100\n",
      "Mean : 40.00560448358687\n",
      "Range : 100\n",
      "Variance : 689.3788555467435\n",
      "Standard Deviation : 26.256025128468007\n",
      "25% Quartile : 20.0\n",
      "50% Quartile : 39.0\n",
      "75% Quartile : 58.0\n",
      "ATTRIBUTE : 3\n",
      "--------------------------------------------------------------------------------\n",
      "Minimum : 0\n",
      "Maximum : 100\n",
      "Mean : 82.88951160928742\n",
      "Range : 100\n",
      "Variance : 385.6738977195433\n",
      "Standard Deviation : 19.638581866304484\n",
      "25% Quartile : 70.0\n",
      "50% Quartile : 89.0\n",
      "75% Quartile : 100.0\n",
      "ATTRIBUTE : 4\n",
      "--------------------------------------------------------------------------------\n",
      "Minimum : 0\n",
      "Maximum : 100\n",
      "Mean : 50.87830264211369\n",
      "Range : 100\n",
      "Variance : 1219.9093836927193\n",
      "Standard Deviation : 34.92720120039279\n",
      "25% Quartile : 17.0\n",
      "50% Quartile : 56.0\n",
      "75% Quartile : 81.0\n",
      "ATTRIBUTE : 5\n",
      "--------------------------------------------------------------------------------\n",
      "Minimum : 0\n",
      "Maximum : 100\n",
      "Mean : 65.04443554843876\n",
      "Range : 100\n",
      "Variance : 749.5187779210469\n",
      "Standard Deviation : 27.377340592560245\n",
      "25% Quartile : 48.0\n",
      "50% Quartile : 71.0\n",
      "75% Quartile : 86.0\n",
      "ATTRIBUTE : 6\n",
      "--------------------------------------------------------------------------------\n",
      "Minimum : 0\n",
      "Maximum : 100\n",
      "Mean : 51.47184414198025\n",
      "Range : 100\n",
      "Variance : 941.2669904062527\n",
      "Standard Deviation : 30.680074810962452\n",
      "25% Quartile : 28.0\n",
      "50% Quartile : 54.0\n",
      "75% Quartile : 75.0\n",
      "ATTRIBUTE : 7\n",
      "--------------------------------------------------------------------------------\n",
      "Minimum : 0\n",
      "Maximum : 100\n",
      "Mean : 44.599679743795036\n",
      "Range : 100\n",
      "Variance : 940.0036085988962\n",
      "Standard Deviation : 30.659478283214412\n",
      "25% Quartile : 22.0\n",
      "50% Quartile : 42.0\n",
      "75% Quartile : 65.0\n",
      "ATTRIBUTE : 8\n",
      "--------------------------------------------------------------------------------\n",
      "Minimum : 0\n",
      "Maximum : 100\n",
      "Mean : 57.12997064318121\n",
      "Range : 100\n",
      "Variance : 1134.3653287859722\n",
      "Standard Deviation : 33.68034038999565\n",
      "25% Quartile : 30.0\n",
      "50% Quartile : 60.0\n",
      "75% Quartile : 88.0\n",
      "ATTRIBUTE : 9\n",
      "--------------------------------------------------------------------------------\n",
      "Minimum : 0\n",
      "Maximum : 100\n",
      "Mean : 34.06912196423806\n",
      "Range : 100\n",
      "Variance : 754.0510069161322\n",
      "Standard Deviation : 27.459989200947117\n",
      "25% Quartile : 7.0\n",
      "50% Quartile : 33.0\n",
      "75% Quartile : 55.0\n",
      "ATTRIBUTE : 10\n",
      "--------------------------------------------------------------------------------\n",
      "Minimum : 0\n",
      "Maximum : 100\n",
      "Mean : 61.41740058713638\n",
      "Range : 100\n",
      "Variance : 1378.6934967253508\n",
      "Standard Deviation : 37.13076213499193\n",
      "25% Quartile : 25.0\n",
      "50% Quartile : 74.0\n",
      "75% Quartile : 98.0\n",
      "ATTRIBUTE : 11\n",
      "--------------------------------------------------------------------------------\n",
      "Minimum : 0\n",
      "Maximum : 100\n",
      "Mean : 35.7820923405391\n",
      "Range : 100\n",
      "Variance : 756.0209738144993\n",
      "Standard Deviation : 27.49583557221892\n",
      "25% Quartile : 12.0\n",
      "50% Quartile : 32.0\n",
      "75% Quartile : 57.0\n",
      "ATTRIBUTE : 12\n",
      "--------------------------------------------------------------------------------\n",
      "Minimum : 0\n",
      "Maximum : 100\n",
      "Mean : 54.69975980784628\n",
      "Range : 100\n",
      "Variance : 510.7500946973992\n",
      "Standard Deviation : 22.599780855074663\n",
      "25% Quartile : 41.0\n",
      "50% Quartile : 53.0\n",
      "75% Quartile : 69.0\n",
      "ATTRIBUTE : 13\n",
      "--------------------------------------------------------------------------------\n",
      "Minimum : 0\n",
      "Maximum : 100\n",
      "Mean : 35.80077395249533\n",
      "Range : 100\n",
      "Variance : 1103.8082951435906\n",
      "Standard Deviation : 33.22361050734237\n",
      "25% Quartile : 7.0\n",
      "50% Quartile : 28.0\n",
      "75% Quartile : 48.0\n",
      "ATTRIBUTE : 14\n",
      "--------------------------------------------------------------------------------\n",
      "Minimum : 0\n",
      "Maximum : 100\n",
      "Mean : 46.81371764077929\n",
      "Range : 100\n",
      "Variance : 1724.889890541358\n",
      "Standard Deviation : 41.53179373132538\n",
      "25% Quartile : 0.0\n",
      "50% Quartile : 39.0\n",
      "75% Quartile : 100.0\n",
      "ATTRIBUTE : 15\n",
      "--------------------------------------------------------------------------------\n",
      "Minimum : 0\n",
      "Maximum : 100\n",
      "Mean : 28.56538564184681\n",
      "Range : 100\n",
      "Variance : 1282.4344669739326\n",
      "Standard Deviation : 35.811094188448536\n",
      "25% Quartile : 0.0\n",
      "50% Quartile : 8.0\n",
      "75% Quartile : 51.0\n"
     ]
    }
   ],
   "source": [
    "summary_digits()"
   ]
  },
  {
   "cell_type": "markdown",
   "metadata": {},
   "source": [
    "### Digits Visualisation"
   ]
  },
  {
   "cell_type": "markdown",
   "metadata": {},
   "source": [
    "** Digits DataSet Histogram Data Visualisation **"
   ]
  },
  {
   "cell_type": "code",
   "execution_count": 22,
   "metadata": {},
   "outputs": [
    {
     "data": {
      "text/plain": [
       "array([[<matplotlib.axes._subplots.AxesSubplot object at 0x11db48550>,\n",
       "        <matplotlib.axes._subplots.AxesSubplot object at 0x11d5c6710>,\n",
       "        <matplotlib.axes._subplots.AxesSubplot object at 0x11d7ad128>],\n",
       "       [<matplotlib.axes._subplots.AxesSubplot object at 0x11d4417b8>,\n",
       "        <matplotlib.axes._subplots.AxesSubplot object at 0x11dc01b00>,\n",
       "        <matplotlib.axes._subplots.AxesSubplot object at 0x11dc01b38>],\n",
       "       [<matplotlib.axes._subplots.AxesSubplot object at 0x11d56e128>,\n",
       "        <matplotlib.axes._subplots.AxesSubplot object at 0x11dd97518>,\n",
       "        <matplotlib.axes._subplots.AxesSubplot object at 0x110218a58>],\n",
       "       [<matplotlib.axes._subplots.AxesSubplot object at 0x110227f28>,\n",
       "        <matplotlib.axes._subplots.AxesSubplot object at 0x11e3c0f98>,\n",
       "        <matplotlib.axes._subplots.AxesSubplot object at 0x11e3da588>],\n",
       "       [<matplotlib.axes._subplots.AxesSubplot object at 0x11e499048>,\n",
       "        <matplotlib.axes._subplots.AxesSubplot object at 0x11e4f27f0>,\n",
       "        <matplotlib.axes._subplots.AxesSubplot object at 0x11e6dde48>],\n",
       "       [<matplotlib.axes._subplots.AxesSubplot object at 0x11e745208>,\n",
       "        <matplotlib.axes._subplots.AxesSubplot object at 0x11e7b7e80>,\n",
       "        <matplotlib.axes._subplots.AxesSubplot object at 0x11e8207f0>]], dtype=object)"
      ]
     },
     "execution_count": 22,
     "metadata": {},
     "output_type": "execute_result"
    },
    {
     "data": {
      "image/png": "[encoded data removed]",
      "text/plain": [
       "<matplotlib.figure.Figure at 0x11d94e2e8>"
      ]
     },
     "metadata": {},
     "output_type": "display_data"
    }
   ],
   "source": [
    "digits_df.hist(column=required_data_cols, grid=False, figsize=(15,15), layout=(6,3))"
   ]
  },
  {
   "cell_type": "markdown",
   "metadata": {},
   "source": [
    "** Digits DataSet Box plot Data Visualisation **"
   ]
  },
  {
   "cell_type": "code",
   "execution_count": 34,
   "metadata": {},
   "outputs": [
    {
     "data": {
      "text/plain": [
       "<matplotlib.axes._subplots.AxesSubplot at 0x120a54e48>"
      ]
     },
     "execution_count": 34,
     "metadata": {},
     "output_type": "execute_result"
    },
    {
     "data": {
      "image/png": "[encoded data removed]",
      "text/plain": [
       "<matplotlib.figure.Figure at 0x120a83be0>"
      ]
     },
     "metadata": {},
     "output_type": "display_data"
    }
   ],
   "source": [
    "digits_df.boxplot(column=required_data_cols, grid=False, figsize=(12,6))"
   ]
  },
  {
   "cell_type": "markdown",
   "metadata": {
    "collapsed": true
   },
   "source": [
    "## 3 Conceptual Questions \n",
    "----\n",
    "** 3.1 Comparison of Petal Length and Petal Width Histogram shapes **"
   ]
  },
  {
   "cell_type": "code",
   "execution_count": 23,
   "metadata": {},
   "outputs": [
    {
     "data": {
      "text/plain": [
       "array([[<matplotlib.axes._subplots.AxesSubplot object at 0x11f157e48>,\n",
       "        <matplotlib.axes._subplots.AxesSubplot object at 0x11f0e1908>],\n",
       "       [<matplotlib.axes._subplots.AxesSubplot object at 0x11f249a58>,\n",
       "        <matplotlib.axes._subplots.AxesSubplot object at 0x11f2c7c50>]], dtype=object)"
      ]
     },
     "execution_count": 23,
     "metadata": {},
     "output_type": "execute_result"
    },
    {
     "data": {
      "image/png": "[encoded data removed]",
      "text/plain": [
       "<matplotlib.figure.Figure at 0x11f197588>"
      ]
     },
     "metadata": {},
     "output_type": "display_data"
    }
   ],
   "source": [
    "iris_df.hist(column=['Sepal Length', 'Sepal Width', 'Petal Length', 'Petal Width'], grid=False)"
   ]
  },
  {
   "cell_type": "markdown",
   "metadata": {},
   "source": [
    "In comparing the shapes of sepal length and width with petal length and width shows that relative to petal length and width the sepal lenght and width is more normally distributed. The petal length and width, seem to be left skewed as we have a higher frequence of the sepal width and length on the left with more smaller measurements than bigger measurements.  \n",
    "Looking at the petal length the particular value where you could divide the distribution in two, is at around 2.3. There no petal length measurements in this range therefore we could have two range with one being 0 - 2.3 and another from 2.7 to 6.9 cm"
   ]
  },
  {
   "cell_type": "markdown",
   "metadata": {},
   "source": [
    "----\n",
    "** 3.2 Iris DataSet - Pair of features with significant median difference **"
   ]
  },
  {
   "cell_type": "markdown",
   "metadata": {},
   "source": [
    "Sepal length and Petal Width have the greatest median difference with Sepal Length with a median of 5.8 and Petal Width with a median of 1.3. \n",
    "Petal Length, explains the greatest amount of the data. From the box plots we see that this feature has the greatest range in terms of the values associated with it. This large range enables the explanation of the greatest amount of data"
   ]
  },
  {
   "cell_type": "markdown",
   "metadata": {},
   "source": [
    "** 3.3 Digits DataSet **\n",
    "1. From the combined box plot of the Digits data above above we can see that the second and fourth features have a lot of outliers. \n",
    "2. Considering the histograms for the second and fourth,"
   ]
  },
  {
   "cell_type": "code",
   "execution_count": 38,
   "metadata": {},
   "outputs": [
    {
     "data": {
      "text/plain": [
       "array([[<matplotlib.axes._subplots.AxesSubplot object at 0x12276d518>,\n",
       "        <matplotlib.axes._subplots.AxesSubplot object at 0x122864748>,\n",
       "        <matplotlib.axes._subplots.AxesSubplot object at 0x122875b38>],\n",
       "       [<matplotlib.axes._subplots.AxesSubplot object at 0x122933898>,\n",
       "        <matplotlib.axes._subplots.AxesSubplot object at 0x122995080>,\n",
       "        <matplotlib.axes._subplots.AxesSubplot object at 0x1229950b8>],\n",
       "       [<matplotlib.axes._subplots.AxesSubplot object at 0x122a5fa58>,\n",
       "        <matplotlib.axes._subplots.AxesSubplot object at 0x122adb710>,\n",
       "        <matplotlib.axes._subplots.AxesSubplot object at 0x122b44080>],\n",
       "       [<matplotlib.axes._subplots.AxesSubplot object at 0x122b7d470>,\n",
       "        <matplotlib.axes._subplots.AxesSubplot object at 0x122bd8b70>,\n",
       "        <matplotlib.axes._subplots.AxesSubplot object at 0x122c11a90>],\n",
       "       [<matplotlib.axes._subplots.AxesSubplot object at 0x122caa588>,\n",
       "        <matplotlib.axes._subplots.AxesSubplot object at 0x122cb3da0>,\n",
       "        <matplotlib.axes._subplots.AxesSubplot object at 0x122d762b0>],\n",
       "       [<matplotlib.axes._subplots.AxesSubplot object at 0x122dd2b38>,\n",
       "        <matplotlib.axes._subplots.AxesSubplot object at 0x122e451d0>,\n",
       "        <matplotlib.axes._subplots.AxesSubplot object at 0x122ea5550>]], dtype=object)"
      ]
     },
     "execution_count": 38,
     "metadata": {},
     "output_type": "execute_result"
    },
    {
     "data": {
      "image/png": "[encoded data removed]",
      "text/plain": [
       "<matplotlib.figure.Figure at 0x12278e9b0>"
      ]
     },
     "metadata": {},
     "output_type": "display_data"
    }
   ],
   "source": [
    "# [1,3] - second and fourth features\n",
    "digits_df.hist(column=[1,3], grid=False, figsize=(15,15), layout=(6,3))"
   ]
  },
  {
   "cell_type": "markdown",
   "metadata": {},
   "source": [
    "The distribution shown by the histograms above depends on the area under the histogram, since most of the frequence of the readings for the second and fourth features is between and 40 and 100. Any reading less that 30 are termed as outliers because most of the reading for the features are between 40 and 100. This would explain the presence of outliers in the second and fourth features"
   ]
  },
  {
   "cell_type": "markdown",
   "metadata": {
    "collapsed": true
   },
   "source": [
    "> ### Grade: 100/100\n",
    "- 1.1 15/15\n",
    "- 1.2 20/20\n",
    "- 2.1 15/15\n",
    "- 2.2 20/20\n",
    "- 3.1 10/10\n",
    "- 3.2 10/10\n",
    "- 3.3 10/10\n",
    "\n",
    "> ** Good job! **"
   ]
  }
 ],
 "metadata": {
  "kernelspec": {
   "display_name": "Python 2",
   "language": "python",
   "name": "python2"
  },
  "language_info": {
   "codemirror_mode": {
    "name": "ipython",
    "version": 2
   },
   "file_extension": ".py",
   "mimetype": "text/x-python",
   "name": "python",
   "nbconvert_exporter": "python",
   "pygments_lexer": "ipython2",
   "version": "2.7.13"
  }
 },
 "nbformat": 4,
 "nbformat_minor": 2
}
